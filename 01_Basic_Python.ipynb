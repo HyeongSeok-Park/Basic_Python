{
 "cells": [
  {
   "cell_type": "markdown",
   "metadata": {},
   "source": [
    "1. 기본 파이썬"
   ]
  },
  {
   "cell_type": "code",
   "execution_count": 2,
   "metadata": {},
   "outputs": [],
   "source": [
    "import pandas as pd\n",
    "import numpy as np"
   ]
  },
  {
   "cell_type": "code",
   "execution_count": 3,
   "metadata": {},
   "outputs": [],
   "source": [
    "# 경고문 생략\n",
    "import warnings\n",
    "warnings.filterwarnings('ignore')"
   ]
  },
  {
   "cell_type": "code",
   "execution_count": 4,
   "metadata": {},
   "outputs": [
    {
     "name": "stdout",
     "output_type": "stream",
     "text": [
      "Life is too short, You need Python\n",
      "34\n",
      "o\n",
      "n\n",
      "P\n",
      "y\n",
      "Li\n",
      "Python\n",
      "Life is too short, You need Python\n",
      " is too short, You need Python\n",
      "Life is t\n"
     ]
    }
   ],
   "source": [
    "# 문자열 슬라이싱 - a [ index : index ]\n",
    "a = \"Life is too short, You need Python\"\n",
    "print(a)\n",
    "print(len(a)) # 변수 길이 출력\n",
    "print(a[10]) # 첫번째는 0 부터 시작\n",
    "print(a[-1]) # 뒤에서 시작시 -1 부터 시작\n",
    "print(a[-6])\n",
    "print(a[29])\n",
    "print(a[0:2])\n",
    "print(a[-6:34])\n",
    "print(a[-35:34])\n",
    "print(a[4:]) # 뒷자리 공란은 마지막 인덱스를 의미\n",
    "print(a[:9]) # 앞자리 공란은 첫번째 인덱스를 의미"
   ]
  },
  {
   "cell_type": "code",
   "execution_count": 5,
   "metadata": {},
   "outputs": [
    {
     "name": "stdout",
     "output_type": "stream",
     "text": [
      "Hello World\n",
      "Hello Korea\n"
     ]
    }
   ],
   "source": [
    "# 문자열 수정 - a.replace( ' b ' , ' c ' )\n",
    "b = 'Hello World'\n",
    "print(b)\n",
    "b1 = b.replace('World', 'Korea')\n",
    "print(b1)"
   ]
  },
  {
   "cell_type": "code",
   "execution_count": 6,
   "metadata": {},
   "outputs": [
    {
     "name": "stdout",
     "output_type": "stream",
     "text": [
      "    hi    \n",
      "hi    \n",
      "    hi\n",
      "hi\n"
     ]
    }
   ],
   "source": [
    "# 공백 제거 - a.strip ( ) / a.rstrip ( ) / a.lstrip ( )\n",
    "b = \"    hi    \"\n",
    "print(b)\n",
    "print(b.lstrip()) #문자열 왼쪽에 있는 공백을 제거\n",
    "print(b.rstrip()) #문자열 오른쪽에 있는 공백을 제거\n",
    "print(b.strip()) #문자열 양쪽에 있는 공백을 모두 제거"
   ]
  },
  {
   "cell_type": "code",
   "execution_count": 7,
   "metadata": {},
   "outputs": [
    {
     "name": "stdout",
     "output_type": "stream",
     "text": [
      "리스트 내용 추가 1 - append\n",
      "[1, 2, 3]\n",
      "[1, 2, 3, 4]\n",
      "[1, 2, 3, 4, '    hi    ']\n",
      "\n",
      "리스트 내용 추가 2 - extend\n",
      "[1, 2, 3]\n",
      "[1, 2, 3, 4]\n",
      "[1, 2, 3, 4, ' ', ' ', ' ', ' ', 'h', 'i', ' ', ' ', ' ', ' ']\n"
     ]
    }
   ],
   "source": [
    "# 리스트 내용 추가\n",
    "print('리스트 내용 추가 1 - append')\n",
    "d = [1,2,3]\n",
    "print(d)\n",
    "d.append(4) # 괄호 안의 값을 리스트에 있는 그대로 추가\n",
    "print(d)\n",
    "d.append(b)\n",
    "print(d)\n",
    "\n",
    "print('\\n리스트 내용 추가 2 - extend')\n",
    "e = [1,2,3]\n",
    "print(e)\n",
    "e.extend([4])\n",
    "# 참고 : 리스트값이 아닌 int값을 넣을 경우 에러발생\n",
    "print(e)\n",
    "e.extend(b) # 내부의 값을 작은 단위로 나눈 뒤 추가\n",
    "print(e)"
   ]
  },
  {
   "cell_type": "code",
   "execution_count": 8,
   "metadata": {},
   "outputs": [
    {
     "name": "stdout",
     "output_type": "stream",
     "text": [
      "나는 수박을 좋아합니다.\n",
      "john(은)는 사과 1개를 먹습니다.\n",
      "Python(은)는 6글자입니다.\n",
      "대문자로는 PYTHON이고, 소문자로는 python입니다.\n"
     ]
    }
   ],
   "source": [
    "# f-string - print ( f ' 문자열 { 변수 } ')\n",
    "# 문자열을 포멧팅하기 위한 방법 중 하나 (파이썬 3.6부터 추가됨)\n",
    "print(f'나는 수박을 좋아합니다.')\n",
    "x = 1\n",
    "y = 'john'\n",
    "print(f'{y}(은)는 사과 {x}개를 먹습니다.')\n",
    "word = 'Python'\n",
    "print(f'{word}(은)는 {len(word)}글자입니다.')\n",
    "print(f'대문자로는 {word.upper()}이고, 소문자로는 {word.lower()}입니다.')"
   ]
  },
  {
   "cell_type": "code",
   "execution_count": 9,
   "metadata": {},
   "outputs": [
    {
     "name": "stdout",
     "output_type": "stream",
     "text": [
      "p.match의 결과 \n",
      " <re.Match object; span=(0, 3), match='pyt'> \n",
      "\n",
      "p.search의 결과 \n",
      " <re.Match object; span=(3, 14), match='okkkkkkkkkn'>\n"
     ]
    }
   ],
   "source": [
    "# 정규표현식 - compile / match / search\n",
    "import re  #RE : Regular Expression\n",
    "\n",
    "# \\d : 숫자와 매치, '[0-9]'와 동일\n",
    "# \\D : 숫자가 아닌 것과 매치, '[^0-9]'와 동일\n",
    "# \\s : whitespadce 문자와 매치, '[ \\t\\n\\r\\f\\v]'와 동일 (띄워쓰기 포함)\n",
    "# \\S : whitespadce 문자가 아닌 것과 매치, '[^ \\t\\n\\r\\f\\v]'와 동일 (띄워쓰기 포함)\n",
    "# \\w : 문자+숫자(alphanumeric)와 매치, '[a-zA-Z0-9]'와 동일\n",
    "# \\W : 문자+숫자(alphanumeric)가 아닌 것과 매치, '[^a-zA-Z0-9]'와 동일\n",
    "\n",
    "p = re.compile('[a-z]+')  #p에 검색하고자 하는 정규표현식 입력\n",
    "m = p.match('pytHon')  #문자열의 처음부터 정규식과 매치되는지 확인\n",
    "print('p.match의 결과 \\n', m ,'\\n')\n",
    "n = p.search('3 Hokkkkkkkkkn')  #문자열 전체를 정규식과 매치되는지 확인\n",
    "print('p.search의 결과 \\n',n)"
   ]
  },
  {
   "cell_type": "markdown",
   "metadata": {},
   "source": [
    "2. DataFrame"
   ]
  },
  {
   "cell_type": "code",
   "execution_count": 10,
   "metadata": {},
   "outputs": [
    {
     "name": "stdout",
     "output_type": "stream",
     "text": [
      "데이터프레임 만들기 1 - pd.DataFrame ( )\n",
      "Empty DataFrame\n",
      "Columns: []\n",
      "Index: []\n",
      "\n",
      "데이터프레임 만들기 2 - pd.DataFrame ( np.zeros ( ( a , b ) ) )\n",
      "     0    1    2    3    4\n",
      "0  0.0  0.0  0.0  0.0  0.0\n",
      "1  0.0  0.0  0.0  0.0  0.0\n",
      "2  0.0  0.0  0.0  0.0  0.0\n",
      "3  0.0  0.0  0.0  0.0  0.0\n",
      "4  0.0  0.0  0.0  0.0  0.0\n",
      "5  0.0  0.0  0.0  0.0  0.0\n",
      "6  0.0  0.0  0.0  0.0  0.0\n",
      "7  0.0  0.0  0.0  0.0  0.0\n",
      "8  0.0  0.0  0.0  0.0  0.0\n",
      "9  0.0  0.0  0.0  0.0  0.0\n",
      "\n",
      "데이터프레임 만들기 3 - pd.DataFrame({\"컬럼명1\" : [a], \"컬럼명2\" : [b]})\n",
      "   column1  column2  column3\n",
      "0        0        5       10\n",
      "1        1        6       11\n",
      "2        1        7       12\n",
      "3        1        1        1\n",
      "4        1        9       14\n"
     ]
    }
   ],
   "source": [
    "# 데이터프레임 (Type : DataFrame())\n",
    "print('데이터프레임 만들기 1 - pd.DataFrame ( )')\n",
    "df1 = pd.DataFrame() # 빈 데이터프레임\n",
    "print(df1)\n",
    "\n",
    "print('\\n데이터프레임 만들기 2 - pd.DataFrame ( np.zeros ( ( a , b ) ) )')\n",
    "df2 = pd.DataFrame(np.zeros((10,5))) # 0 값을 가지는 데이터프레임 (02_Basic_Python 참조)\n",
    "print(df2)\n",
    "\n",
    "print('\\n데이터프레임 만들기 3 - pd.DataFrame({\"컬럼명1\" : [a], \"컬럼명2\" : [b]})')\n",
    "df3 = pd.DataFrame({'column1':[0, 1, 1, 1, 1],\n",
    "                    'column2':[5, 6, 7, 1, 9],\n",
    "                    'column3':[10, 11, 12, 1, 14]}) # index = [ , , ]으로 인덱스 지정 가능\n",
    "print(df3)"
   ]
  },
  {
   "attachments": {},
   "cell_type": "markdown",
   "metadata": {},
   "source": [
    "(데이터 출력)"
   ]
  },
  {
   "cell_type": "code",
   "execution_count": 11,
   "metadata": {},
   "outputs": [
    {
     "name": "stdout",
     "output_type": "stream",
     "text": [
      "데이터프레임 상위 출력 - df.head ( ) ; 기본값 5행\n",
      "     0    1    2    3    4\n",
      "0  0.0  0.0  0.0  0.0  0.0\n",
      "1  0.0  0.0  0.0  0.0  0.0\n",
      "2  0.0  0.0  0.0  0.0  0.0\n",
      "3  0.0  0.0  0.0  0.0  0.0\n",
      "4  0.0  0.0  0.0  0.0  0.0\n",
      "\n",
      "데이터프레임 하위 출력 - df.tail ( ) ; 기본값 5행\n",
      "     0    1    2    3    4\n",
      "8  0.0  0.0  0.0  0.0  0.0\n",
      "9  0.0  0.0  0.0  0.0  0.0\n",
      "\n",
      "데이터프레임 랜덤 출력 - df.sample ( ) ; 기본값 5행\n",
      "     0    1    2    3    4\n",
      "4  0.0  0.0  0.0  0.0  0.0\n",
      "7  0.0  0.0  0.0  0.0  0.0\n",
      "2  0.0  0.0  0.0  0.0  0.0\n",
      "8  0.0  0.0  0.0  0.0  0.0\n"
     ]
    }
   ],
   "source": [
    "# 데이터프레임 출력\n",
    "print('데이터프레임 상위 출력 - df.head ( ) ; 기본값 5행' )\n",
    "print(df2.head())\n",
    "print('\\n데이터프레임 하위 출력 - df.tail ( ) ; 기본값 5행' )\n",
    "print(df2.tail(2))\n",
    "print('\\n데이터프레임 랜덤 출력 - df.sample ( ) ; 기본값 5행' )\n",
    "print(df2.sample(4))"
   ]
  },
  {
   "cell_type": "code",
   "execution_count": 12,
   "metadata": {},
   "outputs": [
    {
     "name": "stdout",
     "output_type": "stream",
     "text": [
      "   column1  column2  column3\n",
      "0        0        5       10\n",
      "1        1        6       11\n",
      "2        1        7       12\n",
      "3        1        1        1\n",
      "4        1        9       14\n",
      "\n",
      "데이터프레임 열 출력 1 (컬럼명) - df [ \" 컬럼명 \" ]\n",
      "0    0\n",
      "1    1\n",
      "2    1\n",
      "3    1\n",
      "4    1\n",
      "Name: column1, dtype: int64\n",
      "\n",
      "데이터프레임 열 출력 2 (컬럼명) - df [ [ \" 컬럼명 \" ] ]\n",
      "   column1\n",
      "0        0\n",
      "1        1\n",
      "2        1\n",
      "3        1\n",
      "4        1\n",
      "\n",
      "데이터프레임 열 출력 3 (선택 열 제외) - df [ df.columns.difference ( [ \" 컬럼명 \" ] ) ]\n",
      "   column2  column3\n",
      "0        5       10\n",
      "1        6       11\n",
      "2        7       12\n"
     ]
    }
   ],
   "source": [
    "# 데이터프레임 열 출력\n",
    "print(df3)\n",
    "\n",
    "print('\\n데이터프레임 열 출력 1 (컬럼명) - df [ \" 컬럼명 \" ]')\n",
    "print(df3['column1'])  # Series 타입으로으로 출력\n",
    "\n",
    "print('\\n데이터프레임 열 출력 2 (컬럼명) - df [ [ \" 컬럼명 \" ] ]')\n",
    "print(df3[['column1']])  # Dataframe 타입으로 출력\n",
    "\n",
    "print('\\n데이터프레임 열 출력 3 (선택 열 제외) - df [ df.columns.difference ( [ \" 컬럼명 \" ] ) ]')\n",
    "print(df3[df3.columns.difference(['column1'])].head(3))"
   ]
  },
  {
   "cell_type": "code",
   "execution_count": 13,
   "metadata": {},
   "outputs": [
    {
     "name": "stdout",
     "output_type": "stream",
     "text": [
      "데이터프레임 열 출력 4 - df.loc [ 행index , \"컬럼명\" ]\n",
      "7 int64\n",
      "======== 구분선 ========\n",
      "1    6\n",
      "2    7\n",
      "Name: column2, dtype: int64 int64\n",
      "======== 구분선 ========\n",
      "   column2  column3\n",
      "1        6       11\n",
      "2        7       12\n",
      "======== 구분선 ========\n",
      "<class 'pandas.core.frame.DataFrame'>\n",
      "RangeIndex: 2 entries, 1 to 2\n",
      "Data columns (total 2 columns):\n",
      " #   Column   Non-Null Count  Dtype\n",
      "---  ------   --------------  -----\n",
      " 0   column2  2 non-null      int64\n",
      " 1   column3  2 non-null      int64\n",
      "dtypes: int64(2)\n",
      "memory usage: 164.0 bytes\n",
      "None\n"
     ]
    }
   ],
   "source": [
    "# 데이터프레임 열 출력\n",
    "print('데이터프레임 열 출력 4 - df.loc [ 행index , \"컬럼명\" ]')\n",
    "ddd1 = df3.loc[2,'column2']\n",
    "print(ddd1, ddd1.dtype)  # Series 타입으로 출력\n",
    "print('======== 구분선 ========')\n",
    "ddd2 = df3.loc[1:2,'column2']\n",
    "print(ddd2, ddd2.dtype)  # ' index  int타입 '형태의 Series 타입으로 출력\n",
    "print('======== 구분선 ========')\n",
    "ddd3 = df3.loc[1:2,['column2','column3']] # Dataframe 타입으로 출력\n",
    "print(ddd3)\n",
    "print('======== 구분선 ========')\n",
    "print(ddd3.info())"
   ]
  },
  {
   "cell_type": "code",
   "execution_count": 14,
   "metadata": {},
   "outputs": [
    {
     "name": "stdout",
     "output_type": "stream",
     "text": [
      "\n",
      "데이터프레임 열 출력 5 - df.iloc [ 행index , 열index ]\n",
      "7 int64\n",
      "====== 구분선 ======\n",
      "<class 'pandas.core.frame.DataFrame'>\n",
      "RangeIndex: 1 entries, 2 to 2\n",
      "Data columns (total 1 columns):\n",
      " #   Column   Non-Null Count  Dtype\n",
      "---  ------   --------------  -----\n",
      " 0   column1  1 non-null      int64\n",
      "dtypes: int64(1)\n",
      "memory usage: 140.0 bytes\n",
      "None\n",
      "\n",
      "데이터프레임 열 출력 6 - df [ \"컬럼명\" ] [ index ]\n",
      "7\n"
     ]
    }
   ],
   "source": [
    "print('\\n데이터프레임 열 출력 5 - df.iloc [ 행index , 열index ]')\n",
    "ddd1 = df3.iloc[2,1]\n",
    "print(ddd1, ddd1.dtype)  # Series타입으로 출력\n",
    "print('====== 구분선 ======')\n",
    "ddd2 = df3.iloc[2:3,0:1]\n",
    "print(ddd2.info())  # ' index  int타입 ' 형태로 출력\n",
    "\n",
    "# 참고 : loc와 iloc의 차이\n",
    "# loc  : 칼럼명을 직접 쓰거나 특정 조건식을 써줌으로써 사람이 읽기 좋은 방법으로 데이터에 접근\n",
    "# iloc : 데이터의 위치(index)를 써줌으로써 컴퓨터가 읽기 좋은 방법으로 데이터에 접근\n",
    "\n",
    "print('\\n데이터프레임 열 출력 6 - df [ \"컬럼명\" ] [ index ]')\n",
    "print(df3['column2'][2])\n",
    "# 참고 : 데이터프레임 열 출력 6 방식은 잘 사용하지 않음."
   ]
  },
  {
   "cell_type": "code",
   "execution_count": 15,
   "metadata": {},
   "outputs": [
    {
     "name": "stdout",
     "output_type": "stream",
     "text": [
      "데이터프레임 행 값 불러오기 - df[ index넘버 : index넘버 ] / df.loc [ 행index ] / df.iloc [ 행index ]\n",
      "   column1  column2  column3\n",
      "0        0        5       10\n",
      "1        1        6       11\n",
      "======== 구분선 ========\n",
      "column1     0\n",
      "column2     5\n",
      "column3    10\n",
      "Name: 0, dtype: int64\n",
      "\n",
      "데이터프레임 특정값 출력 - df.loc [ 행index , \"컬럼명\" ] / df.iloc [ 행index , 열index ]\n",
      "1\n",
      "======== 구분선 ========\n",
      "1\n"
     ]
    }
   ],
   "source": [
    "# 데이터프레임 행 출력\n",
    "print('데이터프레임 행 값 불러오기 - df[ index넘버 : index넘버 ] / df.loc [ 행index ] / df.iloc [ 행index ]')\n",
    "print(df3[0:2])\n",
    "print('======== 구분선 ========')\n",
    "print(df3.loc[0])\n",
    "# print(df3.iloc[0]) # 결과값은 위 코드 결과와 같음\n",
    "\n",
    "print('\\n데이터프레임 특정값 출력 - df.loc [ 행index , \"컬럼명\" ] / df.iloc [ 행index , 열index ]')\n",
    "print(df3.loc[1,'column1'])\n",
    "print('======== 구분선 ========')\n",
    "print(df3.iloc[1,0])"
   ]
  },
  {
   "cell_type": "code",
   "execution_count": 16,
   "metadata": {},
   "outputs": [
    {
     "name": "stdout",
     "output_type": "stream",
     "text": [
      "데이터프레임 조건 설정 후 출력 1 - df [ ( 조건식 ) ]\n",
      "   column1  column2  column3\n",
      "1        1        6       11\n",
      "2        1        7       12\n",
      "4        1        9       14\n",
      "\n",
      "데이터프레임 조건 설정 후 출력 2 - df.loc [ ( 조건식 ) ]\n",
      "   column1  column2  column3\n",
      "1        1        6       11\n",
      "2        1        7       12\n",
      "4        1        9       14\n",
      "\n",
      "데이터프레임 정렬 - df.sort_values ( \"컬럼명\" , ascending=True )\n",
      "   column1  column2  column3\n",
      "0        0        5       10\n",
      "1        1        6       11\n",
      "2        1        7       12\n",
      "3        1        1        1\n",
      "4        1        9       14\n",
      "======== 구분선 ========\n",
      "   column1  column2  column3\n",
      "4        1        9       14\n",
      "2        1        7       12\n",
      "1        1        6       11\n",
      "0        0        5       10\n",
      "3        1        1        1\n"
     ]
    }
   ],
   "source": [
    "# 데이터프레임 조건문 입력\n",
    "print('데이터프레임 조건 설정 후 출력 1 - df [ ( 조건식 ) ]')\n",
    "print(df3[(df3['column2']>5)])\n",
    "\n",
    "print('\\n데이터프레임 조건 설정 후 출력 2 - df.loc [ ( 조건식 ) ]')\n",
    "print(df3.loc[df3['column2'] > 5])\n",
    "\n",
    "print('\\n데이터프레임 정렬 - df.sort_values ( \"컬럼명\" , ascending=True )')\n",
    "print(df3)\n",
    "print('======== 구분선 ========')\n",
    "print(df3.sort_values('column2', ascending=False))  # ascending=True 오름차순정렬\n",
    "                                                    # ascending=False 내림차순정렬\n"
   ]
  },
  {
   "cell_type": "code",
   "execution_count": 17,
   "metadata": {},
   "outputs": [
    {
     "name": "stdout",
     "output_type": "stream",
     "text": [
      "데이터프레임 고유값 카운트 - df [ \" 컬럼명 \" ].nunique()\n",
      "2\n",
      "\n",
      "데이터프레임 고유값 출력 1 (중복값 제외) - df [ \" 컬럼명 \" ].unique()\n",
      "[0 1]\n",
      "\n",
      "데이터프레임 고유값 출력 2 (정렬) - sorted ( df [ \" 컬럼명 \" ].unique() )\n",
      "[0, 1]\n",
      "\n",
      "데이터프레임 고유값 출력 3 (중복값 카운트) - df [ \" 컬럼명 \" ].value_counts()\n",
      "1    4\n",
      "0    1\n",
      "Name: column1, dtype: int64\n"
     ]
    }
   ],
   "source": [
    "# 데이터프레임 고유값\n",
    "print('데이터프레임 고유값 카운트 - df [ \" 컬럼명 \" ].nunique()')\n",
    "print(df3['column1'].nunique())\n",
    "\n",
    "print('\\n데이터프레임 고유값 출력 1 (중복값 제외) - df [ \" 컬럼명 \" ].unique()')\n",
    "print(df3['column1'].unique())\n",
    "\n",
    "print('\\n데이터프레임 고유값 출력 2 (정렬) - sorted ( df [ \" 컬럼명 \" ].unique() )')\n",
    "print(sorted(df3['column1'].unique()))\n",
    "\n",
    "print('\\n데이터프레임 고유값 출력 3 (중복값 카운트) - df [ \" 컬럼명 \" ].value_counts()')\n",
    "print(df3['column1'].value_counts())"
   ]
  },
  {
   "cell_type": "code",
   "execution_count": 18,
   "metadata": {},
   "outputs": [
    {
     "name": "stdout",
     "output_type": "stream",
     "text": [
      "               column1              column2\n",
      "0  2023-01-01 01:00:00  2023-01-02 04:00:00\n",
      "1  2023-01-01 02:00:00  2023-01-02 05:00:00\n",
      "2  2023-01-01 03:00:00  2023-01-02 06:00:00\n",
      "\n",
      "데이터프레임 열에서 문자열 추출 - df[ \" 컬럼명 \" ].str [ : ]\n",
      "0    2023-01-01\n",
      "1    2023-01-01\n",
      "2    2023-01-01\n",
      "Name: column1, dtype: object\n",
      "\n",
      "데이터프레임 타입 출력 - df [ [ \" 컬럼명1 \" , \" 컬럼명2 \" ] ].dtypes\n",
      "column1    object\n",
      "column2    object\n",
      "dtype: object\n"
     ]
    }
   ],
   "source": [
    "# 데이터프레임 문자열 추출\n",
    "df4 = pd.DataFrame({'column1' : ['2023-01-01 01:00:00', '2023-01-01 02:00:00', '2023-01-01 03:00:00'],\\\n",
    "                    'column2' : ['2023-01-02 04:00:00', '2023-01-02 05:00:00', '2023-01-02 06:00:00']})\n",
    "print(df4)\n",
    "\n",
    "print('\\n데이터프레임 열에서 문자열 추출 - df[ \" 컬럼명 \" ].str [ : ]')\n",
    "print(df4['column1'].str[:10])  # 문자열 타입 열에서만 가능\n",
    "\n",
    "print('\\n데이터프레임 타입 출력 - df [ [ \" 컬럼명1 \" , \" 컬럼명2 \" ] ].dtypes')\n",
    "print(df4[['column1','column2']].dtypes)  # 데이터프레임 타입 확인 시 사용\n",
    "# 참고\n",
    "# .dtype : Series타입 확인\n",
    "# .dtypes : Dataframe타입 확인"
   ]
  },
  {
   "attachments": {},
   "cell_type": "markdown",
   "metadata": {},
   "source": [
    "(데이터프레임 타입변경)"
   ]
  },
  {
   "cell_type": "code",
   "execution_count": 19,
   "metadata": {},
   "outputs": [
    {
     "name": "stdout",
     "output_type": "stream",
     "text": [
      "데이터프레임 열 타입변경1 (int -> str) - df[\"컬럼명\"].astype(\"str\")\n",
      "<class 'pandas.core.frame.DataFrame'>\n",
      "RangeIndex: 5 entries, 0 to 4\n",
      "Data columns (total 3 columns):\n",
      " #   Column   Non-Null Count  Dtype\n",
      "---  ------   --------------  -----\n",
      " 0   column1  5 non-null      int64\n",
      " 1   column2  5 non-null      int64\n",
      " 2   column3  5 non-null      int64\n",
      "dtypes: int64(3)\n",
      "memory usage: 248.0 bytes\n",
      "None\n",
      "<class 'pandas.core.frame.DataFrame'>\n",
      "RangeIndex: 5 entries, 0 to 4\n",
      "Data columns (total 3 columns):\n",
      " #   Column   Non-Null Count  Dtype \n",
      "---  ------   --------------  ----- \n",
      " 0   column1  5 non-null      object\n",
      " 1   column2  5 non-null      object\n",
      " 2   column3  5 non-null      int64 \n",
      "dtypes: int64(1), object(2)\n",
      "memory usage: 248.0+ bytes\n",
      "None\n",
      "\n",
      "데이터프레임 열 타입변경2 (str -> int) - df[\"컬럼명\"].astype(\"int\")\n",
      "<class 'pandas.core.frame.DataFrame'>\n",
      "RangeIndex: 5 entries, 0 to 4\n",
      "Data columns (total 3 columns):\n",
      " #   Column   Non-Null Count  Dtype \n",
      "---  ------   --------------  ----- \n",
      " 0   column1  5 non-null      object\n",
      " 1   column2  5 non-null      int32 \n",
      " 2   column3  5 non-null      int64 \n",
      "dtypes: int32(1), int64(1), object(1)\n",
      "memory usage: 228.0+ bytes\n",
      "None\n"
     ]
    }
   ],
   "source": [
    "# 데이터프레임 합치기\n",
    "print('데이터프레임 열 타입변경1 (int -> str) - df[\"컬럼명\"].astype(\"str\")')\n",
    "print(df3.info())\n",
    "\n",
    "df3['column1'] = df3['column1'].astype('str')\n",
    "df3['column2'] = df3['column2'].astype('str')\n",
    "print(f'{df3.info()}')\n",
    "\n",
    "print('\\n데이터프레임 열 타입변경2 (str -> int) - df[\"컬럼명\"].astype(\"int\")')\n",
    "df3['column2'] = df3['column2'].astype('int')\n",
    "print(f'{df3.info()}')\n",
    "\n"
   ]
  },
  {
   "cell_type": "code",
   "execution_count": 20,
   "metadata": {},
   "outputs": [
    {
     "name": "stdout",
     "output_type": "stream",
     "text": [
      "데이터프레임 열 타입변경3 (str -> datetime) - pd.to_datetime(df[\"컬럼명\"])\n",
      "  column1  column2  column3     column4\n",
      "0       0        5       10  2023-01-01\n",
      "1       1        6       11  2023-01-02\n",
      "2       1        7       12  2023-01-03\n",
      "3       1        1        1  2023-01-04\n",
      "4       1        9       14  2023-01-05\n",
      "<class 'pandas.core.frame.DataFrame'>\n",
      "RangeIndex: 5 entries, 0 to 4\n",
      "Data columns (total 4 columns):\n",
      " #   Column   Non-Null Count  Dtype         \n",
      "---  ------   --------------  -----         \n",
      " 0   column1  5 non-null      object        \n",
      " 1   column2  5 non-null      int32         \n",
      " 2   column3  5 non-null      int64         \n",
      " 3   column4  5 non-null      datetime64[ns]\n",
      "dtypes: datetime64[ns](1), int32(1), int64(1), object(1)\n",
      "memory usage: 268.0+ bytes\n",
      "None\n",
      "\n",
      "데이터프레임 열 타입변경4 (datetime -> str) - df[\"컬럼명\"] = pd.DatetimeIndex(df[\"컬럼명\"])/.year/.month\n",
      "  column1  column2  column3    column4  column5\n",
      "0       0        5       10 2023-01-01     2023\n",
      "1       1        6       11 2023-01-02     2023\n",
      "2       1        7       12 2023-01-03     2023\n",
      "3       1        1        1 2023-01-04     2023\n",
      "4       1        9       14 2023-01-05     2023\n"
     ]
    }
   ],
   "source": [
    "# 데이터프레임 합치기\n",
    "print('데이터프레임 열 타입변경3 (str -> datetime) - pd.to_datetime(df[\"컬럼명\"])')\n",
    "df3['column4'] = ['2023-01-01','2023-01-02','2023-01-03','2023-01-04','2023-01-05']\n",
    "print(df3)\n",
    "df3['column4'] = pd.to_datetime(df3['column4'])\n",
    "print(df3.info())\n",
    "\n",
    "print('\\n데이터프레임 열 타입변경4 (datetime -> str) - df[\"컬럼명\"] = pd.DatetimeIndex(df[\"컬럼명\"])/.year/.month')\n",
    "df3['column5'] = pd.DatetimeIndex(df3['column4']).year\n",
    "print(df3)"
   ]
  },
  {
   "attachments": {},
   "cell_type": "markdown",
   "metadata": {},
   "source": [
    "(데이터 합치기)"
   ]
  },
  {
   "cell_type": "code",
   "execution_count": 21,
   "metadata": {},
   "outputs": [
    {
     "name": "stdout",
     "output_type": "stream",
     "text": [
      "<class 'pandas.core.frame.DataFrame'>\n",
      "RangeIndex: 5 entries, 0 to 4\n",
      "Data columns (total 5 columns):\n",
      " #   Column   Non-Null Count  Dtype         \n",
      "---  ------   --------------  -----         \n",
      " 0   column1  5 non-null      object        \n",
      " 1   column2  5 non-null      int32         \n",
      " 2   column3  5 non-null      int64         \n",
      " 3   column4  5 non-null      datetime64[ns]\n",
      " 4   column5  5 non-null      int64         \n",
      "dtypes: datetime64[ns](1), int32(1), int64(2), object(1)\n",
      "memory usage: 308.0+ bytes\n",
      "None\n"
     ]
    },
    {
     "data": {
      "text/html": [
       "<div>\n",
       "<style scoped>\n",
       "    .dataframe tbody tr th:only-of-type {\n",
       "        vertical-align: middle;\n",
       "    }\n",
       "\n",
       "    .dataframe tbody tr th {\n",
       "        vertical-align: top;\n",
       "    }\n",
       "\n",
       "    .dataframe thead th {\n",
       "        text-align: right;\n",
       "    }\n",
       "</style>\n",
       "<table border=\"1\" class=\"dataframe\">\n",
       "  <thead>\n",
       "    <tr style=\"text-align: right;\">\n",
       "      <th></th>\n",
       "      <th>column1</th>\n",
       "      <th>column2</th>\n",
       "      <th>column3</th>\n",
       "      <th>column4</th>\n",
       "      <th>column5</th>\n",
       "    </tr>\n",
       "  </thead>\n",
       "  <tbody>\n",
       "    <tr>\n",
       "      <th>0</th>\n",
       "      <td>0</td>\n",
       "      <td>5</td>\n",
       "      <td>10</td>\n",
       "      <td>2023-01-01</td>\n",
       "      <td>2023</td>\n",
       "    </tr>\n",
       "    <tr>\n",
       "      <th>1</th>\n",
       "      <td>1</td>\n",
       "      <td>6</td>\n",
       "      <td>11</td>\n",
       "      <td>2023-01-02</td>\n",
       "      <td>2023</td>\n",
       "    </tr>\n",
       "    <tr>\n",
       "      <th>2</th>\n",
       "      <td>1</td>\n",
       "      <td>7</td>\n",
       "      <td>12</td>\n",
       "      <td>2023-01-03</td>\n",
       "      <td>2023</td>\n",
       "    </tr>\n",
       "    <tr>\n",
       "      <th>3</th>\n",
       "      <td>1</td>\n",
       "      <td>1</td>\n",
       "      <td>1</td>\n",
       "      <td>2023-01-04</td>\n",
       "      <td>2023</td>\n",
       "    </tr>\n",
       "    <tr>\n",
       "      <th>4</th>\n",
       "      <td>1</td>\n",
       "      <td>9</td>\n",
       "      <td>14</td>\n",
       "      <td>2023-01-05</td>\n",
       "      <td>2023</td>\n",
       "    </tr>\n",
       "  </tbody>\n",
       "</table>\n",
       "</div>"
      ],
      "text/plain": [
       "  column1  column2  column3    column4  column5\n",
       "0       0        5       10 2023-01-01     2023\n",
       "1       1        6       11 2023-01-02     2023\n",
       "2       1        7       12 2023-01-03     2023\n",
       "3       1        1        1 2023-01-04     2023\n",
       "4       1        9       14 2023-01-05     2023"
      ]
     },
     "execution_count": 21,
     "metadata": {},
     "output_type": "execute_result"
    }
   ],
   "source": [
    "# 데이터프레임 확인\n",
    "print(df3.info())\n",
    "df3"
   ]
  },
  {
   "cell_type": "code",
   "execution_count": 22,
   "metadata": {},
   "outputs": [
    {
     "name": "stdout",
     "output_type": "stream",
     "text": [
      "<class 'pandas.core.frame.DataFrame'>\n",
      "RangeIndex: 3 entries, 0 to 2\n",
      "Data columns (total 2 columns):\n",
      " #   Column   Non-Null Count  Dtype \n",
      "---  ------   --------------  ----- \n",
      " 0   column1  3 non-null      object\n",
      " 1   column2  3 non-null      object\n",
      "dtypes: object(2)\n",
      "memory usage: 176.0+ bytes\n",
      "None\n"
     ]
    },
    {
     "data": {
      "text/html": [
       "<div>\n",
       "<style scoped>\n",
       "    .dataframe tbody tr th:only-of-type {\n",
       "        vertical-align: middle;\n",
       "    }\n",
       "\n",
       "    .dataframe tbody tr th {\n",
       "        vertical-align: top;\n",
       "    }\n",
       "\n",
       "    .dataframe thead th {\n",
       "        text-align: right;\n",
       "    }\n",
       "</style>\n",
       "<table border=\"1\" class=\"dataframe\">\n",
       "  <thead>\n",
       "    <tr style=\"text-align: right;\">\n",
       "      <th></th>\n",
       "      <th>column1</th>\n",
       "      <th>column2</th>\n",
       "    </tr>\n",
       "  </thead>\n",
       "  <tbody>\n",
       "    <tr>\n",
       "      <th>0</th>\n",
       "      <td>2023-01-01 01:00:00</td>\n",
       "      <td>2023-01-02 04:00:00</td>\n",
       "    </tr>\n",
       "    <tr>\n",
       "      <th>1</th>\n",
       "      <td>2023-01-01 02:00:00</td>\n",
       "      <td>2023-01-02 05:00:00</td>\n",
       "    </tr>\n",
       "    <tr>\n",
       "      <th>2</th>\n",
       "      <td>2023-01-01 03:00:00</td>\n",
       "      <td>2023-01-02 06:00:00</td>\n",
       "    </tr>\n",
       "  </tbody>\n",
       "</table>\n",
       "</div>"
      ],
      "text/plain": [
       "               column1              column2\n",
       "0  2023-01-01 01:00:00  2023-01-02 04:00:00\n",
       "1  2023-01-01 02:00:00  2023-01-02 05:00:00\n",
       "2  2023-01-01 03:00:00  2023-01-02 06:00:00"
      ]
     },
     "execution_count": 22,
     "metadata": {},
     "output_type": "execute_result"
    }
   ],
   "source": [
    "# 데이터프레임 확인\n",
    "print(df4.info())\n",
    "df4"
   ]
  },
  {
   "cell_type": "code",
   "execution_count": 23,
   "metadata": {},
   "outputs": [
    {
     "name": "stdout",
     "output_type": "stream",
     "text": [
      "데이터프레임 합치기 1 - pd.concat ( [ df1, df2 ] )\n",
      "               column1              column2  column3    column4  column5\n",
      "0                    0                    5     10.0 2023-01-01   2023.0\n",
      "1                    1                    6     11.0 2023-01-02   2023.0\n",
      "2                    1                    7     12.0 2023-01-03   2023.0\n",
      "3                    1                    1      1.0 2023-01-04   2023.0\n",
      "4                    1                    9     14.0 2023-01-05   2023.0\n",
      "5  2023-01-01 01:00:00  2023-01-02 04:00:00      NaN        NaT      NaN\n",
      "6  2023-01-01 02:00:00  2023-01-02 05:00:00      NaN        NaT      NaN\n",
      "7  2023-01-01 03:00:00  2023-01-02 06:00:00      NaN        NaT      NaN\n",
      "\n",
      "  column1  column2  column3    column4  column5              column6  \\\n",
      "0       0        5       10 2023-01-01     2023  2023-01-01 01:00:00   \n",
      "1       1        6       11 2023-01-02     2023  2023-01-01 02:00:00   \n",
      "2       1        7       12 2023-01-03     2023  2023-01-01 03:00:00   \n",
      "3       1        1        1 2023-01-04     2023                  NaN   \n",
      "4       1        9       14 2023-01-05     2023                  NaN   \n",
      "\n",
      "               column7  \n",
      "0  2023-01-02 04:00:00  \n",
      "1  2023-01-02 05:00:00  \n",
      "2  2023-01-02 06:00:00  \n",
      "3                  NaN  \n",
      "4                  NaN  \n"
     ]
    }
   ],
   "source": [
    "# 데이터프레임 합치기 1\n",
    "print('데이터프레임 합치기 1 - pd.concat ( [ df1, df2 ] )')  # 행방향(위,아래)으로 병합\n",
    "df_concat1 = pd.concat([df3,df4], ignore_index=True)  # ignore_index=True : 인덱스 넘버 재배열\n",
    "print(df_concat1)\n",
    "                  \n",
    "df_concat2 = pd.concat([df3,df4], axis=1)  # 열방향(좌,우)으로 병합\n",
    "df_concat2.columns = ['column1','column2','column3','column4','column5','column6','column7']\n",
    "print(f'\\n{df_concat2}')"
   ]
  },
  {
   "cell_type": "code",
   "execution_count": 24,
   "metadata": {},
   "outputs": [
    {
     "name": "stdout",
     "output_type": "stream",
     "text": [
      "데이터프레임 합치기 2 - pd.merge ( df1, df2, how=\"inner\", on=\"컬럼명\" )\n",
      "   column1  column2_x  column3_x  column4_x  column5_x column2_y  column3_y  \\\n",
      "0        0          5         10 2023-01-01       2023         5       10.0   \n",
      "1        1          6         11 2023-01-02       2023         6       11.0   \n",
      "2        1          6         11 2023-01-02       2023         7       12.0   \n",
      "3        1          6         11 2023-01-02       2023         1        1.0   \n",
      "4        1          6         11 2023-01-02       2023         9       14.0   \n",
      "5        1          7         12 2023-01-03       2023         6       11.0   \n",
      "6        1          7         12 2023-01-03       2023         7       12.0   \n",
      "7        1          7         12 2023-01-03       2023         1        1.0   \n",
      "8        1          7         12 2023-01-03       2023         9       14.0   \n",
      "9        1          1          1 2023-01-04       2023         6       11.0   \n",
      "10       1          1          1 2023-01-04       2023         7       12.0   \n",
      "11       1          1          1 2023-01-04       2023         1        1.0   \n",
      "12       1          1          1 2023-01-04       2023         9       14.0   \n",
      "13       1          9         14 2023-01-05       2023         6       11.0   \n",
      "14       1          9         14 2023-01-05       2023         7       12.0   \n",
      "15       1          9         14 2023-01-05       2023         1        1.0   \n",
      "16       1          9         14 2023-01-05       2023         9       14.0   \n",
      "\n",
      "    column4_y  column5_y  \n",
      "0  2023-01-01     2023.0  \n",
      "1  2023-01-02     2023.0  \n",
      "2  2023-01-03     2023.0  \n",
      "3  2023-01-04     2023.0  \n",
      "4  2023-01-05     2023.0  \n",
      "5  2023-01-02     2023.0  \n",
      "6  2023-01-03     2023.0  \n",
      "7  2023-01-04     2023.0  \n",
      "8  2023-01-05     2023.0  \n",
      "9  2023-01-02     2023.0  \n",
      "10 2023-01-03     2023.0  \n",
      "11 2023-01-04     2023.0  \n",
      "12 2023-01-05     2023.0  \n",
      "13 2023-01-02     2023.0  \n",
      "14 2023-01-03     2023.0  \n",
      "15 2023-01-04     2023.0  \n",
      "16 2023-01-05     2023.0  \n"
     ]
    }
   ],
   "source": [
    "# 데이터프레임 합치기 2\n",
    "print('데이터프레임 합치기 2 - pd.merge ( df1, df2, how=\"inner\", on=\"컬럼명\" )')  # 기본값\n",
    "                                                                                # how : 합치는 방식\n",
    "                                                                                # on : 기준이 되는 컬럼명\n",
    "df_merge1 = pd.merge(df3, df_concat1, how='inner', on='column1')\n",
    "print(df_merge1)"
   ]
  },
  {
   "cell_type": "code",
   "execution_count": 25,
   "metadata": {},
   "outputs": [
    {
     "name": "stdout",
     "output_type": "stream",
     "text": [
      "데이터프레임 합치기 2 - pd.merge ( df1, df2, how=\"left\", on=\"컬럼명\" )\n",
      "  column1_x  column2_x  column3_x  column4_x  column5_x column1_y column2_y  \\\n",
      "0         0          5         10 2023-01-01       2023       NaN       NaN   \n",
      "1         1          6         11 2023-01-02       2023       NaN       NaN   \n",
      "2         1          7         12 2023-01-03       2023       NaN       NaN   \n",
      "3         1          1          1 2023-01-04       2023       NaN       NaN   \n",
      "4         1          9         14 2023-01-05       2023       NaN       NaN   \n",
      "\n",
      "   column3_y column4_y  column5_y  \n",
      "0        NaN       NaT        NaN  \n",
      "1        NaN       NaT        NaN  \n",
      "2        NaN       NaT        NaN  \n",
      "3        NaN       NaT        NaN  \n",
      "4        NaN       NaT        NaN  \n"
     ]
    }
   ],
   "source": [
    "# 데이터프레임 합치기 2\n",
    "print('데이터프레임 합치기 2 - pd.merge ( df1, df2, how=\"left\", on=\"컬럼명\" )')  # 기본값\n",
    "df_merge2 = pd.merge(df3, df_concat1, how='left', left_on='column1', right_on='column2')\n",
    "print(df_merge2)"
   ]
  },
  {
   "cell_type": "code",
   "execution_count": 26,
   "metadata": {},
   "outputs": [
    {
     "name": "stdout",
     "output_type": "stream",
     "text": [
      "                  date  price\n",
      "0  2021-01-01 16:00:00    100\n",
      "1  2021-01-01 17:00:00    200\n",
      "2  2021-01-01 17:00:00    300\n",
      "3  2021-01-03 01:00:00    400\n",
      "4  2021-01-03 10:00:00    500\n",
      "\n",
      "==============구분선==============\n",
      "                  date   item\n",
      "0  2021-01-01 16:00:00  apple\n",
      "1  2021-01-02 10:00:00    pen\n",
      "2  2021-01-03 10:00:00   case\n",
      "\n",
      "==============구분선==============\n",
      "{'2021-01-01 17:00:00', '2021-01-03 01:00:00'}\n",
      "                  date  price   item      _merge\n",
      "0  2021-01-01 16:00:00  100.0  apple        both\n",
      "1  2021-01-01 17:00:00  200.0    NaN   left_only\n",
      "2  2021-01-01 17:00:00  300.0    NaN   left_only\n",
      "3  2021-01-03 01:00:00  400.0    NaN   left_only\n",
      "4  2021-01-03 10:00:00  500.0   case        both\n",
      "5  2021-01-02 10:00:00    NaN    pen  right_only\n",
      "\n",
      "==============구분선==============\n",
      "Int64Index([1, 2, 3], dtype='int64')\n"
     ]
    }
   ],
   "source": [
    "# 데이터프레임 간 데이터 비교  (merge 활용)\n",
    "ddd1 = pd.DataFrame({\"date\" : ['2021-01-01 16:00:00', '2021-01-01 17:00:00','2021-01-01 17:00:00','2021-01-03 01:00:00','2021-01-03 10:00:00'],\\\n",
    "                     \"price\" : [100,200,300,400,500]})\n",
    "ddd2 = pd.DataFrame({\"date\" : ['2021-01-01 16:00:00','2021-01-02 10:00:00','2021-01-03 10:00:00'],\\\n",
    "                     \"item\" : ['apple','pen','case']})\n",
    "print(ddd1)\n",
    "print('\\n==============구분선==============')\n",
    "print(ddd2)\n",
    "print('\\n==============구분선==============')\n",
    "\n",
    "# 데이터프레임 간 데이터 비교 1 - set(df1[\"컬럼명\"].unique()) - set(df2[\"date\"].unique())\n",
    "print(set(ddd1['date'].unique()) - set(ddd2['date'].unique()))  # 포함하는 중복값을 모두 제거하고 ddd1만 가지고 있는 값만 출력함\n",
    "\n",
    "# 데이터프레임 간 데이터 비교 2 - pd.merge(df1, df2, how='outer', indicator=True)\n",
    "ddd3 = pd.merge(ddd1, ddd2, how='outer', indicator=True)\n",
    "print(ddd3)\n",
    "print('\\n==============구분선==============')\n",
    "print(ddd3[ddd3['_merge']=='left_only'].index)  # ddd1에만 있는 값의 인덱스 확인 가능"
   ]
  },
  {
   "cell_type": "code",
   "execution_count": 27,
   "metadata": {},
   "outputs": [],
   "source": [
    "###################################################################"
   ]
  },
  {
   "cell_type": "code",
   "execution_count": null,
   "metadata": {},
   "outputs": [],
   "source": []
  },
  {
   "cell_type": "code",
   "execution_count": 32,
   "metadata": {},
   "outputs": [
    {
     "name": "stdout",
     "output_type": "stream",
     "text": [
      "  column1  column2  column3    column4  column5\n",
      "0       0        3       10 2023-01-01     2023\n",
      "1       1        6       11 2023-01-02     2023\n",
      "2       1        7       12 2023-01-03     2023\n",
      "3       1       55       33 2023-01-04     2023\n",
      "4       1        9       14 2023-01-05     2023\n",
      "\n",
      "데이터프레임 행 삭제 1 (행넘버) - df.drop( index = [ 0, 1, ... ] )\n",
      "  column1  column2  column3    column4  column5\n",
      "0       0        3       10 2023-01-01     2023\n",
      "3       1       55       33 2023-01-04     2023\n",
      "4       1        9       14 2023-01-05     2023\n",
      "\n",
      "데이터프레임 특정 조건을 만족하는 행만 생성 - df [ df [ \"column명\" ] == \"value\" ] \n",
      "Empty DataFrame\n",
      "Columns: [column1, column2, column3, column4, column5]\n",
      "Index: []\n",
      "\n",
      "데이터프레임 열 삭제 - df.drop( [\" column명 \"], axis = 1 ) \n",
      "  column1  column3    column4  column5\n",
      "0       0       10 2023-01-01     2023\n",
      "1       1       11 2023-01-02     2023\n",
      "2       1       12 2023-01-03     2023\n",
      "3       1       33 2023-01-04     2023\n",
      "4       1       14 2023-01-05     2023\n"
     ]
    }
   ],
   "source": [
    "# 데이터프레임 행 삭제\n",
    "print(df3)\n",
    "print('\\n데이터프레임 행 삭제 1 (행넘버) - df.drop( index = [ 0, 1, ... ] )')\n",
    "print(df3.drop(index = [1,2])) # 2,3번째 행 삭제\n",
    "print('\\n데이터프레임 특정 조건을 만족하는 행만 생성 - df [ df [ \"column명\" ] == \"value\" ] ')\n",
    "print(df3[df3['column1'] == 0]) # colum1의 value값이 0인 행만 출력 (나머지 행 제외)\n",
    "\n",
    "# 데이터프레임 열 삭제\n",
    "print('\\n데이터프레임 열 삭제 - df.drop( [\" column명 \"], axis = 1 ) ')\n",
    "print(df3.drop(['column2'], axis = 1))"
   ]
  },
  {
   "cell_type": "code",
   "execution_count": 29,
   "metadata": {},
   "outputs": [
    {
     "name": "stdout",
     "output_type": "stream",
     "text": [
      "데이터프레임 값 변경 - df.replace\n",
      "  column1  column2  column3    column4  column5\n",
      "0       0        5       10 2023-01-01     2023\n",
      "1       1        6       11 2023-01-02     2023\n",
      "2       1        7       12 2023-01-03     2023\n",
      "3       1       33       33 2023-01-04     2023\n",
      "4       1        9       14 2023-01-05     2023\n",
      "  column1  column2  column3    column4  column5\n",
      "0       0        5       10 2023-01-01     2023\n",
      "1       1        6       11 2023-01-02     2023\n",
      "2       1        7       12 2023-01-03     2023\n",
      "3       1       33       33 2023-01-04     2023\n",
      "4       1        9       14 2023-01-05     2023\n",
      "  column1  column2  column3    column4  column5\n",
      "0       0        5       10 2023-01-01     2023\n",
      "1       1        6       11 2023-01-02     2023\n",
      "2       1        7       12 2023-01-03     2023\n",
      "3       1       55       33 2023-01-04     2023\n",
      "4       1        9       14 2023-01-05     2023\n",
      "  column1  column2  column3    column4  column5\n",
      "0       0        3       10 2023-01-01     2023\n",
      "1       1        6       11 2023-01-02     2023\n",
      "2       1        7       12 2023-01-03     2023\n",
      "3       1       55       33 2023-01-04     2023\n",
      "4       1        9       14 2023-01-05     2023\n"
     ]
    }
   ],
   "source": [
    "# 데이터프레임 특정 값 수정\n",
    "print('데이터프레임 값 변경 - df.replace')\n",
    "df3.replace(1, 33, inplace=True) # 데이터프레임에 있는 모든 1을 33으로 변경\n",
    "print(df3)\n",
    "df3.replace({'column1':33}, 1, inplace=True) # 데이터프레임 특정 컬럼에 있는 모든 1을 33으로 변경\n",
    "print(df3)\n",
    "df3.replace({'column1':1, 'column2':33}, 55, inplace=True) # 다수의 column 선택 가능\n",
    "print(df3)\n",
    "df3.replace({'column1':{55:3}, 'column2':{5:3}}, inplace=True) # 각각의 column에 각각 변경값 설정 가능\n",
    "print(df3)"
   ]
  },
  {
   "cell_type": "code",
   "execution_count": 30,
   "metadata": {},
   "outputs": [
    {
     "name": "stdout",
     "output_type": "stream",
     "text": [
      "데이터프레임 조건에 따라 불러오기 - df[ ( 조건식 ) ]\n",
      "  column1  column2  column3    column4  column5\n",
      "2       1        7       12 2023-01-03     2023\n"
     ]
    },
    {
     "ename": "TypeError",
     "evalue": "'<=' not supported between instances of 'str' and 'int'",
     "output_type": "error",
     "traceback": [
      "\u001b[1;31m---------------------------------------------------------------------------\u001b[0m",
      "\u001b[1;31mTypeError\u001b[0m                                 Traceback (most recent call last)",
      "\u001b[1;32me:\\Git\\SourceTree\\Basic_Python\\01_Basic_Python.ipynb 셀 35\u001b[0m in \u001b[0;36m<module>\u001b[1;34m\u001b[0m\n\u001b[0;32m      <a href='vscode-notebook-cell:/e%3A/Git/SourceTree/Basic_Python/01_Basic_Python.ipynb#X46sZmlsZQ%3D%3D?line=2'>3</a>\u001b[0m df4 \u001b[39m=\u001b[39m df3[(df3[\u001b[39m'\u001b[39m\u001b[39mcolumn1\u001b[39m\u001b[39m'\u001b[39m] \u001b[39m==\u001b[39m \u001b[39m0\u001b[39m) \u001b[39m|\u001b[39m (df3[\u001b[39m'\u001b[39m\u001b[39mcolumn2\u001b[39m\u001b[39m'\u001b[39m] \u001b[39m==\u001b[39m \u001b[39m7\u001b[39m)] \u001b[39m# df[ ] 활용\u001b[39;00m\n\u001b[0;32m      <a href='vscode-notebook-cell:/e%3A/Git/SourceTree/Basic_Python/01_Basic_Python.ipynb#X46sZmlsZQ%3D%3D?line=3'>4</a>\u001b[0m \u001b[39mprint\u001b[39m(df4)\n\u001b[1;32m----> <a href='vscode-notebook-cell:/e%3A/Git/SourceTree/Basic_Python/01_Basic_Python.ipynb#X46sZmlsZQ%3D%3D?line=4'>5</a>\u001b[0m df5 \u001b[39m=\u001b[39m df3\u001b[39m.\u001b[39mloc[df3[\u001b[39m'\u001b[39;49m\u001b[39mcolumn1\u001b[39;49m\u001b[39m'\u001b[39;49m] \u001b[39m<\u001b[39;49m\u001b[39m=\u001b[39;49m \u001b[39m5\u001b[39;49m, \u001b[39m'\u001b[39m\u001b[39mcolumn1\u001b[39m\u001b[39m'\u001b[39m:\u001b[39m'\u001b[39m\u001b[39mcolumn2\u001b[39m\u001b[39m'\u001b[39m] \u001b[39m# loc 활용\u001b[39;00m\n\u001b[0;32m      <a href='vscode-notebook-cell:/e%3A/Git/SourceTree/Basic_Python/01_Basic_Python.ipynb#X46sZmlsZQ%3D%3D?line=5'>6</a>\u001b[0m \u001b[39mprint\u001b[39m(df5)\n\u001b[0;32m      <a href='vscode-notebook-cell:/e%3A/Git/SourceTree/Basic_Python/01_Basic_Python.ipynb#X46sZmlsZQ%3D%3D?line=6'>7</a>\u001b[0m df6 \u001b[39m=\u001b[39m df3\u001b[39m.\u001b[39miloc[\u001b[39m0\u001b[39m:\u001b[39m4\u001b[39m,\u001b[39m0\u001b[39m:\u001b[39m3\u001b[39m] \u001b[39m# iloc 활용\u001b[39;00m\n",
      "File \u001b[1;32mc:\\Users\\tkand\\AppData\\Local\\Programs\\Python\\Python38\\lib\\site-packages\\pandas\\core\\ops\\common.py:70\u001b[0m, in \u001b[0;36m_unpack_zerodim_and_defer.<locals>.new_method\u001b[1;34m(self, other)\u001b[0m\n\u001b[0;32m     66\u001b[0m             \u001b[39mreturn\u001b[39;00m \u001b[39mNotImplemented\u001b[39m\n\u001b[0;32m     68\u001b[0m other \u001b[39m=\u001b[39m item_from_zerodim(other)\n\u001b[1;32m---> 70\u001b[0m \u001b[39mreturn\u001b[39;00m method(\u001b[39mself\u001b[39;49m, other)\n",
      "File \u001b[1;32mc:\\Users\\tkand\\AppData\\Local\\Programs\\Python\\Python38\\lib\\site-packages\\pandas\\core\\arraylike.py:52\u001b[0m, in \u001b[0;36mOpsMixin.__le__\u001b[1;34m(self, other)\u001b[0m\n\u001b[0;32m     50\u001b[0m \u001b[39m@unpack_zerodim_and_defer\u001b[39m(\u001b[39m\"\u001b[39m\u001b[39m__le__\u001b[39m\u001b[39m\"\u001b[39m)\n\u001b[0;32m     51\u001b[0m \u001b[39mdef\u001b[39;00m \u001b[39m__le__\u001b[39m(\u001b[39mself\u001b[39m, other):\n\u001b[1;32m---> 52\u001b[0m     \u001b[39mreturn\u001b[39;00m \u001b[39mself\u001b[39;49m\u001b[39m.\u001b[39;49m_cmp_method(other, operator\u001b[39m.\u001b[39;49mle)\n",
      "File \u001b[1;32mc:\\Users\\tkand\\AppData\\Local\\Programs\\Python\\Python38\\lib\\site-packages\\pandas\\core\\series.py:5623\u001b[0m, in \u001b[0;36mSeries._cmp_method\u001b[1;34m(self, other, op)\u001b[0m\n\u001b[0;32m   5620\u001b[0m rvalues \u001b[39m=\u001b[39m extract_array(other, extract_numpy\u001b[39m=\u001b[39m\u001b[39mTrue\u001b[39;00m, extract_range\u001b[39m=\u001b[39m\u001b[39mTrue\u001b[39;00m)\n\u001b[0;32m   5622\u001b[0m \u001b[39mwith\u001b[39;00m np\u001b[39m.\u001b[39merrstate(\u001b[39mall\u001b[39m\u001b[39m=\u001b[39m\u001b[39m\"\u001b[39m\u001b[39mignore\u001b[39m\u001b[39m\"\u001b[39m):\n\u001b[1;32m-> 5623\u001b[0m     res_values \u001b[39m=\u001b[39m ops\u001b[39m.\u001b[39;49mcomparison_op(lvalues, rvalues, op)\n\u001b[0;32m   5625\u001b[0m \u001b[39mreturn\u001b[39;00m \u001b[39mself\u001b[39m\u001b[39m.\u001b[39m_construct_result(res_values, name\u001b[39m=\u001b[39mres_name)\n",
      "File \u001b[1;32mc:\\Users\\tkand\\AppData\\Local\\Programs\\Python\\Python38\\lib\\site-packages\\pandas\\core\\ops\\array_ops.py:283\u001b[0m, in \u001b[0;36mcomparison_op\u001b[1;34m(left, right, op)\u001b[0m\n\u001b[0;32m    280\u001b[0m     \u001b[39mreturn\u001b[39;00m invalid_comparison(lvalues, rvalues, op)\n\u001b[0;32m    282\u001b[0m \u001b[39melif\u001b[39;00m is_object_dtype(lvalues\u001b[39m.\u001b[39mdtype) \u001b[39mor\u001b[39;00m \u001b[39misinstance\u001b[39m(rvalues, \u001b[39mstr\u001b[39m):\n\u001b[1;32m--> 283\u001b[0m     res_values \u001b[39m=\u001b[39m comp_method_OBJECT_ARRAY(op, lvalues, rvalues)\n\u001b[0;32m    285\u001b[0m \u001b[39melse\u001b[39;00m:\n\u001b[0;32m    286\u001b[0m     res_values \u001b[39m=\u001b[39m _na_arithmetic_op(lvalues, rvalues, op, is_cmp\u001b[39m=\u001b[39m\u001b[39mTrue\u001b[39;00m)\n",
      "File \u001b[1;32mc:\\Users\\tkand\\AppData\\Local\\Programs\\Python\\Python38\\lib\\site-packages\\pandas\\core\\ops\\array_ops.py:73\u001b[0m, in \u001b[0;36mcomp_method_OBJECT_ARRAY\u001b[1;34m(op, x, y)\u001b[0m\n\u001b[0;32m     71\u001b[0m     result \u001b[39m=\u001b[39m libops\u001b[39m.\u001b[39mvec_compare(x\u001b[39m.\u001b[39mravel(), y\u001b[39m.\u001b[39mravel(), op)\n\u001b[0;32m     72\u001b[0m \u001b[39melse\u001b[39;00m:\n\u001b[1;32m---> 73\u001b[0m     result \u001b[39m=\u001b[39m libops\u001b[39m.\u001b[39;49mscalar_compare(x\u001b[39m.\u001b[39;49mravel(), y, op)\n\u001b[0;32m     74\u001b[0m \u001b[39mreturn\u001b[39;00m result\u001b[39m.\u001b[39mreshape(x\u001b[39m.\u001b[39mshape)\n",
      "File \u001b[1;32mc:\\Users\\tkand\\AppData\\Local\\Programs\\Python\\Python38\\lib\\site-packages\\pandas\\_libs\\ops.pyx:107\u001b[0m, in \u001b[0;36mpandas._libs.ops.scalar_compare\u001b[1;34m()\u001b[0m\n",
      "\u001b[1;31mTypeError\u001b[0m: '<=' not supported between instances of 'str' and 'int'"
     ]
    }
   ],
   "source": [
    "# 데이터프레임 조건 설정\n",
    "print(\"데이터프레임 조건에 따라 불러오기 - df[ ( 조건식 ) ]\")\n",
    "df4 = df3[(df3['column1'] == 0) | (df3['column2'] == 7)] # df[ ] 활용\n",
    "print(df4)\n",
    "df5 = df3.loc[df3['column1'] <= 5, 'column1':'column2'] # loc 활용\n",
    "print(df5)\n",
    "df6 = df3.iloc[0:4,0:3] # iloc 활용\n",
    "print(df6)"
   ]
  },
  {
   "cell_type": "code",
   "execution_count": null,
   "metadata": {},
   "outputs": [
    {
     "name": "stdout",
     "output_type": "stream",
     "text": [
      "column명 바꾸기 - df.rename ( columns = { \"before1\" : \"after1\" , \"before2\" : \"after2\", ... } )\n",
      "column명 변경 전\n",
      "   column1  column2  column3\n",
      "0        0        3       10\n",
      "1        3        6       11\n",
      "2        3        7       12\n",
      "3        3       55       33\n",
      "\n",
      "column명 변경 후\n",
      "   항목1  항목2  항목3\n",
      "0    0    3   10\n",
      "1    3    6   11\n",
      "2    3    7   12\n",
      "3    3   55   33\n",
      "\n",
      "column명 한번에 모두 바꾸기 - df.columns = [ \"name1\" , \"name2\"  ... ]\n",
      "   Category1  Category2  Category3\n",
      "0          0          3         10\n",
      "1          3          6         11\n",
      "2          3          7         12\n",
      "3          3         55         33\n",
      "\n",
      "column명 이름 조회 - df.columns\n",
      "Index(['Category1', 'Category2', 'Category3'], dtype='object')\n",
      "\n",
      "첫 번째 행을 column으로 지정 - df.rename( columns = df.iloc[0] )\n",
      "   0   3   10\n",
      "0   0   3  10\n",
      "1   3   6  11\n",
      "2   3   7  12\n",
      "3   3  55  33\n"
     ]
    }
   ],
   "source": [
    "# column명 변경\n",
    "print('column명 바꾸기 - df.rename ( columns = { \"before1\" : \"after1\" , \"before2\" : \"after2\", ... } )')\n",
    "print('column명 변경 전')\n",
    "print(df6)\n",
    "print('\\ncolumn명 변경 후')\n",
    "df6.rename(columns = {'column1' : '항목1',\n",
    "                      'column2' : '항목2',\n",
    "                      'column3' : '항목3'}, inplace = True)\n",
    "print(df6)\n",
    "\n",
    "print('\\ncolumn명 한번에 모두 바꾸기 - df.columns = [ \"name1\" , \"name2\"  ... ]')\n",
    "df6.columns = ['Category1', 'Category2', 'Category3']\n",
    "print(df6)\n",
    "\n",
    "print('\\ncolumn명 이름 조회 - df.columns')\n",
    "print(df6.columns)\n",
    "\n",
    "print('\\n첫 번째 행을 column으로 지정 - df.rename( columns = df.iloc[0] )')\n",
    "print(df6.rename(columns = df6.iloc[0]))"
   ]
  },
  {
   "cell_type": "code",
   "execution_count": null,
   "metadata": {},
   "outputs": [
    {
     "name": "stdout",
     "output_type": "stream",
     "text": [
      "데이터프레임 정렬 - df.sort_values( \"column명\" , ascending=True )\n",
      "변경 전\n",
      "   Category1  Category2  Category3\n",
      "0          0          3         10\n",
      "1          3          6         11\n",
      "2          3          7         12\n",
      "3          3         55         33\n",
      "\n",
      "변경 후\n",
      "   Category1  Category2  Category3\n",
      "3          3         55         33\n",
      "2          3          7         12\n",
      "1          3          6         11\n",
      "0          0          3         10\n"
     ]
    }
   ],
   "source": [
    "# 데이터프레임 정렬 - df.sort_values( )\n",
    "print('데이터프레임 정렬 - df.sort_values( \"column명\" , ascending=True )')\n",
    "print('변경 전')\n",
    "print(df6)\n",
    "print('\\n변경 후')\n",
    "print(df6.sort_values('Category3', ascending=False))"
   ]
  },
  {
   "cell_type": "code",
   "execution_count": null,
   "metadata": {},
   "outputs": [
    {
     "name": "stdout",
     "output_type": "stream",
     "text": [
      "\n",
      "행 개수 출력 - len ( df ) / df.shape[0] / len(df.index)\n",
      "5\n",
      "5\n",
      "5\n",
      "\n",
      "열 개수 출력 - df.shape[1] / len(df.columns)\n",
      "3\n",
      "3\n",
      "\n",
      "결측값이 아닌 행 개수 출력 - df.count ( )\n",
      "column1    5\n",
      "column2    5\n",
      "column3    5\n",
      "dtype: int64\n"
     ]
    }
   ],
   "source": [
    "# 데이터프레임\n",
    "print('\\n행 개수 출력 - len ( df ) / df.shape[0] / len(df.index)')\n",
    "print(len(df3))\n",
    "print(df3.shape[0]) # df.shape는 df의 ( row 수 , column 수 )를 출력한다.\n",
    "print(len(df3.index)) # df.index는 df의 index 값을 모두 출력한다.\n",
    "\n",
    "print('\\n열 개수 출력 - df.shape[1] / len(df.columns)')\n",
    "print(df3.shape[1])\n",
    "print(len(df3.columns)) # df.shape는 df의 columns 값을 모두 출력한다.\n",
    "\n",
    "print('\\n결측값이 아닌 행 개수 출력 - df.count ( )')\n",
    "print(df3.count())"
   ]
  },
  {
   "cell_type": "code",
   "execution_count": null,
   "metadata": {},
   "outputs": [
    {
     "name": "stdout",
     "output_type": "stream",
     "text": [
      "   column1  column2  column3\n",
      "0      0.0      NaN     10.0\n",
      "1      3.0      6.0     11.0\n",
      "2      NaN      NaN     12.0\n",
      "3      3.0      NaN     33.0\n",
      "4      3.0      9.0      NaN\n",
      "\n",
      "결측값 확인 - df.isnull\n",
      "   column1  column2  column3\n",
      "0    False     True    False\n",
      "1    False    False    False\n",
      "2     True     True    False\n",
      "3    False     True    False\n",
      "4    False    False     True\n",
      "column1    1\n",
      "column2    3\n",
      "column3    1\n",
      "dtype: int64\n",
      "\n",
      "데이터프레임 결측치 정렬 - df.isnull().mean().sort_values(ascending=False)\n",
      "column2    0.6\n",
      "column1    0.2\n",
      "column3    0.2\n",
      "dtype: float64\n"
     ]
    }
   ],
   "source": [
    "# 결측값을 포함하는 데이터프레임 생성\n",
    "df4 = df3\n",
    "df4['column1'][2] = None\n",
    "df4['column2'][0] = None\n",
    "df4['column2'][2] = None\n",
    "df4['column2'][3] = None\n",
    "df4['column3'][4] = None\n",
    "print(df4)\n",
    "\n",
    "# 결측치 확인\n",
    "print('\\n결측값 확인 - df.isnull')\n",
    "print(df4.isnull()) # True = Null\n",
    "print(df4.isnull().sum()) # Null값 총계 표시\n",
    "\n",
    "# 결측치 정렬\n",
    "print('\\n데이터프레임 결측치 정렬 - df.isnull().mean().sort_values(ascending=False)')\n",
    "print(df4.isnull().mean().\\\n",
    "      sort_values(ascending=False))"
   ]
  },
  {
   "cell_type": "code",
   "execution_count": null,
   "metadata": {},
   "outputs": [
    {
     "name": "stdout",
     "output_type": "stream",
     "text": [
      "결측값이 있는 행 제거 - df.dropna( axis = 0 )\n",
      "   column1  column2  column3\n",
      "1      3.0      6.0     11.0\n",
      "\n",
      "결측값이 있는 열 제거 - df.dropna( axis = 1 )\n",
      "Empty DataFrame\n",
      "Columns: []\n",
      "Index: [0, 1, 2, 3, 4]\n"
     ]
    }
   ],
   "source": [
    "# 결측치 제거\n",
    "print('결측값이 있는 행 제거 - df.dropna( axis = 0 )')\n",
    "print(df4.dropna(axis = 0))\n",
    "\n",
    "print('\\n결측값이 있는 열 제거 - df.dropna( axis = 1 )')\n",
    "print(df4.dropna(axis = 1))"
   ]
  },
  {
   "cell_type": "code",
   "execution_count": null,
   "metadata": {},
   "outputs": [
    {
     "name": "stdout",
     "output_type": "stream",
     "text": [
      "결측값을 특정 값으로 대치 - df.fillna( 특정값 )\n",
      "   column1  column2  column3\n",
      "0      0.0      0.0     10.0\n",
      "1      3.0      6.0     11.0\n",
      "2      0.0      0.0     12.0\n",
      "3      3.0      0.0     33.0\n",
      "4      3.0      9.0      0.0\n",
      "-----------------------------\n",
      "   column1  column2  column3\n",
      "0      0.0  missing     10.0\n",
      "1      3.0      6.0     11.0\n",
      "2  missing  missing     12.0\n",
      "3      3.0  missing     33.0\n",
      "4      3.0      9.0  missing\n",
      "\n",
      "결측값을 앞 방향으로 채우기 - df.fillna(method = \"ffill\" or \"pad\")\n",
      "   column1  column2  column3\n",
      "0      0.0      NaN     10.0\n",
      "1      3.0      6.0     11.0\n",
      "2      3.0      6.0     12.0\n",
      "3      3.0      6.0     33.0\n",
      "4      3.0      9.0     33.0\n"
     ]
    }
   ],
   "source": [
    "# 결측치 치환 1\n",
    "print('결측값을 특정 값으로 대치 - df.fillna( 특정값 )')\n",
    "print(df4.fillna(0)) # 결측값을 0으로 치환\n",
    "print('-----------------------------')\n",
    "print(df4.fillna('missing')) # 결측값을 missing 단어로 치환\n",
    "\n",
    "print('\\n결측값을 앞 방향으로 채우기 - df.fillna(method = \"ffill\" or \"pad\")')\n",
    "print(df4.fillna(method = 'ffill'))\n",
    "# print(df4.fillna(method = 'pad')) # 결과값은 위의 코드와 같음"
   ]
  },
  {
   "cell_type": "code",
   "execution_count": null,
   "metadata": {},
   "outputs": [
    {
     "name": "stdout",
     "output_type": "stream",
     "text": [
      "결측값을 뒷 방향으로 채우기 - df.fillna(method = \"bfill\" or \"backfill\")\n",
      "   column1  column2  column3\n",
      "0      0.0      6.0     10.0\n",
      "1      3.0      6.0     11.0\n",
      "2      3.0      9.0     12.0\n",
      "3      3.0      9.0     33.0\n",
      "4      3.0      9.0      NaN\n",
      "\n",
      "특정 column의 결측치 치환 - np.where() & pd.notnull()\n",
      "   column1  column2  column3\n",
      "0      0.0     20.0     10.0\n",
      "1      3.0      6.0     11.0\n",
      "2      NaN     20.0     12.0\n",
      "3      3.0     20.0     33.0\n",
      "4      3.0      9.0      NaN\n"
     ]
    }
   ],
   "source": [
    "# 결측치 치환 2\n",
    "print('결측값을 뒷 방향으로 채우기 - df.fillna(method = \"bfill\" or \"backfill\")')\n",
    "print(df4.fillna(method = 'bfill'))\n",
    "# print(df4.fillna(method = 'backfill')) # 결과값은 위의 코드와 같음\n",
    "\n",
    "# 결측치 치환 응용\n",
    "print('\\n특정 column의 결측치 치환 - np.where() & pd.notnull()')\n",
    "df5 = df4\n",
    "df5['column2'] = np.where(pd.notnull(df5['column2']) == True, df5['column2'], 20)\n",
    "print(df5) # column2의 결측치가 20으로 치환됨"
   ]
  },
  {
   "cell_type": "code",
   "execution_count": null,
   "metadata": {},
   "outputs": [
    {
     "name": "stdout",
     "output_type": "stream",
     "text": [
      "특정 column에서 고유값 확인(중복값 카운트) - df[ \" column명 \" ].value_counts()\n",
      "20.0    3\n",
      "6.0     1\n",
      "9.0     1\n",
      "Name: column2, dtype: int64\n",
      "\n",
      "특정 column에서 고유값 확인1 (중복 제거) - df[ \" column명 \" ].unique()\n",
      "[20.  6.  9.]\n",
      "\n",
      "특정 column에서 고유값 확인2 (정렬) - sorted( df[ \" column명 \" ].unique() )\n",
      "[20.  6.  9.]\n",
      "\n",
      "특정 column에서 고유값 수 확인 - df[ \" column명 \" ].nunique()\n",
      "3\n"
     ]
    }
   ],
   "source": [
    "# value값 확인\n",
    "print('특정 column에서 고유값 확인(중복값 카운트) - df[ \" column명 \" ].value_counts()')\n",
    "print(df5['column2'].value_counts())\n",
    "\n",
    "print('\\n특정 column에서 고유값 확인1 (중복 제거) - df[ \" column명 \" ].unique()')\n",
    "print(df5['column2'].unique())\n",
    "\n",
    "print('\\n특정 column에서 고유값 확인2 (정렬) - sorted( df[ \" column명 \" ].unique() )')\n",
    "print(df5['column2'].unique())\n",
    "\n",
    "print('\\n특정 column에서 고유값 수 확인 - df[ \" column명 \" ].nunique()')\n",
    "print(df5['column2'].nunique())"
   ]
  },
  {
   "cell_type": "code",
   "execution_count": null,
   "metadata": {},
   "outputs": [
    {
     "name": "stdout",
     "output_type": "stream",
     "text": [
      "         date\n",
      "0  2022-01-01\n",
      "1  2022-01-02\n",
      "2  2022-01-03\n",
      "\n",
      "데이터프레임 열 타입변경1 (str -> datetime) - pd.to_datetime(df[\"컬럼명\"])\n",
      "0   2022-01-01\n",
      "1   2022-01-02\n",
      "2   2022-01-03\n",
      "Name: date, dtype: datetime64[ns]\n",
      "\n",
      "데이터프레임 열 타입변경2 (datetime -> str) - df[\"컬럼명\"] = pd.DatetimeIndex(df[\"컬럼명\"])/.year/.month\n",
      "         date   date_str\n",
      "0  2022-01-01 2022-01-01\n",
      "1  2022-01-02 2022-01-02\n",
      "2  2022-01-03 2022-01-03\n",
      "         date   date_str  year\n",
      "0  2022-01-01 2022-01-01  2022\n",
      "1  2022-01-02 2022-01-02  2022\n",
      "2  2022-01-03 2022-01-03  2022\n",
      "\n",
      "데이터프레임 열 타입변경3 (str -> int) - df[\"컬럼명\"].astype(\"타입명\")\n",
      "0    2022\n",
      "1    2022\n",
      "2    2022\n",
      "Name: year, dtype: int32\n"
     ]
    }
   ],
   "source": [
    "# 타입변경\n",
    "df6 = pd.DataFrame({ 'date' : ['2022-01-01', '2022-01-02',\\\n",
    "                                             '2022-01-03']})\n",
    "print(df6)\n",
    "\n",
    "print('\\n데이터프레임 열 타입변경1 (str -> datetime) - pd.to_datetime(df[\"컬럼명\"])')\n",
    "print(pd.to_datetime(df6['date']))\n",
    "\n",
    "print('\\n데이터프레임 열 타입변경2 (datetime -> str) - df[\"컬럼명\"] = pd.DatetimeIndex(df[\"컬럼명\"])/.year/.month')\n",
    "df6['date_str'] = pd.DatetimeIndex(df6['date'])\n",
    "print(df6)\n",
    "df6['year'] = pd.DatetimeIndex(df6['date']).year\n",
    "print(df6)\n",
    "\n",
    "print('\\n데이터프레임 열 타입변경3 (str -> int) - df[\"컬럼명\"].astype(\"타입명\")')\n",
    "print(df6[\"year\"].astype(\"int\"))"
   ]
  },
  {
   "cell_type": "code",
   "execution_count": null,
   "metadata": {},
   "outputs": [
    {
     "name": "stdout",
     "output_type": "stream",
     "text": [
      "\n",
      "for문 활용\n",
      "[column1] (3)\n",
      "[column2] (3)\n",
      "[column3] (5)\n"
     ]
    }
   ],
   "source": [
    "# 데이터프레임 for문 활용\n",
    "print('\\nfor문 활용')\n",
    "for i in df5.columns :\n",
    "  categories = df5[i].unique()\n",
    "  print(f'[{i}] ({len(categories)})')"
   ]
  },
  {
   "cell_type": "code",
   "execution_count": null,
   "metadata": {},
   "outputs": [
    {
     "name": "stdout",
     "output_type": "stream",
     "text": [
      "조건문 활용1 - df.loc[( 조건식 )] [ [ \"컬럼명1\", \"컬럼명2\" ] ]\n",
      "         date   date_str  year\n",
      "0  2022-01-01 2022-01-01  2022\n",
      "1  2022-01-02 2022-01-02  2022\n",
      "2  2022-01-03 2022-01-03  2022\n",
      "\n",
      "    date_str  year\n",
      "0 2022-01-01  2022\n",
      "1 2022-01-02  2022\n",
      "2 2022-01-03  2022\n"
     ]
    }
   ],
   "source": [
    "# 조건문\n",
    "print('조건문 활용1 - df.loc[( 조건식 )] [ [ \"컬럼명1\", \"컬럼명2\" ] ]')\n",
    "print(df6)\n",
    "df7 = df6.loc[(df6['date'].str[:4]) == '2022'][['date_str','year']]\n",
    "print(f'\\n{df7}')"
   ]
  },
  {
   "cell_type": "markdown",
   "metadata": {},
   "source": [
    "3. Series"
   ]
  },
  {
   "cell_type": "code",
   "execution_count": null,
   "metadata": {},
   "outputs": [
    {
     "name": "stdout",
     "output_type": "stream",
     "text": [
      "시리즈 만들기 - pd.Series()\n",
      "Series([], dtype: float64)\n",
      "0    0\n",
      "1    1\n",
      "2    2\n",
      "3    3\n",
      "4    4\n",
      "dtype: int64\n",
      "\n",
      "시리즈 값 변경 - s [ ] / s.replace( 위치, 변경값, inplace=True )\n",
      "0     0\n",
      "1     1\n",
      "2     2\n",
      "3    99\n",
      "4     4\n",
      "dtype: int64\n",
      "0     0\n",
      "1     1\n",
      "2     2\n",
      "3    99\n",
      "4     4\n",
      "dtype: int64\n",
      "0    500\n",
      "1      1\n",
      "2      2\n",
      "3     99\n",
      "4      4\n",
      "dtype: int64\n"
     ]
    }
   ],
   "source": [
    "# 시리즈 (Type : Series())\n",
    "print('시리즈 만들기 - pd.Series()')\n",
    "s1 = pd.Series() # 빈 시리즈\n",
    "print(s1)\n",
    "s2 = pd.Series([0, 1, 2, 3, 4]) # 직접 값을 입력하여 시리즈 만들기\n",
    "print(s2)\n",
    "\n",
    "# 시리즈 값 변경\n",
    "print('\\n시리즈 값 변경 - s [ ] / s.replace( 위치, 변경값, inplace=True )')\n",
    "s2[3] = 99\n",
    "print(s2)\n",
    "s2.replace(0, 500) # 값은 변경되나 s2에 저장되지 않음\n",
    "print(s2)\n",
    "s2.replace(0, 500, inplace=True)\n",
    "print(s2)\n"
   ]
  },
  {
   "cell_type": "code",
   "execution_count": null,
   "metadata": {},
   "outputs": [
    {
     "name": "stdout",
     "output_type": "stream",
     "text": [
      "시리즈 여러값을 한번에 변경 - s.replace([변경 전 값], [변경 후 값]\n",
      "0    500\n",
      "1      1\n",
      "2     20\n",
      "3     99\n",
      "4     22\n",
      "dtype: int64\n",
      "\n",
      "시리즈 행 개수 출력 - len ( s ) / s.size / len(s.index)\n",
      "5\n",
      "5\n",
      "5\n",
      "\n",
      "결측값이 아닌 행 개수 출력 - s.count ( )\n",
      "5\n"
     ]
    }
   ],
   "source": [
    "# 시리즈 값 변경\n",
    "print('시리즈 여러값을 한번에 변경 - s.replace([변경 전 값], [변경 후 값]') # 변경 전 값은 인덱스넘버가 아님\n",
    "s2.replace([2, 3, 4], [20, 21, 22], inplace=True)\n",
    "print(s2)\n",
    "\n",
    "# 시리즈 행 개수 출력 - len ( s )\n",
    "print('\\n시리즈 행 개수 출력 - len ( s ) / s.size / len(s.index)')\n",
    "print(len(s2))\n",
    "print(s2.size)  # df.shape는 df의 ( row 수 , column 수 )를 출력한다.\n",
    "print(len(s2.index)) # df.index는 df의 index 값을 모두 출력한다.\n",
    "\n",
    "# 시리즈는 데이터프레임과 다르게 columns이 없다\n",
    "print('\\n결측값이 아닌 행 개수 출력 - s.count ( )')\n",
    "print(s2.count())"
   ]
  }
 ],
 "metadata": {
  "interpreter": {
   "hash": "5155f09c2d9d5ea2358402c611c02d493b1e0d486acc40854c56dc106b5c3d06"
  },
  "kernelspec": {
   "display_name": "Python 3.8.0 64-bit",
   "language": "python",
   "name": "python3"
  },
  "language_info": {
   "codemirror_mode": {
    "name": "ipython",
    "version": 3
   },
   "file_extension": ".py",
   "mimetype": "text/x-python",
   "name": "python",
   "nbconvert_exporter": "python",
   "pygments_lexer": "ipython3",
   "version": "3.8.0"
  },
  "orig_nbformat": 4
 },
 "nbformat": 4,
 "nbformat_minor": 2
}
