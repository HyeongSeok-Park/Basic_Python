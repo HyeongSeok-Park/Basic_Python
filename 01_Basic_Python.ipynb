{
 "cells": [
  {
   "cell_type": "markdown",
   "metadata": {},
   "source": [
    "1. 기본 파이썬"
   ]
  },
  {
   "cell_type": "code",
   "execution_count": 1,
   "metadata": {},
   "outputs": [],
   "source": [
    "# Pandas 라이브러리 불러오기\n",
    "import pandas as pd\n",
    "\n",
    "# Numpy 라이브러리 불러오기\n",
    "import numpy as np\n",
    "\n",
    "# 경고문 생략\n",
    "import warnings\n",
    "warnings.filterwarnings('ignore')"
   ]
  },
  {
   "cell_type": "code",
   "execution_count": 2,
   "metadata": {},
   "outputs": [
    {
     "name": "stdout",
     "output_type": "stream",
     "text": [
      "문자열1\n",
      "문자열2\n",
      "d\n",
      "e\n",
      "12\n",
      "문자열1문자열2\n",
      "문자열1문자열1\n"
     ]
    }
   ],
   "source": [
    "# 문자열 변수 생성\n",
    "d = '문자열1' # 작은 따옴표로 표현가능\n",
    "e = \"문자열2\" # 큰 따옴표로 표현가능\n",
    "# 참고 : 문자열 안에 작은따옴표나 큰따옴표가 있다면, 전체를 감싸는 따옴표는 반대대는 것을 사용하여 작성한다\n",
    "\n",
    "# 줄바꿈 후 출력 - print(    , sep='\\n') / print( ' \\n ' )\n",
    "# 참고 : print( ) 괄호 속에는 모두 같은 타입의 값이 입력되야한다.\n",
    "# ex) print(12 + 34) - 정상출력\n",
    "# ex) print(1 + '가') - 에러발생\n",
    "print(d, e, sep='\\n') # 각 변수에 대한 결과값을 줄 바꿈 후 출력\n",
    "print('d\\ne') # 문자열 안에서 \\n을 활용하여 줄바꿈\n",
    "print(1, end='') # 출력 후 다음 값이 바로 뒤에서 출력\n",
    "print(2)\n",
    "print(d+e) # 문자열변수끼리 덧셈 가능\n",
    "print(d*2) # 문자열변수 곱셈 가능"
   ]
  },
  {
   "cell_type": "code",
   "execution_count": 3,
   "metadata": {},
   "outputs": [
    {
     "name": "stdout",
     "output_type": "stream",
     "text": [
      "Life is too short, You need Python\n",
      "34\n",
      "o\n",
      "n\n",
      "P\n",
      "y\n",
      "Li\n",
      "Python\n",
      "Life is too short, You need Python\n",
      " is too short, You need Python\n",
      "Life is t\n"
     ]
    }
   ],
   "source": [
    "# 문자열 슬라이싱 - a[ : ]\n",
    "a = \"Life is too short, You need Python\"\n",
    "print(a)\n",
    "print(len(a)) # 변수 길이 출력\n",
    "print(a[10]) # 첫번째는 0 부터 시작\n",
    "print(a[-1]) # 뒤에서 시작시 -1 부터 시작\n",
    "print(a[-6])\n",
    "print(a[29])\n",
    "print(a[0:2])\n",
    "print(a[-6:34])\n",
    "print(a[-35:34])\n",
    "print(a[4:]) # 뒷자리 공란은 마지막 인덱스를 의미\n",
    "print(a[:9]) # 앞자리 공란은 첫번째 인덱스를 의미"
   ]
  },
  {
   "cell_type": "code",
   "execution_count": 4,
   "metadata": {},
   "outputs": [
    {
     "name": "stdout",
     "output_type": "stream",
     "text": [
      "Hello World\n",
      "Hello Korea\n"
     ]
    }
   ],
   "source": [
    "# 문자열 수정 - a.replace(   ,   )\n",
    "b = 'Hello World'\n",
    "print(b)\n",
    "b1 = b.replace('World', 'Korea')\n",
    "print(b1)"
   ]
  },
  {
   "cell_type": "code",
   "execution_count": 5,
   "metadata": {},
   "outputs": [
    {
     "name": "stdout",
     "output_type": "stream",
     "text": [
      "    hi    \n",
      "hi    \n",
      "    hi\n",
      "hi\n"
     ]
    }
   ],
   "source": [
    "# 공백 제거 - strip / rstrip / lstrip\n",
    "b = \"    hi    \"\n",
    "print(b)\n",
    "print(b.lstrip()) #문자열 왼쪽에 있는 공백을 제거\n",
    "print(b.rstrip()) #문자열 오른쪽에 있는 공백을 제거\n",
    "print(b.strip()) #문자열 양쪽에 있는 공백을 모두 제거"
   ]
  },
  {
   "cell_type": "code",
   "execution_count": 6,
   "metadata": {},
   "outputs": [
    {
     "name": "stdout",
     "output_type": "stream",
     "text": [
      "리스트 기본 명령어\n",
      "1\n",
      "2\n",
      "b\n",
      "['a', 'b', 'c']\n",
      "4\n",
      "[1, 2, 3, ['a', 'b', 'c'], 1, 2, 3, ['a', 'b', 'c']]\n",
      "12\n",
      "3\n",
      "[1, 2]\n",
      "[2, 3, ['a', 'b', 'c']]\n",
      "\n",
      "리스트 내용 수정\n",
      "['가', '나', 3]\n",
      "\n",
      "리스트 내용 삭제 - del\n",
      "[1, 2, 3, 4, 5]\n",
      "[1, 3, 4, 5]\n",
      "[1, 4, 5]\n",
      "[1]\n"
     ]
    }
   ],
   "source": [
    "# 리스트 - a = [  ,  ,  ,  ]\n",
    "print('리스트 기본 명령어')\n",
    "a = [1,2,3,['a','b','c']]\n",
    "print(a[0])\n",
    "print(a[1])\n",
    "print(a[3][1])\n",
    "print(a[-1])\n",
    "print(len(a))\n",
    "print(a*2)\n",
    "print(len(a*3))\n",
    "print(len(a[3]))\n",
    "print(a[0:2])\n",
    "print(a[1:])\n",
    "\n",
    "print('\\n리스트 내용 수정')\n",
    "b = ['가','나','다']\n",
    "b[2] = 3\n",
    "print(b)\n",
    "\n",
    "print('\\n리스트 내용 삭제 - del')\n",
    "c = [1,2,3,4,5]\n",
    "print(c)\n",
    "del c[1] # 리스트 2번째 값을 지움\n",
    "print(c)\n",
    "del c[1]\n",
    "# 참고 : 위에서 지웠기에 세번째에 위치한 값이 두번째로 당겨짐\n",
    "# 즉 print(b[2]) 입력시 오류 발생\n",
    "print(c)\n",
    "del c[1:] # 2번째부터 모두 지움\n",
    "print(c)"
   ]
  },
  {
   "cell_type": "code",
   "execution_count": 7,
   "metadata": {},
   "outputs": [
    {
     "name": "stdout",
     "output_type": "stream",
     "text": [
      "리스트 내용 추가 1 - append\n",
      "[1, 2, 3]\n",
      "[1, 2, 3, 4]\n",
      "[1, 2, 3, 4, ['가', '나', 3]]\n",
      "\n",
      "리스트 내용 추가 2 - extend\n",
      "[1, 2, 3]\n",
      "[1, 2, 3, 4]\n",
      "[1, 2, 3, 4, '가', '나', 3]\n"
     ]
    }
   ],
   "source": [
    "# 리스트 기능\n",
    "print('리스트 내용 추가 1 - append')\n",
    "d = [1,2,3]\n",
    "print(d)\n",
    "d.append(4) # 괄호 안의 값을 리스트에 있는 그대로 추가\n",
    "print(d)\n",
    "d.append(b)\n",
    "print(d)\n",
    "\n",
    "print('\\n리스트 내용 추가 2 - extend')\n",
    "e = [1,2,3]\n",
    "print(e)\n",
    "e.extend([4])\n",
    "# 참고 : 리스트값이 아닌 int값을 넣을 경우 에러발생\n",
    "print(e)\n",
    "e.extend(b) # 내부의 값을 작은 단위로 나눈 뒤 추가\n",
    "print(e)"
   ]
  },
  {
   "cell_type": "code",
   "execution_count": 8,
   "metadata": {},
   "outputs": [
    {
     "name": "stdout",
     "output_type": "stream",
     "text": [
      "리스트 내용 정렬 1 - sort ( )\n",
      "[5, 8, 6, 4, 2, 6, 8, 4]\n",
      "[2, 4, 4, 5, 6, 6, 8, 8]\n",
      "\n",
      "리스트 내용 정렬 2 - reverse ( )\n",
      "[8, 8, 6, 6, 5, 4, 4, 2]\n",
      "\n",
      "리스트 for 문\n",
      "1 / 1\n",
      "======\n",
      "2 / 3\n",
      "======\n",
      "3 / 5\n",
      "======\n",
      "4 / 7\n",
      "======\n",
      "5 / 9\n",
      "======\n"
     ]
    }
   ],
   "source": [
    "# 리스트 기능\n",
    "print('리스트 내용 정렬 1 - sort ( )')\n",
    "a = [5,8,6,4,2,6,8,4]\n",
    "print(a)\n",
    "a.sort()\n",
    "print(a)\n",
    "\n",
    "print('\\n리스트 내용 정렬 2 - reverse ( )')\n",
    "a.reverse()\n",
    "print(a)\n",
    "\n",
    "print('\\n리스트 for 문')\n",
    "odds = [1, 3, 5, 7, 9]\n",
    "count = 1\n",
    "\n",
    "for odd in odds:\n",
    "  print (count, end=' / ')\n",
    "  print (odd)\n",
    "  print (\"======\")\n",
    "  count = count +1"
   ]
  },
  {
   "cell_type": "code",
   "execution_count": 9,
   "metadata": {},
   "outputs": [
    {
     "name": "stdout",
     "output_type": "stream",
     "text": [
      "딕셔너리 만들기\n",
      "{1: 'a', 4: 'b', 'name': 'pey', 3: [1, 2, 3]}\n",
      "dict_keys([1, 4, 'name', 3])\n",
      "dict_values(['a', 'b', 'pey', [1, 2, 3]])\n",
      "\n",
      "딕셔너리 for문\n",
      "{1: 'a', 2: 'b', 'name': 'mark', 3: [1, 2, 3]}\n",
      "1 / a\n",
      "2 / b\n",
      "name / mark\n",
      "3 / [1, 2, 3]\n"
     ]
    }
   ],
   "source": [
    "# 딕셔너리\n",
    "print('딕셔너리 만들기')\n",
    "dictionary = {1: 'a', 4: 'b', 'name': 'pey', 3: [1, 2, 3]}\n",
    "print(dictionary)\n",
    "print(dictionary.keys()) # key값 출력\n",
    "print(dictionary.values()) # value값 출력\n",
    "\n",
    "print('\\n딕셔너리 for문')\n",
    "for_test = {1: 'a', 2: 'b', 'name': 'mark', 3: [1, 2, 3]}\n",
    "print(for_test)\n",
    "for key in for_test.keys() :\n",
    "    print(key, end=' / ')\n",
    "    print(for_test[key])"
   ]
  },
  {
   "cell_type": "markdown",
   "metadata": {},
   "source": [
    "2. DataFrame"
   ]
  },
  {
   "cell_type": "code",
   "execution_count": 2,
   "metadata": {},
   "outputs": [
    {
     "name": "stdout",
     "output_type": "stream",
     "text": [
      "데이터프레임 만들기 1 - pd.DataFrame()\n",
      "Empty DataFrame\n",
      "Columns: []\n",
      "Index: []\n",
      "\n",
      "데이터프레임 만들기 2 - pd.DataFrame(np.zeros(( a , b )))\n",
      "     0    1    2    3    4\n",
      "0  0.0  0.0  0.0  0.0  0.0\n",
      "1  0.0  0.0  0.0  0.0  0.0\n",
      "2  0.0  0.0  0.0  0.0  0.0\n",
      "3  0.0  0.0  0.0  0.0  0.0\n",
      "4  0.0  0.0  0.0  0.0  0.0\n",
      "5  0.0  0.0  0.0  0.0  0.0\n",
      "6  0.0  0.0  0.0  0.0  0.0\n",
      "7  0.0  0.0  0.0  0.0  0.0\n",
      "8  0.0  0.0  0.0  0.0  0.0\n",
      "9  0.0  0.0  0.0  0.0  0.0\n",
      "\n",
      "데이터프레임 만들기 3\n",
      "   column1  column2  column3\n",
      "0        0        5       10\n",
      "1        1        6       11\n",
      "2        1        7       12\n",
      "3        1        1        1\n",
      "4        1        9       14\n"
     ]
    }
   ],
   "source": [
    "# 데이터프레임 (Type : DataFrame())\n",
    "print('데이터프레임 만들기 1 - pd.DataFrame()')\n",
    "df1 = pd.DataFrame() # 빈 데이터프레임\n",
    "print(df1)\n",
    "\n",
    "print('\\n데이터프레임 만들기 2 - pd.DataFrame(np.zeros(( a , b )))')\n",
    "df2 = pd.DataFrame(np.zeros((10,5))) # 0 값을 가지는 데이터프레임 (02_Basic_Python 참조)\n",
    "print(df2)\n",
    "\n",
    "print('\\n데이터프레임 만들기 3') # 직접 입력하여 데이터프레임 만들기\n",
    "df3 = pd.DataFrame({'column1':[0, 1, 1, 1, 1],\n",
    "                    'column2':[5, 6, 7, 1, 9],\n",
    "                    'column3':[10, 11, 12, 1, 14]}) # index = [ , , ]으로 인덱스 지정 가능\n",
    "print(df3)"
   ]
  },
  {
   "cell_type": "code",
   "execution_count": 3,
   "metadata": {},
   "outputs": [
    {
     "name": "stdout",
     "output_type": "stream",
     "text": [
      "데이터프레임 상위 5행 출력 - df.head( 숫자로 갯수 변경 가능 )\n",
      "     0    1    2    3    4\n",
      "0  0.0  0.0  0.0  0.0  0.0\n",
      "1  0.0  0.0  0.0  0.0  0.0\n",
      "2  0.0  0.0  0.0  0.0  0.0\n",
      "3  0.0  0.0  0.0  0.0  0.0\n",
      "4  0.0  0.0  0.0  0.0  0.0\n",
      "\n",
      "데이터프레임 하위 2행 출력 - df.tail( 숫자로 갯수 변경 가능 )\n",
      "     0    1    2    3    4\n",
      "8  0.0  0.0  0.0  0.0  0.0\n",
      "9  0.0  0.0  0.0  0.0  0.0\n",
      "\n",
      "데이터프레임 랜덤 4행 출력 - df.sample( 숫자로 갯수 변경 가능 )\n",
      "     0    1    2    3    4\n",
      "5  0.0  0.0  0.0  0.0  0.0\n",
      "4  0.0  0.0  0.0  0.0  0.0\n",
      "8  0.0  0.0  0.0  0.0  0.0\n",
      "3  0.0  0.0  0.0  0.0  0.0\n"
     ]
    }
   ],
   "source": [
    "# 데이터프레임 값 확인\n",
    "print('데이터프레임 상위 5행 출력 - df.head( 숫자로 갯수 변경 가능 )' )\n",
    "print(df2.head())\n",
    "print('\\n데이터프레임 하위 2행 출력 - df.tail( 숫자로 갯수 변경 가능 )' )\n",
    "print(df2.tail(2))\n",
    "print('\\n데이터프레임 랜덤 4행 출력 - df.sample( 숫자로 갯수 변경 가능 )' )\n",
    "print(df2.sample(4))"
   ]
  },
  {
   "cell_type": "code",
   "execution_count": 4,
   "metadata": {},
   "outputs": [
    {
     "name": "stdout",
     "output_type": "stream",
     "text": [
      "데이터프레임 특정값 불러오기 - df.loc [ 행index , \"column명\" ] / df.iloc [ 행index , column_index ] / df[\"column명\"][index]\n",
      "7\n",
      "7\n",
      "7\n",
      "\n",
      "데이터프레임 행 값 불러오기 - df[ index넘버 : index넘버 ] / df.loc [  ] / df.iloc [  ]\n",
      "   column1  column2  column3\n",
      "0        0        5       10\n",
      "column1     0\n",
      "column2     5\n",
      "column3    10\n",
      "Name: 0, dtype: int64\n",
      "\n",
      "데이터프레임 열 값 불러오기 - df[ \"column명\" ] / df.loc[ : , \"column명\" ] / df.iloc[ : , index넘버 ]\n",
      "0    0\n",
      "1    1\n",
      "2    1\n",
      "3    1\n",
      "4    1\n",
      "Name: column1, dtype: int64\n"
     ]
    }
   ],
   "source": [
    "# 데이터프레임 특정 값 불러오기\n",
    "print('데이터프레임 특정값 불러오기 - df.loc [ 행index , \"column명\" ] / df.iloc [ 행index , column_index ] / df[\"column명\"][index]')\n",
    "print(df3.loc[2,'column2'])\n",
    "print(df3.iloc[2,1])\n",
    "print(df3['column2'][2])\n",
    "# 참고 : loc와 iloc의 차이\n",
    "# loc  : 칼럼명을 직접 쓰거나 특정 조건식을 써줌으로써 사람이 읽기 좋은 방법으로 데이터에 접근\n",
    "# iloc : 데이터의 위치(index)를 써줌으로써 컴퓨터가 읽기 좋은 방법으로 데이터에 접근\n",
    "\n",
    "print('\\n데이터프레임 행 값 불러오기 - df[ index넘버 : index넘버 ] / df.loc [  ] / df.iloc [  ]')\n",
    "print(df3[0:1])\n",
    "print(df3.loc[0])\n",
    "# print(df3.iloc[0]) # 결과값은 위의 코드와 같음\n",
    "\n",
    "print('\\n데이터프레임 열 값 불러오기 - df[ \"column명\" ] / df.loc[ : , \"column명\" ] / df.iloc[ : , index넘버 ]')\n",
    "print(df3['column1'])\n",
    "# print(df3.loc[:,'column1']) # 결과값은 위의 코드와 같음\n",
    "# print(df3.iloc[:, 0]) # 결과값은 위의 코드와 같음"
   ]
  },
  {
   "cell_type": "code",
   "execution_count": 5,
   "metadata": {},
   "outputs": [
    {
     "name": "stdout",
     "output_type": "stream",
     "text": [
      "데이터프레임 값 변경 - df.replace\n",
      "   column1  column2  column3\n",
      "0        0        5       10\n",
      "1       33        6       11\n",
      "2       33        7       12\n",
      "3       33       33       33\n",
      "4       33        9       14\n",
      "   column1  column2  column3\n",
      "0        0        5       10\n",
      "1        1        6       11\n",
      "2        1        7       12\n",
      "3        1       33       33\n",
      "4        1        9       14\n",
      "   column1  column2  column3\n",
      "0        0        5       10\n",
      "1       55        6       11\n",
      "2       55        7       12\n",
      "3       55       55       33\n",
      "4       55        9       14\n",
      "   column1  column2  column3\n",
      "0        0        3       10\n",
      "1        3        6       11\n",
      "2        3        7       12\n",
      "3        3       55       33\n",
      "4        3        9       14\n"
     ]
    }
   ],
   "source": [
    "# 데이터프레임 특정 값 수정\n",
    "print('데이터프레임 값 변경 - df.replace')\n",
    "df3.replace(1, 33, inplace=True) # 데이터프레임에 있는 모든 1을 33으로 변경\n",
    "print(df3)\n",
    "df3.replace({'column1':33}, 1, inplace=True) # 데이터프레임 특정 컬럼에 있는 모든 1을 33으로 변경\n",
    "print(df3)\n",
    "df3.replace({'column1':1, 'column2':33}, 55, inplace=True) # 다수의 column 선택 가능\n",
    "print(df3)\n",
    "df3.replace({'column1':{55:3}, 'column2':{5:3}}, inplace=True) # 각각의 column에 각각 변경값 설정 가능\n",
    "print(df3)"
   ]
  },
  {
   "cell_type": "code",
   "execution_count": 6,
   "metadata": {},
   "outputs": [
    {
     "name": "stdout",
     "output_type": "stream",
     "text": [
      "데이터프레임 조건에 따라 불러오기 - df[ ( 조건식 ) ]\n",
      "   column1  column2  column3\n",
      "0        0        3       10\n",
      "2        3        7       12\n",
      "   column1  column2\n",
      "0        0        3\n",
      "1        3        6\n",
      "2        3        7\n",
      "3        3       55\n",
      "4        3        9\n",
      "   column1  column2  column3\n",
      "0        0        3       10\n",
      "1        3        6       11\n",
      "2        3        7       12\n",
      "3        3       55       33\n"
     ]
    }
   ],
   "source": [
    "# 데이터프레임 조건 설정\n",
    "print(\"데이터프레임 조건에 따라 불러오기 - df[ ( 조건식 ) ]\")\n",
    "df4 = df3[(df3['column1'] == 0) | (df3['column2'] == 7)] # df[ ] 활용\n",
    "print(df4)\n",
    "df5 = df3.loc[df3['column1'] <= 5, 'column1':'column2'] # loc 활용\n",
    "print(df5)\n",
    "df6 = df3.iloc[0:4,0:3] # iloc 활용\n",
    "print(df6)"
   ]
  },
  {
   "cell_type": "code",
   "execution_count": 7,
   "metadata": {},
   "outputs": [
    {
     "name": "stdout",
     "output_type": "stream",
     "text": [
      "column명 바꾸기 - df.rename ( columns = { \"before1\" : \"after1\" , \"before2\" : \"after2\", ... } )\n",
      "column명 변경 전\n",
      "   column1  column2  column3\n",
      "0        0        3       10\n",
      "1        3        6       11\n",
      "2        3        7       12\n",
      "3        3       55       33\n",
      "\n",
      "column명 변경 후\n",
      "   항목1  항목2  항목3\n",
      "0    0    3   10\n",
      "1    3    6   11\n",
      "2    3    7   12\n",
      "3    3   55   33\n",
      "\n",
      "column명 한번에 모두 바꾸기 - df.columns = [ \"name1\" , \"name2\"  ... ]\n",
      "   Category1  Category2  Category3\n",
      "0          0          3         10\n",
      "1          3          6         11\n",
      "2          3          7         12\n",
      "3          3         55         33\n"
     ]
    }
   ],
   "source": [
    "# column명 변경\n",
    "print('column명 바꾸기 - df.rename ( columns = { \"before1\" : \"after1\" , \"before2\" : \"after2\", ... } )')\n",
    "print('column명 변경 전')\n",
    "print(df6)\n",
    "print('\\ncolumn명 변경 후')\n",
    "df6.rename(columns = {'column1' : '항목1',\n",
    "                      'column2' : '항목2',\n",
    "                      'column3' : '항목3'}, inplace = True)\n",
    "print(df6)\n",
    "\n",
    "print('\\ncolumn명 한번에 모두 바꾸기 - df.columns = [ \"name1\" , \"name2\"  ... ]')\n",
    "df6.columns = ['Category1', 'Category2', 'Category3']\n",
    "print(df6)"
   ]
  },
  {
   "cell_type": "code",
   "execution_count": 8,
   "metadata": {},
   "outputs": [
    {
     "name": "stdout",
     "output_type": "stream",
     "text": [
      "\n",
      "행 개수 출력 - len ( df ) / df.shape[0] / len(df.index)\n",
      "5\n",
      "5\n",
      "5\n",
      "\n",
      "열 개수 출력 - df.shape[1] / len(df.columns)\n",
      "3\n",
      "3\n",
      "\n",
      "결측값이 아닌 행 개수 출력 - df.count ( )\n",
      "column1    5\n",
      "column2    5\n",
      "column3    5\n",
      "dtype: int64\n"
     ]
    }
   ],
   "source": [
    "# 데이터프레임\n",
    "print('\\n행 개수 출력 - len ( df ) / df.shape[0] / len(df.index)')\n",
    "print(len(df3))\n",
    "print(df3.shape[0]) # df.shape는 df의 ( row 수 , column 수 )를 출력한다.\n",
    "print(len(df3.index)) # df.index는 df의 index 값을 모두 출력한다.\n",
    "\n",
    "print('\\n열 개수 출력 - df.shape[1] / len(df.columns)')\n",
    "print(df3.shape[1])\n",
    "print(len(df3.columns)) # df.shape는 df의 columns 값을 모두 출력한다.\n",
    "\n",
    "print('\\n결측값이 아닌 행 개수 출력 - df.count ( )')\n",
    "print(df3.count())"
   ]
  },
  {
   "cell_type": "code",
   "execution_count": 9,
   "metadata": {},
   "outputs": [
    {
     "name": "stdout",
     "output_type": "stream",
     "text": [
      "   column1  column2  column3\n",
      "0      0.0      NaN     10.0\n",
      "1      3.0      6.0     11.0\n",
      "2      NaN      NaN     12.0\n",
      "3      3.0      NaN     33.0\n",
      "4      3.0      9.0      NaN\n",
      "\n",
      "결측값 확인 - df.isnull\n",
      "   column1  column2  column3\n",
      "0    False     True    False\n",
      "1    False    False    False\n",
      "2     True     True    False\n",
      "3    False     True    False\n",
      "4    False    False     True\n",
      "column1    1\n",
      "column2    3\n",
      "column3    1\n",
      "dtype: int64\n",
      "\n",
      "결측값이 있는 행 제거 - df.dropna( axis = 0 )\n",
      "   column1  column2  column3\n",
      "1      3.0      6.0     11.0\n",
      "\n",
      "결측값이 있는 열 제거 - df.dropna( axis = 1 )\n",
      "Empty DataFrame\n",
      "Columns: []\n",
      "Index: [0, 1, 2, 3, 4]\n"
     ]
    }
   ],
   "source": [
    "# 결측값을 포함하는 데이터프레임 생성\n",
    "df4 = df3\n",
    "df4['column1'][2] = None\n",
    "df4['column2'][0] = None\n",
    "df4['column2'][2] = None\n",
    "df4['column2'][3] = None\n",
    "df4['column3'][4] = None\n",
    "print(df4)\n",
    "\n",
    "# 결측치 확인\n",
    "print('\\n결측값 확인 - df.isnull')\n",
    "print(df4.isnull()) # True = Null\n",
    "print(df4.isnull().sum()) # Null값 총계 표시\n",
    "\n",
    "# 결측치 제거\n",
    "print('\\n결측값이 있는 행 제거 - df.dropna( axis = 0 )')\n",
    "print(df4.dropna(axis = 0))\n",
    "\n",
    "print('\\n결측값이 있는 열 제거 - df.dropna( axis = 1 )')\n",
    "print(df4.dropna(axis = 1))"
   ]
  },
  {
   "cell_type": "code",
   "execution_count": 10,
   "metadata": {},
   "outputs": [
    {
     "name": "stdout",
     "output_type": "stream",
     "text": [
      "결측값을 특정 값으로 대치 - df.fillna( 특정값 )\n",
      "   column1  column2  column3\n",
      "0      0.0      0.0     10.0\n",
      "1      3.0      6.0     11.0\n",
      "2      0.0      0.0     12.0\n",
      "3      3.0      0.0     33.0\n",
      "4      3.0      9.0      0.0\n",
      "-----------------------------\n",
      "   column1  column2  column3\n",
      "0      0.0  missing     10.0\n",
      "1      3.0      6.0     11.0\n",
      "2  missing  missing     12.0\n",
      "3      3.0  missing     33.0\n",
      "4      3.0      9.0  missing\n",
      "\n",
      "결측값을 앞 방향으로 채우기 - df.fillna(method = \"ffill\" or \"pad\")\n",
      "   column1  column2  column3\n",
      "0      0.0      NaN     10.0\n",
      "1      3.0      6.0     11.0\n",
      "2      3.0      6.0     12.0\n",
      "3      3.0      6.0     33.0\n",
      "4      3.0      9.0     33.0\n"
     ]
    }
   ],
   "source": [
    "# 결측치 치환 1\n",
    "print('결측값을 특정 값으로 대치 - df.fillna( 특정값 )')\n",
    "print(df4.fillna(0)) # 결측값을 0으로 치환\n",
    "print('-----------------------------')\n",
    "print(df4.fillna('missing')) # 결측값을 missing 단어로 치환\n",
    "\n",
    "print('\\n결측값을 앞 방향으로 채우기 - df.fillna(method = \"ffill\" or \"pad\")')\n",
    "print(df4.fillna(method = 'ffill'))\n",
    "# print(df4.fillna(method = 'pad')) # 결과값은 위의 코드와 같음"
   ]
  },
  {
   "cell_type": "code",
   "execution_count": 11,
   "metadata": {},
   "outputs": [
    {
     "name": "stdout",
     "output_type": "stream",
     "text": [
      "결측값을 뒷 방향으로 채우기 - df.fillna(method = \"bfill\" or \"backfill\")\n",
      "   column1  column2  column3\n",
      "0      0.0      6.0     10.0\n",
      "1      3.0      6.0     11.0\n",
      "2      3.0      9.0     12.0\n",
      "3      3.0      9.0     33.0\n",
      "4      3.0      9.0      NaN\n",
      "\n",
      "특정 column의 결측치 치환 - np.where() & pd.notnull()\n",
      "   column1  column2  column3\n",
      "0      0.0     20.0     10.0\n",
      "1      3.0      6.0     11.0\n",
      "2      NaN     20.0     12.0\n",
      "3      3.0     20.0     33.0\n",
      "4      3.0      9.0      NaN\n"
     ]
    }
   ],
   "source": [
    "# 결측치 치환 2\n",
    "print('결측값을 뒷 방향으로 채우기 - df.fillna(method = \"bfill\" or \"backfill\")')\n",
    "print(df4.fillna(method = 'bfill'))\n",
    "# print(df4.fillna(method = 'backfill')) # 결과값은 위의 코드와 같음\n",
    "\n",
    "# 결측치 치환 응용\n",
    "print('\\n특정 column의 결측치 치환 - np.where() & pd.notnull()')\n",
    "df5 = df4\n",
    "df5['column2'] = np.where(pd.notnull(df5['column2']) == True, df5['column2'], 20)\n",
    "print(df5) # column2의 결측치가 20으로 치환됨"
   ]
  },
  {
   "cell_type": "code",
   "execution_count": 16,
   "metadata": {},
   "outputs": [
    {
     "name": "stdout",
     "output_type": "stream",
     "text": [
      "특정 column에서 고유값 확인(중복값 카운트) - df[ \" column명 \" ].value_counts()\n",
      "20.0    3\n",
      "6.0     1\n",
      "9.0     1\n",
      "Name: column2, dtype: int64\n",
      "\n",
      "특정 column에서 고유값 확인(중복 제거) - df[ \" column명 \" ].unique()\n",
      "[20.  6.  9.]\n",
      "\n",
      "특정 column에서 고유값 수 확인 - df[ \" column명 \" ].nunique()\n",
      "3\n"
     ]
    }
   ],
   "source": [
    "# value값 확인\n",
    "print('특정 column에서 고유값 확인(중복값 카운트) - df[ \" column명 \" ].value_counts()')\n",
    "print(df5['column2'].value_counts())\n",
    "\n",
    "print('\\n특정 column에서 고유값 확인(중복 제거) - df[ \" column명 \" ].unique()')\n",
    "print(df5['column2'].unique())\n",
    "\n",
    "print('\\n특정 column에서 고유값 수 확인 - df[ \" column명 \" ].nunique()')\n",
    "print(df5['column2'].nunique())\n"
   ]
  },
  {
   "cell_type": "code",
   "execution_count": 113,
   "metadata": {},
   "outputs": [
    {
     "name": "stdout",
     "output_type": "stream",
     "text": [
      "\n",
      "for문 활용\n",
      "column1     0\n",
      "column2     5\n",
      "column3    10\n",
      "Name: 0, dtype: int64\n",
      "column1     1\n",
      "column2     6\n",
      "column3    11\n",
      "Name: 1, dtype: int64\n",
      "column1     1\n",
      "column2     7\n",
      "column3    12\n",
      "Name: 2, dtype: int64\n",
      "column1    1\n",
      "column2    1\n",
      "column3    1\n",
      "Name: 3, dtype: int64\n",
      "column1     1\n",
      "column2     9\n",
      "column3    14\n",
      "Name: 4, dtype: int64\n"
     ]
    }
   ],
   "source": [
    "# 데이터프레임 for문 활용\n",
    "print('\\nfor문 활용')\n",
    "for i in range(len(df3)) :\n",
    "  a = df3.iloc[i]\n",
    "  print(a)"
   ]
  },
  {
   "cell_type": "markdown",
   "metadata": {},
   "source": [
    "3. Series"
   ]
  },
  {
   "cell_type": "code",
   "execution_count": 22,
   "metadata": {},
   "outputs": [
    {
     "name": "stdout",
     "output_type": "stream",
     "text": [
      "시리즈 만들기 - pd.Series()\n",
      "Series([], dtype: float64)\n",
      "0    0\n",
      "1    1\n",
      "2    2\n",
      "3    3\n",
      "4    4\n",
      "dtype: int64\n",
      "\n",
      "시리즈 값 변경 - s [ ] / s.replace( 위치, 변경값, inplace=True )\n",
      "0     0\n",
      "1     1\n",
      "2     2\n",
      "3    99\n",
      "4     4\n",
      "dtype: int64\n",
      "0     0\n",
      "1     1\n",
      "2     2\n",
      "3    99\n",
      "4     4\n",
      "dtype: int64\n",
      "0    500\n",
      "1      1\n",
      "2      2\n",
      "3     99\n",
      "4      4\n",
      "dtype: int64\n"
     ]
    }
   ],
   "source": [
    "# 시리즈 (Type : Series())\n",
    "print('시리즈 만들기 - pd.Series()')\n",
    "s1 = pd.Series() # 빈 시리즈\n",
    "print(s1)\n",
    "s2 = pd.Series([0, 1, 2, 3, 4]) # 직접 값을 입력하여 시리즈 만들기\n",
    "print(s2)\n",
    "\n",
    "# 시리즈 값 변경\n",
    "print('\\n시리즈 값 변경 - s [ ] / s.replace( 위치, 변경값, inplace=True )')\n",
    "s2[3] = 99\n",
    "print(s2)\n",
    "s2.replace(0, 500) # 값은 변경되나 s2에 저장되지 않음\n",
    "print(s2)\n",
    "s2.replace(0, 500, inplace=True)\n",
    "print(s2)\n"
   ]
  },
  {
   "cell_type": "code",
   "execution_count": 137,
   "metadata": {},
   "outputs": [
    {
     "name": "stdout",
     "output_type": "stream",
     "text": [
      "시리즈 여러값을 한번에 변경 - s.replace([변경 전 값], [변경 후 값]\n",
      "0    500\n",
      "1      1\n",
      "2     20\n",
      "3     99\n",
      "4     22\n",
      "dtype: int64\n",
      "\n",
      "시리즈 행 개수 출력 - len ( s ) / s.size / len(s.index)\n",
      "5\n",
      "5\n",
      "5\n",
      "\n",
      "Null 값이 아닌 행 개수 출력 - s.count ( ) \n",
      "5\n"
     ]
    }
   ],
   "source": [
    "# 시리즈 값 변경\n",
    "print('시리즈 여러값을 한번에 변경 - s.replace([변경 전 값], [변경 후 값]') # 변경 전 값은 인덱스넘버가 아님\n",
    "s2.replace([2, 3, 4], [20, 21, 22], inplace=True)\n",
    "print(s2)\n",
    "\n",
    "# 시리즈 행 개수 출력 - len ( s )\n",
    "print('\\n시리즈 행 개수 출력 - len ( s ) / s.size / len(s.index)')\n",
    "print(len(s2))\n",
    "print(s2.size)  # df.shape는 df의 ( row 수 , column 수 )를 출력한다.\n",
    "print(len(s2.index)) # df.index는 df의 index 값을 모두 출력한다.\n",
    "\n",
    "# 시리즈는 데이터프레임과 다르게 columns이 없다\n",
    "print('\\n결측값이 아닌 행 개수 출력 - s.count ( )')\n",
    "print(s2.count())"
   ]
  }
 ],
 "metadata": {
  "interpreter": {
   "hash": "5155f09c2d9d5ea2358402c611c02d493b1e0d486acc40854c56dc106b5c3d06"
  },
  "kernelspec": {
   "display_name": "Python 3.8.0 64-bit",
   "language": "python",
   "name": "python3"
  },
  "language_info": {
   "codemirror_mode": {
    "name": "ipython",
    "version": 3
   },
   "file_extension": ".py",
   "mimetype": "text/x-python",
   "name": "python",
   "nbconvert_exporter": "python",
   "pygments_lexer": "ipython3",
   "version": "3.8.0"
  },
  "orig_nbformat": 4
 },
 "nbformat": 4,
 "nbformat_minor": 2
}
