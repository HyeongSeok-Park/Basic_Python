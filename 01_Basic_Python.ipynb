{
 "cells": [
  {
   "cell_type": "code",
   "execution_count": 2,
   "metadata": {},
   "outputs": [
    {
     "name": "stdout",
     "output_type": "stream",
     "text": [
      "문자열1\n",
      "문자열2\n",
      "d\n",
      "e\n",
      "12\n",
      "문자열1문자열2\n",
      "문자열1문자열1\n"
     ]
    }
   ],
   "source": [
    "# 문자열 변수 생성\n",
    "d = '문자열1' # 작은 따옴표로 표현가능\n",
    "e = \"문자열2\" # 큰 따옴표로 표현가능\n",
    "# 참고 : 문자열 안에 작은따옴표나 큰따옴표가 있다면, 전체를 감싸는 따옴표는 반대대는 것을 사용하여 작성한다\n",
    "\n",
    "# 줄바꿈 후 출력 - print(    , sep='\\n') / print( ' \\n ' )\n",
    "# 참고 : print( ) 괄호 속에는 모두 같은 타입의 값이 입력되야한다.\n",
    "# ex) print(12 + 34) - 정상출력\n",
    "# ex) print(1 + '가') - 에러발생\n",
    "print(d, e, sep='\\n') # 각 변수에 대한 결과값을 줄 바꿈 후 출력\n",
    "print('d\\ne') # 문자열 안에서 \\n을 활용하여 줄바꿈\n",
    "print(1, end='') # 출력 후 다음 값이 바로 뒤에서 출력\n",
    "print(2)\n",
    "print(d+e) # 문자열변수끼리 덧셈 가능\n",
    "print(d*2) # 문자열변수 곱셈 가능"
   ]
  },
  {
   "cell_type": "code",
   "execution_count": 33,
   "metadata": {},
   "outputs": [
    {
     "name": "stdout",
     "output_type": "stream",
     "text": [
      "Life is too short, You need Python\n",
      "34\n",
      "o\n",
      "n\n",
      "P\n",
      "y\n",
      "Li\n",
      "Python\n",
      "Life is too short, You need Python\n",
      " is too short, You need Python\n",
      "Life is t\n",
      "Hellow world\n",
      "Hellow world\n"
     ]
    }
   ],
   "source": [
    "# 문자열 슬라이싱 - a[ : ]\n",
    "a = \"Life is too short, You need Python\"\n",
    "print(a)\n",
    "print(len(a)) # 변수 길이 출력\n",
    "print(a[10]) # 첫번째는 0 부터 시작\n",
    "print(a[-1]) # 뒤에서 시작시 -1 부터 시작\n",
    "print(a[-6])\n",
    "print(a[29])\n",
    "print(a[0:2])\n",
    "print(a[-6:34])\n",
    "print(a[-35:34])\n",
    "print(a[4:]) # 뒷자리 공란은 마지막 인덱스를 의미\n",
    "print(a[:9]) # 앞자리 공란은 첫번째 인덱스를 의미"
   ]
  },
  {
   "cell_type": "code",
   "execution_count": 37,
   "metadata": {},
   "outputs": [
    {
     "name": "stdout",
     "output_type": "stream",
     "text": [
      "Hellow World\n",
      "Hellow Korea\n"
     ]
    }
   ],
   "source": [
    "# 문자열 수정 - a.replace(   ,   )\n",
    "b = 'Hellow World'\n",
    "print(b)\n",
    "b1 = b.replace('World', 'Korea')\n",
    "print(b1)"
   ]
  },
  {
   "cell_type": "code",
   "execution_count": 1,
   "metadata": {},
   "outputs": [
    {
     "name": "stdout",
     "output_type": "stream",
     "text": [
      "    hi    \n",
      "hi    \n",
      "    hi\n",
      "hi\n"
     ]
    }
   ],
   "source": [
    "# 공백 제거 - strip / rstrip / lstrip\n",
    "b = \"    hi    \"\n",
    "print(b)\n",
    "print(b.lstrip()) #문자열 왼쪽에 있는 공백을 제거\n",
    "print(b.rstrip()) #문자열 오른쪽에 있는 공백을 제거\n",
    "print(b.strip()) #문자열 양쪽에 있는 공백을 모두 제거"
   ]
  },
  {
   "cell_type": "code",
   "execution_count": 32,
   "metadata": {},
   "outputs": [
    {
     "name": "stdout",
     "output_type": "stream",
     "text": [
      "리스트 기본 명령어\n",
      "1\n",
      "2\n",
      "b\n",
      "['a', 'b', 'c']\n",
      "4\n",
      "[1, 2, 3, ['a', 'b', 'c'], 1, 2, 3, ['a', 'b', 'c']]\n",
      "12\n",
      "3\n",
      "[1, 2]\n",
      "[2, 3, ['a', 'b', 'c']]\n",
      "\n",
      "리스트 내용 수정\n",
      "['가', '나', 3]\n",
      "\n",
      "리스트 내용 삭제\n",
      "[1, 2, 3, 4, 5]\n",
      "[1, 3, 4, 5]\n",
      "[1, 4, 5]\n",
      "[1]\n",
      "\n",
      "리스트 내용 추가\n",
      "[1, 2, 3]\n",
      "[1, 2, 3, 4]\n",
      "[1, 2, 3, 4, ['가', '나', 3]]\n"
     ]
    }
   ],
   "source": [
    "# 리스트 - a = [  ,  ,  ,  ]\n",
    "print('리스트 기본 명령어')\n",
    "a = [1,2,3,['a','b','c']]\n",
    "print(a[0])\n",
    "print(a[1])\n",
    "print(a[3][1])\n",
    "print(a[-1])\n",
    "print(len(a))\n",
    "print(a*2)\n",
    "print(len(a*3))\n",
    "print(len(a[3]))\n",
    "print(a[0:2])\n",
    "print(a[1:])\n",
    "\n",
    "print('\\n리스트 내용 수정')\n",
    "b = ['가','나','다']\n",
    "b[2] = 3 # ? : replace는 언제 사용하는가?\n",
    "print(b)\n",
    "\n",
    "print('\\n리스트 내용 삭제 - del')\n",
    "c = [1,2,3,4,5]\n",
    "print(c)\n",
    "del c[1] #리스트 하나의 값을 지우는 명령어\n",
    "print(c)\n",
    "del c[1]\n",
    "# 참고 : 위에서 지웠기에 세번째에 위치한 값이 두번째로 당겨짐\n",
    "# 즉 print(b[2]) 입력시 오류 발생\n",
    "print(c)\n",
    "del c[1:] # 2번째부터 모두 지움\n",
    "print(c)\n",
    "\n",
    "print('\\n리스트 내용 추가 1 - append')\n",
    "d = [1,2,3]\n",
    "print(d)\n",
    "d.append(4) # 괄호 안의 값을 리스트에 있는 그대로를 추가\n",
    "print(d)\n",
    "d.append(b)\n",
    "print(d)\n",
    "\n"
   ]
  },
  {
   "cell_type": "code",
   "execution_count": 8,
   "metadata": {},
   "outputs": [
    {
     "name": "stdout",
     "output_type": "stream",
     "text": [
      "1 / 1\n",
      "=======================\n",
      "2 / 3\n",
      "=======================\n",
      "3 / 5\n",
      "=======================\n",
      "4 / 7\n",
      "=======================\n",
      "5 / 9\n",
      "=======================\n",
      "\n",
      "[1, 2, 4]\n",
      "[1, 4]\n",
      "[1, 2, 3, 4, 5]\n",
      "[1, 2]\n"
     ]
    }
   ],
   "source": [
    "# for 문\n",
    "odds = [1, 3, 5, 7, 9]\n",
    "count = 1\n",
    "\n",
    "for odd in odds:\n",
    "  print (count, end=' / ')\n",
    "  print (odd)\n",
    "  print (\"=======================\")\n",
    "  count = count +1\n",
    "print()\n",
    "\n"
   ]
  },
  {
   "cell_type": "code",
   "execution_count": null,
   "metadata": {},
   "outputs": [],
   "source": []
  },
  {
   "cell_type": "code",
   "execution_count": null,
   "metadata": {},
   "outputs": [],
   "source": []
  }
 ],
 "metadata": {
  "interpreter": {
   "hash": "5155f09c2d9d5ea2358402c611c02d493b1e0d486acc40854c56dc106b5c3d06"
  },
  "kernelspec": {
   "display_name": "Python 3.8.0 64-bit",
   "language": "python",
   "name": "python3"
  },
  "language_info": {
   "codemirror_mode": {
    "name": "ipython",
    "version": 3
   },
   "file_extension": ".py",
   "mimetype": "text/x-python",
   "name": "python",
   "nbconvert_exporter": "python",
   "pygments_lexer": "ipython3",
   "version": "3.8.0"
  },
  "orig_nbformat": 4
 },
 "nbformat": 4,
 "nbformat_minor": 2
}
