{
 "cells": [
  {
   "cell_type": "markdown",
   "metadata": {},
   "source": [
    "1. 기본 파이썬"
   ]
  },
  {
   "cell_type": "code",
   "execution_count": 1,
   "metadata": {},
   "outputs": [],
   "source": [
    "# Pandas 라이브러리 불러오기\n",
    "import pandas as pd\n",
    "\n",
    "# Numpy 라이브러리 불러오기\n",
    "import numpy as np"
   ]
  },
  {
   "cell_type": "code",
   "execution_count": 2,
   "metadata": {},
   "outputs": [
    {
     "name": "stdout",
     "output_type": "stream",
     "text": [
      "문자열1\n",
      "문자열2\n",
      "d\n",
      "e\n",
      "12\n",
      "문자열1문자열2\n",
      "문자열1문자열1\n",
      "문자열1\n",
      "문자열2\n",
      "d\n",
      "e\n",
      "12\n"
     ]
    }
   ],
   "source": [
    "# 숫자 변수 생성\n",
    "a = 1      # 정수값을 가진 변수 생성\n",
    "b = 2.3    # 실수값을 가진 변수 생성\n",
    "c = 3.2E10 # 지수 표현 방법으로 변수 생성\n",
    "           # 결과는 괄호안의 값과 같다 (3.2 * 10^10)\n",
    "\n",
    "# 문자열 변수 생성\n",
    "d = '문자열1' # 작은 따옴표로 표현가능\n",
    "e = \"문자열2\" # 큰 따옴표로 표현가능\n",
    "# 참고 : 문자열 안에 작은따옴표나 큰따옴표가 있다면, 전체를 감싸는 따옴표는 반대되는 것을 사용하여 작성한다\n",
    "\n",
    "# 줄바꿈 후 출력 - print(    , sep='\\n') / print( ' \\n ' )\n",
    "# 참고 : print( ) 괄호 속에는 모두 같은 타입의 값이 입력되야한다.\n",
    "# ex) print(12 + 34) - 정상출력\n",
    "# ex) print(1 + '가') - 에러발생\n",
    "print(d, e, sep='\\n') # 각 변수에 대한 결과값을 줄 바꿈 후 출력\n",
    "print('d\\ne') # 문자열 안에서 \\n을 활용하여 줄바꿈\n",
    "print(1, end='') # 출력 후 다음 값이 바로 뒤에서 출력\n",
    "print(2)\n",
    "print(d+e) # 문자열변수끼리 덧셈 가능\n",
    "print(d*2) # 문자열변수 곱셈 가능\n",
    "\n",
    "# print 기본 옵션 - 줄바꿈 후 출력\n",
    "print(d, e, sep='\\n') # 각 변수에 대한 결과값을 줄 바꿈 후 출력\n",
    "print('d\\ne') # 문자열 안에서 \\n을 활용하여 줄바꿈\n",
    "print(1, end='') # 출력 후 다음 값이 바로 뒤에서 출력\n",
    "print(2)"
   ]
  },
  {
   "cell_type": "code",
   "execution_count": 36,
   "metadata": {},
   "outputs": [
    {
     "name": "stdout",
     "output_type": "stream",
     "text": [
      "나는 맛있는 사과를 먹었다.\n",
      "나는 맛있는 사과를 먹었다.\n",
      "나는 맛있는 사과를 먹었다.\n",
      "\n",
      "Error is 98 %.\n",
      "Error is 98 %.\n",
      "Error is 98 %.\n",
      "\n",
      "I ate 10 apples. so I was sick for there days.\n",
      "I ate 10 apples. so I was sick for there days.\n",
      "I ate 10 apples. so I was sick for there days.\n",
      "I ate 10 apples. so I was sick for there days.\n",
      "I ate 10 apples. so I was sick for there days.\n",
      "\n"
     ]
    }
   ],
   "source": [
    "# 문자열 속 변수 설정\n",
    "wo = \"맛있는\"\n",
    "print(\"나는 %s 사과를 먹었다.\" %wo) # 문자열 변수를 print 안에 적용\n",
    "print(\"나는 %s 사과를 먹었다.\" %'맛있는') # 다른 표현 방법 1\n",
    "print(\"나는 {} 사과를 먹었다.\\n\".format('맛있는')) # 다른 표현 방법 2\n",
    "\n",
    "count = 98\n",
    "print(\"Error is %d %%.\"%count) # 숫자 변수를 print 안에 적용\n",
    "print(\"Error is %d %%.\" % 98) # 다른 표현 방법 1 (\"\"안에서 '%변수'사용 후 '%'를 표현하기 위해서 '%%'를 사용)\n",
    "print(\"Error is {} %.\\n\".format(98)) # 다른 표현 방법 2\n",
    "\n",
    "number = 10\n",
    "day = \"there\"\n",
    "print (\"I ate %d apples. so I was sick for %s days.\"%(number, day)) # 문자열, 숫자 모두 사용 (순서 중요)\n",
    "print (\"I ate \"+str(number)+\" apples. so I was sick for \"+day+\" days.\") # 다른 표현 방법 1\n",
    "# 참고 : print 안은 문자열로 구성되어있기에 숫자변수(number)를 표현할때는 str으로 타입전환을 해야 출력됨\n",
    "print (\"I ate {} apples. so I was sick for {} days.\".format(10, 'there')) # 다른 표현 방법 2\n",
    "# 참고 : 위 문장에서 format에 변수를 하나만 입력할 경우 오류 발생\n",
    "# format 안의 값은 하나밖에 없는데 지정되지 않은 두 개의 값을 출력하라는 명령어에 오류가 발생함\n",
    "print (\"I ate {1} apples. so I was sick for {0} days.\".format('there', 10)) # 다른 표현 방법 3\n",
    "print (\"I ate {} apples. so I was sick for {day} days.\\n\".format(10, day= 'there')) # 다른 표현 방법 4"
   ]
  },
  {
   "cell_type": "code",
   "execution_count": 3,
   "metadata": {},
   "outputs": [
    {
     "name": "stdout",
     "output_type": "stream",
     "text": [
      "리스트 기본 명령어\n",
      "1\n",
      "2\n",
      "b\n",
      "['a', 'b', 'c']\n",
      "4\n",
      "[1, 2, 3, ['a', 'b', 'c'], 1, 2, 3, ['a', 'b', 'c']]\n",
      "12\n",
      "3\n",
      "[1, 2]\n",
      "[2, 3, ['a', 'b', 'c']]\n",
      "\n",
      "리스트 내용 수정\n",
      "['가', '나', 3]\n",
      "\n",
      "리스트 내용 삭제 - del\n",
      "[1, 2, 3, 4, 5]\n",
      "[1, 3, 4, 5]\n",
      "[1, 4, 5]\n",
      "[1]\n"
     ]
    }
   ],
   "source": [
    "# 리스트 - a = [  ,  ,  ,  ]\n",
    "print('리스트 기본 명령어')\n",
    "a = [1,2,3,['a','b','c']]\n",
    "print(a[0])\n",
    "print(a[1])\n",
    "print(a[3][1])\n",
    "print(a[-1])\n",
    "print(len(a))\n",
    "print(a*2)\n",
    "print(len(a*3))\n",
    "print(len(a[3]))\n",
    "print(a[0:2])\n",
    "print(a[1:])\n",
    "\n",
    "print('\\n리스트 내용 수정')\n",
    "b = ['가','나','다']\n",
    "b[2] = 3\n",
    "print(b)\n",
    "\n",
    "print('\\n리스트 내용 삭제 - del')\n",
    "c = [1,2,3,4,5]\n",
    "print(c)\n",
    "del c[1] # 리스트 2번째 값을 지움\n",
    "print(c)\n",
    "del c[1]\n",
    "# 참고 : 위에서 지웠기에 세번째에 위치한 값이 두번째로 당겨짐\n",
    "# 즉 print(b[2]) 입력시 오류 발생\n",
    "print(c)\n",
    "del c[1:] # 2번째부터 모두 지움\n",
    "print(c)"
   ]
  },
  {
   "cell_type": "code",
   "execution_count": 4,
   "metadata": {},
   "outputs": [
    {
     "name": "stdout",
     "output_type": "stream",
     "text": [
      "리스트 내용 정렬 1 - sort ( )\n",
      "[5, 8, 6, 4, 2, 6, 8, 4]\n",
      "[2, 4, 4, 5, 6, 6, 8, 8]\n",
      "\n",
      "리스트 내용 정렬 2 - reverse ( )\n",
      "[8, 8, 6, 6, 5, 4, 4, 2]\n",
      "\n",
      "리스트 for 문\n",
      "1 / 1\n",
      "======\n",
      "2 / 3\n",
      "======\n",
      "3 / 5\n",
      "======\n",
      "4 / 7\n",
      "======\n",
      "5 / 9\n",
      "======\n"
     ]
    }
   ],
   "source": [
    "# 리스트 기능\n",
    "print('리스트 내용 정렬 1 - sort ( )')\n",
    "a = [5,8,6,4,2,6,8,4]\n",
    "print(a)\n",
    "a.sort()\n",
    "print(a)\n",
    "\n",
    "print('\\n리스트 내용 정렬 2 - reverse ( )')\n",
    "a.reverse()\n",
    "print(a)\n",
    "\n",
    "print('\\n리스트 for 문')\n",
    "odds = [1, 3, 5, 7, 9]\n",
    "count = 1\n",
    "\n",
    "for odd in odds:\n",
    "  print (count, end=' / ')\n",
    "  print (odd)\n",
    "  print (\"======\")\n",
    "  count = count +1"
   ]
  },
  {
   "cell_type": "code",
   "execution_count": 36,
   "metadata": {},
   "outputs": [
    {
     "name": "stdout",
     "output_type": "stream",
     "text": [
      "             ee\n",
      "ee             \n",
      "hi        jane.\n"
     ]
    }
   ],
   "source": [
    "# 문자열 띄어쓰기 - ( ' % 숫자 s ' % ' 문자열 ' )\n",
    "print(\"%15s\"%\"ee\")\n",
    "print(\"%-15s\"%\"ee\")\n",
    "print(\"%-10sjane.\"%\"hi\")"
   ]
  },
  {
   "cell_type": "code",
   "execution_count": 4,
   "metadata": {},
   "outputs": [
    {
     "name": "stdout",
     "output_type": "stream",
     "text": [
      "문자열 찾기 - a.count( \"  \" ) / a.index( \"  \" )\n",
      "0\n",
      "2\n",
      "8\n",
      "0\n",
      "\n",
      "문자열 분리 - a.split( \" \" )\n",
      "['Life', 'is', 'to', 'short']\n",
      "['a', 'b', 'c', 'd,e', 'f']\n",
      "['a:b:c:d', 'e:f']\n"
     ]
    }
   ],
   "source": [
    "# 문자열 찾기\n",
    "print('문자열 찾기 - a.count( \"  \" ) / a.index( \"  \" )')\n",
    "a = \"Life is to short\"\n",
    "print(a.count('b')) # 문자열 중 'b'의 갯수를 출력\n",
    "print(a.count('i')) # 문자열 중 'i'의 갯수를 출력\n",
    "print(a.index('t')) # 문자열 중 't'가 가장 처음으로 나온 위치값 출력 (없으면 오류 발생)\n",
    "print(a.index('L')) # 문자열 중 'L'이 가장 처음으로 나온 위치값 출력\n",
    "\n",
    "# 문자열 분리 - a.split( ' ' )\n",
    "print('\\n문자열 분리 - a.split( \" \" )')\n",
    "print(a.split()) # 띄어쓰기를 기준으로 문자열 분리\n",
    "b = 'a:b:c:d,e:f'\n",
    "print(b.split(':')) # 특정 기호를 기준으로 문자열 분리\n",
    "print(b.split(','))"
   ]
  },
  {
   "cell_type": "code",
   "execution_count": 10,
   "metadata": {},
   "outputs": [
    {
     "name": "stdout",
     "output_type": "stream",
     "text": [
      "리스트 내용 삽입 - \" \".join ( a )\n",
      "a#b#c#d\n",
      "e$f$g$f\n",
      "\n",
      "리스트 특정 문자 제거 - a.remove ( )\n",
      "[1, 2, 3, 1, '가', 2, 3, '가']\n",
      "[1, 2, 1, '가', 2, 3, '가']\n",
      "[1, 2, 1, 2, 3, '가']\n",
      "\n",
      "리스트 특정 문자 추출 - a.pop ( )\n",
      "[1, 2, 3, '가', '나', '다']\n",
      "가\n",
      "[1, 2, 3, '나', '다']\n"
     ]
    }
   ],
   "source": [
    "# 리스트 기능\n",
    "print('리스트 내용 삽입 - \" \".join ( a )')\n",
    "list = ['a', 'b', 'c', 'd']\n",
    "result1 = \"#\".join(list)\n",
    "result2 = \"$\".join(['e','f','g','f'])\n",
    "print(result1)\n",
    "print(result2)\n",
    "\n",
    "print('\\n리스트 특정 문자 제거 - a.remove ( )')\n",
    "a = [1,2,3,1,'가',2,3,'가']\n",
    "print(a)\n",
    "a.remove(3) # 처음 오는 3 제거\n",
    "print(a)\n",
    "a.remove('가') # 처음 오는 '가' 제거\n",
    "print(a)\n",
    "\n",
    "print('\\n리스트 특정 문자 추출 - a.pop ( )')\n",
    "b = [1,2,3,'가','나','다']\n",
    "print(b)\n",
    "c = b.pop(3) # 리스트 4번째 값을 추출\n",
    "print(c)\n",
    "print(b) # 위에서 추출되었기에 '가'는 리스트에서 없어짐\n"
   ]
  },
  {
   "cell_type": "code",
   "execution_count": 2,
   "metadata": {},
   "outputs": [
    {
     "name": "stdout",
     "output_type": "stream",
     "text": [
      "   time     value\n",
      "0     0  0.162869\n",
      "1     1  0.243119\n",
      "2     2  0.986608\n",
      "3     3  1.259104\n",
      "\n",
      "행 추가\n",
      "   time     value  value2\n",
      "0     0  0.162869       0\n",
      "1     1  0.243119       1\n",
      "2     2  0.986608       2\n",
      "3     3  1.259104       3\n",
      "\n",
      "행 합계 추가 - df[  ] = df.sum(axis = 1)\n",
      "   time     value  value2       sum\n",
      "0     0  0.162869       0  0.162869\n",
      "1     1  0.243119       1  2.243119\n",
      "2     2  0.986608       2  4.986608\n",
      "3     3  1.259104       3  7.259104\n",
      "\n",
      "열 합계 추가 - df.loc[  ] = df.sum(axis = 0)\n",
      "      time     value  value2        sum\n",
      "0      0.0  0.162869     0.0   0.162869\n",
      "1      1.0  0.243119     1.0   2.243119\n",
      "2      2.0  0.986608     2.0   4.986608\n",
      "3      3.0  1.259104     3.0   7.259104\n",
      "sum2   6.0  2.651699     6.0  14.651699\n"
     ]
    }
   ],
   "source": [
    "# 임의의 데이터 프레임 만들기\n",
    "df1 = pd.DataFrame(dict(time = np.arange(4), value = np.random.randn(4)))\n",
    "print(df1)\n",
    "\n",
    "print('\\n행 추가')\n",
    "df1['value2'] = np.arange(4)\n",
    "print(df1)\n",
    "\n",
    "print('\\n행 합계 추가 - df[ ' ' ] = df.sum(axis = 1)')\n",
    "df1['sum'] = df1.sum(axis = 1)\n",
    "print(df1)\n",
    "\n",
    "print('\\n열 합계 추가 - df.loc[ ' ' ] = df.sum(axis = 0)')\n",
    "df1.loc['sum2'] = df1.sum(axis = 0)\n",
    "print(df1)"
   ]
  },
  {
   "cell_type": "code",
   "execution_count": 3,
   "metadata": {},
   "outputs": [
    {
     "name": "stdout",
     "output_type": "stream",
     "text": [
      "(1, 2, 3)\n"
     ]
    }
   ],
   "source": [
    "# 튜플\n",
    "t1 = (1,2,3) # 대괄호가 아닌 소괄호로 튜플 정의 (수정 안됨)\n",
    "print(t1)"
   ]
  },
  {
   "cell_type": "code",
   "execution_count": 8,
   "metadata": {},
   "outputs": [
    {
     "name": "stdout",
     "output_type": "stream",
     "text": [
      "딕셔너리 만들기\n",
      "{1: 'a', 4: 'b', 'name': 'pey', 3: [1, 2, 3]}\n",
      "dict_keys([1, 4, 'name', 3])\n",
      "dict_values(['a', 'b', 'pey', [1, 2, 3]])\n",
      "===========\n",
      "{1: 'a', 4: 'b', 'name': 'pey', 3: [1, 2, 3], 2: 'c'}\n",
      "\n",
      "중복된 key값 넣기 - a[4] = \"b\" -> \"c\"\n",
      "[8, 8, 6, 6, 'c', 4, 4, 2]\n",
      "\n",
      "딕셔너리 요소 제거 - del a[ ]\n",
      "[8, 8, 6, 6, 4, 4, 2]\n",
      "\n",
      "딕셔너리 for문\n",
      "{1: 'a', 2: 'b', 'name': 'mark', 3: [1, 2, 3]}\n",
      "1 / a\n",
      "2 / b\n",
      "name / mark\n",
      "3 / [1, 2, 3]\n"
     ]
    }
   ],
   "source": [
    "# 딕셔너리\n",
    "print('딕셔너리 만들기')\n",
    "dictionary = {1: 'a', 4: 'b', 'name': 'pey', 3: [1, 2, 3]}\n",
    "print(dictionary)\n",
    "print(dictionary.keys()) # key값 출력\n",
    "print(dictionary.values()) # value값 출력\n",
    "print (\"===========\")\n",
    "dictionary[2] = 'c' # 현재 딕셔너리에 없는 값을 넣게 되면 자동적으로 추가하게 된다. \n",
    "print(dictionary)\n",
    "# 참고 : 리스트에서 a[1]은 리스트 값 중 두번째 값을 의미한다.\n",
    "\n",
    "print('\\n중복된 key값 넣기 - a[4] = \"b\" -> \"c\"')\n",
    "a[4] = 'c' # 중복된 값을 넣게 되면 이전에 입력된 값은 삭제된다.\n",
    "print(a)\n",
    "\n",
    "print('\\n딕셔너리 요소 제거 - del a[ ]')\n",
    "del a[4] # key, value값 제거\n",
    "print(a)\n",
    "\n",
    "print('\\n딕셔너리 for문')\n",
    "for_test = {1: 'a', 2: 'b', 'name': 'mark', 3: [1, 2, 3]}\n",
    "print(for_test)\n",
    "for key in for_test.keys() :\n",
    "    print(key, end=' / ')\n",
    "    print(for_test[key])"
   ]
  },
  {
   "cell_type": "code",
   "execution_count": 6,
   "metadata": {},
   "outputs": [
    {
     "name": "stdout",
     "output_type": "stream",
     "text": [
      "{'o', 'l', 'e', 'h'}\n"
     ]
    },
    {
     "ename": "TypeError",
     "evalue": "'set' object is not subscriptable",
     "output_type": "error",
     "traceback": [
      "\u001b[1;31m---------------------------------------------------------------------------\u001b[0m",
      "\u001b[1;31mTypeError\u001b[0m                                 Traceback (most recent call last)",
      "\u001b[1;32me:\\Git\\SourceTree\\Basic_Python\\02_Basic_Python.ipynb 셀 11\u001b[0m in \u001b[0;36m<module>\u001b[1;34m\u001b[0m\n\u001b[0;32m      <a href='vscode-notebook-cell:/e%3A/Git/SourceTree/Basic_Python/02_Basic_Python.ipynb#X13sZmlsZQ%3D%3D?line=1'>2</a>\u001b[0m s1 \u001b[39m=\u001b[39m \u001b[39mset\u001b[39m(\u001b[39m'\u001b[39m\u001b[39mhelllllllllllllooooooooooo\u001b[39m\u001b[39m'\u001b[39m)\n\u001b[0;32m      <a href='vscode-notebook-cell:/e%3A/Git/SourceTree/Basic_Python/02_Basic_Python.ipynb#X13sZmlsZQ%3D%3D?line=2'>3</a>\u001b[0m \u001b[39mprint\u001b[39m(s1) \u001b[39m# 중복된 값 표시 안함\u001b[39;00m\n\u001b[1;32m----> <a href='vscode-notebook-cell:/e%3A/Git/SourceTree/Basic_Python/02_Basic_Python.ipynb#X13sZmlsZQ%3D%3D?line=3'>4</a>\u001b[0m \u001b[39mprint\u001b[39m(s1[\u001b[39m0\u001b[39;49m])\n",
      "\u001b[1;31mTypeError\u001b[0m: 'set' object is not subscriptable"
     ]
    }
   ],
   "source": [
    "# 집합\n",
    "s1 = set('helllllllllllllooooooooooo')\n",
    "print(s1) # 중복된 값 표시 안함\n",
    "print(s1[0]) # 집합은 순서가 없기에 에러 발생"
   ]
  },
  {
   "cell_type": "code",
   "execution_count": 7,
   "metadata": {},
   "outputs": [
    {
     "name": "stdout",
     "output_type": "stream",
     "text": [
      "교집합\n",
      "{4, 5, 6}\n",
      "\n",
      "합집합\n",
      "{1, 2, 3, 4, 5, 6, 7, 8, 9}\n",
      "{1, 2, 3, 4, 5, 6, 7, 8, 9}\n",
      "\n",
      "집합 간 뺄셈\n",
      "{1, 2, 3}\n"
     ]
    }
   ],
   "source": [
    "# 집합 연산\n",
    "s1 = set ([1,2,3,4,5,6])\n",
    "s2 = set ([4,5,6,7,8,9])\n",
    "print('교집합')\n",
    "s3 = s1&s2\n",
    "print(s3)\n",
    "\n",
    "print('\\n합집합')\n",
    "s4 = s1|s2\n",
    "print(s4)\n",
    "print(s1.union(s2)) # 합집합과 동일은 값을 출력한다.\n",
    "\n",
    "print('\\n집합 간 뺄셈')\n",
    "s5 = s1-s2 \n",
    "print(s5)  # s1에서 s2와의 중복값만 제거된다."
   ]
  },
  {
   "cell_type": "code",
   "execution_count": 8,
   "metadata": {},
   "outputs": [
    {
     "name": "stdout",
     "output_type": "stream",
     "text": [
      "[1, 2, 3]\n",
      "[1, 2, 3]\n",
      "2029405816384\n",
      "2029405816384\n",
      "\n",
      "id를 다르게 설정하는 방법 2가지 - a.copy() / a[:]\n",
      "[1, 2, 3]\n",
      "[1, 2, 3]\n",
      "2029405816384\n",
      "2029405818496\n",
      "2029405811072\n"
     ]
    }
   ],
   "source": [
    "# id값 출력\n",
    "a = [1,2,3]\n",
    "print(a)\n",
    "b = a # id(a)값과 id(b)값이 동일하게 설정된다.\n",
    "print(b)  \n",
    "print(id(a))\n",
    "print(id(b))\n",
    "\n",
    "print('\\nid를 다르게 설정하는 방법 2가지 - a.copy() / a[:]')\n",
    "b = a.copy() # id(a)값과 id(b)값이 다르게 설정된다.\n",
    "c = a[:] # id(a)값과 id(c)값이 다르게 설정된다.\n",
    "print(b)\n",
    "print(c)\n",
    "print(id(a))\n",
    "print(id(b))\n",
    "print(id(c))"
   ]
  },
  {
   "cell_type": "markdown",
   "metadata": {},
   "source": [
    "2. 라이브러리 Numpy"
   ]
  },
  {
   "cell_type": "code",
   "execution_count": 22,
   "metadata": {},
   "outputs": [
    {
     "name": "stdout",
     "output_type": "stream",
     "text": [
      "\"0\"값을 가지는 리스트 만들기 - np.zeros( a )\n",
      "[0. 0. 0. 0. 0. 0.]\n",
      "\n",
      "배열 재정렬 - np.reshape( a , ( n , m ) )\n",
      "[[0. 0. 0.]\n",
      " [0. 0. 0.]]\n",
      "\n",
      "배열 만들기 - np.arange( l ).reshape( n , m )\n",
      "[[0 1 2]\n",
      " [3 4 5]\n",
      " [6 7 8]]\n",
      "\n",
      "[[ 0  1  2  3]\n",
      " [ 4  5  6  7]\n",
      " [ 8  9 10 11]]\n"
     ]
    }
   ],
   "source": [
    "# numpy 라이브러리 불러오기\n",
    "import numpy as np\n",
    "print('\"0\"값을 가지는 리스트 만들기 - np.zeros( a )')\n",
    "n1 = np.zeros(6) # 5개의 0값을 가지는 리스트\n",
    "print(n1)\n",
    "\n",
    "print('\\n배열 재정렬 - np.reshape( a , ( n , m ) )')\n",
    "n2 = np.reshape(n1, (2,3))\n",
    "print(n2)\n",
    "\n",
    "print('\\n배열 만들기 - np.arange( l ).reshape( n , m )')\n",
    "n3 = np.arange(9).reshape(3,3)\n",
    "print(n3)\n",
    "print()\n",
    "n4 = np.arange(12).reshape(3,4)\n",
    "print(n4)\n"
   ]
  },
  {
   "cell_type": "code",
   "execution_count": 23,
   "metadata": {},
   "outputs": [
    {
     "name": "stdout",
     "output_type": "stream",
     "text": [
      "배열 결합(세로) - np.vstack ( ( a , b ) )\n",
      "[[0. 0. 0.]\n",
      " [0. 0. 0.]\n",
      " [0. 1. 2.]\n",
      " [3. 4. 5.]\n",
      " [6. 7. 8.]]\n",
      "\n",
      "vstack의 경우 열의 크기가 같아야한다.\n"
     ]
    },
    {
     "ename": "ValueError",
     "evalue": "all the input array dimensions for the concatenation axis must match exactly, but along dimension 1, the array at index 0 has size 3 and the array at index 1 has size 4",
     "output_type": "error",
     "traceback": [
      "\u001b[1;31m---------------------------------------------------------------------------\u001b[0m",
      "\u001b[1;31mValueError\u001b[0m                                Traceback (most recent call last)",
      "\u001b[1;32me:\\Git\\SourceTree\\Basic_Python\\02_Basic_Python.ipynb 셀 17\u001b[0m in \u001b[0;36m<module>\u001b[1;34m\u001b[0m\n\u001b[0;32m      <a href='vscode-notebook-cell:/e%3A/Git/SourceTree/Basic_Python/02_Basic_Python.ipynb#X32sZmlsZQ%3D%3D?line=3'>4</a>\u001b[0m \u001b[39mprint\u001b[39m(n2n3)\n\u001b[0;32m      <a href='vscode-notebook-cell:/e%3A/Git/SourceTree/Basic_Python/02_Basic_Python.ipynb#X32sZmlsZQ%3D%3D?line=5'>6</a>\u001b[0m \u001b[39mprint\u001b[39m(\u001b[39m'\u001b[39m\u001b[39m\\n\u001b[39;00m\u001b[39mvstack의 경우 열의 크기가 같아야한다.\u001b[39m\u001b[39m'\u001b[39m)\n\u001b[1;32m----> <a href='vscode-notebook-cell:/e%3A/Git/SourceTree/Basic_Python/02_Basic_Python.ipynb#X32sZmlsZQ%3D%3D?line=6'>7</a>\u001b[0m n3n4 \u001b[39m=\u001b[39m np\u001b[39m.\u001b[39;49mvstack((n3,n4))\n\u001b[0;32m      <a href='vscode-notebook-cell:/e%3A/Git/SourceTree/Basic_Python/02_Basic_Python.ipynb#X32sZmlsZQ%3D%3D?line=7'>8</a>\u001b[0m \u001b[39mprint\u001b[39m(n3n4)\n",
      "File \u001b[1;32m<__array_function__ internals>:180\u001b[0m, in \u001b[0;36mvstack\u001b[1;34m(*args, **kwargs)\u001b[0m\n",
      "File \u001b[1;32mc:\\Users\\tkand\\AppData\\Local\\Programs\\Python\\Python38\\lib\\site-packages\\numpy\\core\\shape_base.py:282\u001b[0m, in \u001b[0;36mvstack\u001b[1;34m(tup)\u001b[0m\n\u001b[0;32m    280\u001b[0m \u001b[39mif\u001b[39;00m \u001b[39mnot\u001b[39;00m \u001b[39misinstance\u001b[39m(arrs, \u001b[39mlist\u001b[39m):\n\u001b[0;32m    281\u001b[0m     arrs \u001b[39m=\u001b[39m [arrs]\n\u001b[1;32m--> 282\u001b[0m \u001b[39mreturn\u001b[39;00m _nx\u001b[39m.\u001b[39;49mconcatenate(arrs, \u001b[39m0\u001b[39;49m)\n",
      "File \u001b[1;32m<__array_function__ internals>:180\u001b[0m, in \u001b[0;36mconcatenate\u001b[1;34m(*args, **kwargs)\u001b[0m\n",
      "\u001b[1;31mValueError\u001b[0m: all the input array dimensions for the concatenation axis must match exactly, but along dimension 1, the array at index 0 has size 3 and the array at index 1 has size 4"
     ]
    }
   ],
   "source": [
    "# 넘파이 배열 결합\n",
    "print('배열 결합(세로) - np.vstack ( ( a , b ) )')\n",
    "n2n3 = np.vstack((n2,n3))\n",
    "print(n2n3)\n",
    "\n",
    "print('\\nvstack의 경우 열의 크기가 같아야한다.')\n",
    "n3n4 = np.vstack((n3,n4))\n",
    "print(n3n4)\n"
   ]
  },
  {
   "cell_type": "code",
   "execution_count": 24,
   "metadata": {},
   "outputs": [
    {
     "name": "stdout",
     "output_type": "stream",
     "text": [
      "\n",
      "배열 결합(가로) - np.hstack ( ( a , b ) )\n",
      "[[ 0  1  2  0  1  2  3]\n",
      " [ 3  4  5  4  5  6  7]\n",
      " [ 6  7  8  8  9 10 11]]\n",
      "\n",
      "vstack의 경우 행의 크기가 같아야한다.\n"
     ]
    },
    {
     "ename": "ValueError",
     "evalue": "all the input array dimensions for the concatenation axis must match exactly, but along dimension 0, the array at index 0 has size 2 and the array at index 1 has size 3",
     "output_type": "error",
     "traceback": [
      "\u001b[1;31m---------------------------------------------------------------------------\u001b[0m",
      "\u001b[1;31mValueError\u001b[0m                                Traceback (most recent call last)",
      "\u001b[1;32me:\\Git\\SourceTree\\Basic_Python\\02_Basic_Python.ipynb 셀 18\u001b[0m in \u001b[0;36m<module>\u001b[1;34m\u001b[0m\n\u001b[0;32m      <a href='vscode-notebook-cell:/e%3A/Git/SourceTree/Basic_Python/02_Basic_Python.ipynb#X33sZmlsZQ%3D%3D?line=2'>3</a>\u001b[0m \u001b[39mprint\u001b[39m(n3n4)\n\u001b[0;32m      <a href='vscode-notebook-cell:/e%3A/Git/SourceTree/Basic_Python/02_Basic_Python.ipynb#X33sZmlsZQ%3D%3D?line=4'>5</a>\u001b[0m \u001b[39mprint\u001b[39m(\u001b[39m'\u001b[39m\u001b[39m\\n\u001b[39;00m\u001b[39mvstack의 경우 행의 크기가 같아야한다.\u001b[39m\u001b[39m'\u001b[39m)\n\u001b[1;32m----> <a href='vscode-notebook-cell:/e%3A/Git/SourceTree/Basic_Python/02_Basic_Python.ipynb#X33sZmlsZQ%3D%3D?line=5'>6</a>\u001b[0m n2n3 \u001b[39m=\u001b[39m np\u001b[39m.\u001b[39;49mhstack((n2,n3))\n\u001b[0;32m      <a href='vscode-notebook-cell:/e%3A/Git/SourceTree/Basic_Python/02_Basic_Python.ipynb#X33sZmlsZQ%3D%3D?line=6'>7</a>\u001b[0m \u001b[39mprint\u001b[39m(n2n3)\n",
      "File \u001b[1;32m<__array_function__ internals>:180\u001b[0m, in \u001b[0;36mhstack\u001b[1;34m(*args, **kwargs)\u001b[0m\n",
      "File \u001b[1;32mc:\\Users\\tkand\\AppData\\Local\\Programs\\Python\\Python38\\lib\\site-packages\\numpy\\core\\shape_base.py:345\u001b[0m, in \u001b[0;36mhstack\u001b[1;34m(tup)\u001b[0m\n\u001b[0;32m    343\u001b[0m     \u001b[39mreturn\u001b[39;00m _nx\u001b[39m.\u001b[39mconcatenate(arrs, \u001b[39m0\u001b[39m)\n\u001b[0;32m    344\u001b[0m \u001b[39melse\u001b[39;00m:\n\u001b[1;32m--> 345\u001b[0m     \u001b[39mreturn\u001b[39;00m _nx\u001b[39m.\u001b[39;49mconcatenate(arrs, \u001b[39m1\u001b[39;49m)\n",
      "File \u001b[1;32m<__array_function__ internals>:180\u001b[0m, in \u001b[0;36mconcatenate\u001b[1;34m(*args, **kwargs)\u001b[0m\n",
      "\u001b[1;31mValueError\u001b[0m: all the input array dimensions for the concatenation axis must match exactly, but along dimension 0, the array at index 0 has size 2 and the array at index 1 has size 3"
     ]
    }
   ],
   "source": [
    "print('\\n배열 결합(가로) - np.hstack ( ( a , b ) )')\n",
    "n3n4 = np.hstack((n3,n4))\n",
    "print(n3n4)\n",
    "\n",
    "print('\\nvstack의 경우 행의 크기가 같아야한다.')\n",
    "n2n3 = np.hstack((n2,n3))\n",
    "print(n2n3)"
   ]
  },
  {
   "cell_type": "markdown",
   "metadata": {},
   "source": [
    "3. 라이브러리 Pandas"
   ]
  },
  {
   "cell_type": "code",
   "execution_count": 10,
   "metadata": {},
   "outputs": [
    {
     "name": "stdout",
     "output_type": "stream",
     "text": [
      "\"0\"값을 가지는 데이터프레임 만들기 - pd.DataFrame()\n",
      "   0  1  2  3  4  5  6  7  8  9\n",
      "0  0  0  0  0  0  0  0  0  0  0\n",
      "1  0  0  0  0  0  0  0  0  0  0\n",
      "2  0  0  0  0  0  0  0  0  0  0\n",
      "3  0  0  0  0  0  0  0  0  0  0\n",
      "4  0  0  0  0  0  0  0  0  0  0\n",
      "\n",
      "numpy 라이브러리를 사용하여 위와 같은 형태의 데이터프레임 만들기\n",
      "     0    1    2    3    4    5    6    7    8    9\n",
      "0  0.0  0.0  0.0  0.0  0.0  0.0  0.0  0.0  0.0  0.0\n",
      "1  0.0  0.0  0.0  0.0  0.0  0.0  0.0  0.0  0.0  0.0\n",
      "2  0.0  0.0  0.0  0.0  0.0  0.0  0.0  0.0  0.0  0.0\n",
      "3  0.0  0.0  0.0  0.0  0.0  0.0  0.0  0.0  0.0  0.0\n",
      "4  0.0  0.0  0.0  0.0  0.0  0.0  0.0  0.0  0.0  0.0\n"
     ]
    }
   ],
   "source": [
    "# 데이터프레임 (Type : DataFrame())\n",
    "import pandas as pd\n",
    "\n",
    "print('\"0\"값을 가지는 데이터프레임 만들기 - pd.DataFrame()')\n",
    "rows = 5\n",
    "columns_1 = 10\n",
    "df = pd.DataFrame(0, index=range(rows), columns=range(columns_1))\n",
    "print(df)\n",
    "\n",
    "print('\\nnumpy 라이브러리를 사용하여 위와 같은 형태의 데이터프레임 만들기')\n",
    "df = pd.DataFrame(np.zeros((5,10)))\n",
    "print(df)"
   ]
  },
  {
   "cell_type": "code",
   "execution_count": 11,
   "metadata": {},
   "outputs": [
    {
     "name": "stdout",
     "output_type": "stream",
     "text": [
      "     0    1    2    3    4    5    6    7    8    9\n",
      "0  0.0  0.0  NaN  0.0  0.0  0.0  0.0  0.0  0.0  0.0\n",
      "1  0.0  0.0  0.0  0.0  0.0  0.0  0.0  0.0  0.0  0.0\n",
      "2  NaN  0.0  0.0  0.0  0.0  NaN  0.0  0.0  0.0  0.0\n",
      "3  0.0  0.0  0.0  0.0  0.0  NaN  0.0  0.0  0.0  0.0\n",
      "4  0.0  0.0  0.0  0.0  0.0  0.0  0.0  0.0  0.0  NaN\n",
      "\n",
      "결측값 채우기 회수 제한 (fillna(method=\"ffill\", limit=number)\n",
      "     0    1    2    3    4    5    6    7    8    9\n",
      "0  0.0  0.0  NaN  0.0  0.0  0.0  0.0  0.0  0.0  0.0\n",
      "1  0.0  0.0  0.0  0.0  0.0  0.0  0.0  0.0  0.0  0.0\n",
      "2  0.0  0.0  0.0  0.0  0.0  0.0  0.0  0.0  0.0  0.0\n",
      "3  0.0  0.0  0.0  0.0  0.0  NaN  0.0  0.0  0.0  0.0\n",
      "4  0.0  0.0  0.0  0.0  0.0  0.0  0.0  0.0  0.0  0.0\n",
      "---------------------------------------------------\n",
      "     0    1    2    3    4    5    6    7    8    9\n",
      "0  0.0  0.0  0.0  0.0  0.0  0.0  0.0  0.0  0.0  0.0\n",
      "1  0.0  0.0  0.0  0.0  0.0  0.0  0.0  0.0  0.0  0.0\n",
      "2  0.0  0.0  0.0  0.0  0.0  NaN  0.0  0.0  0.0  0.0\n",
      "3  0.0  0.0  0.0  0.0  0.0  0.0  0.0  0.0  0.0  0.0\n",
      "4  0.0  0.0  0.0  0.0  0.0  0.0  0.0  0.0  0.0  NaN\n",
      "---------------------------------------------------\n",
      "     0    1    2    3    4    5    6    7    8    9\n",
      "0  0.0  0.0  0.0  0.0  0.0  0.0  0.0  0.0  0.0  0.0\n",
      "1  0.0  0.0  0.0  0.0  0.0  0.0  0.0  0.0  0.0  0.0\n",
      "2  0.0  0.0  0.0  0.0  0.0  0.0  0.0  0.0  0.0  0.0\n",
      "3  0.0  0.0  0.0  0.0  0.0  0.0  0.0  0.0  0.0  0.0\n",
      "4  0.0  0.0  0.0  0.0  0.0  0.0  0.0  0.0  0.0  NaN\n"
     ]
    }
   ],
   "source": [
    "# 결측값을 포함하는 데이터프레임 생성\n",
    "df1 = df\n",
    "df1[0][2] = None\n",
    "df1[2][0] = None\n",
    "df1[5][2] = None\n",
    "df1[5][3] = None\n",
    "df1[9][4] = None\n",
    "print(df1)\n",
    "\n",
    "# 결측치 치환\n",
    "print('\\n결측값 채우기 회수 제한 (fillna(method=\"ffill\", limit=number)')\n",
    "print(df1.fillna(method = 'ffill', limit = 1)) # 제한을 1로 두어서 [5,3]값이 결측치로 남음\n",
    "print('---------------------------------------------------')\n",
    "print(df1.fillna(method = 'bfill', limit = 1)) # 제한을 1로 두어서 [5,2]값이 결측치로 남음\n",
    "print('---------------------------------------------------')\n",
    "print(df1.fillna(method = 'bfill', limit = 2)) # 제한을 2로 두어서 [5,2]값이 치환됨\n"
   ]
  },
  {
   "cell_type": "markdown",
   "metadata": {},
   "source": [
    "4. 데이터프레임"
   ]
  },
  {
   "cell_type": "code",
   "execution_count": 24,
   "metadata": {},
   "outputs": [
    {
     "name": "stdout",
     "output_type": "stream",
     "text": [
      "     0  ...    9\n",
      "0  0.0  ...  0.0\n",
      "1  0.0  ...  0.0\n",
      "2  NaN  ...  0.0\n",
      "3  0.0  ...  0.0\n",
      "4  0.0  ...  NaN\n",
      "\n",
      "[5 rows x 10 columns]\n",
      "     0    1    2    3    4    5    6    7    8    9\n",
      "0  0.0  0.0  NaN  0.0  0.0  0.0  0.0  0.0  0.0  0.0\n",
      "1  0.0  0.0  0.0  0.0  0.0  0.0  0.0  0.0  0.0  0.0\n",
      "2  NaN  0.0  0.0  0.0  0.0  NaN  0.0  0.0  0.0  0.0\n",
      "3  0.0  0.0  0.0  0.0  0.0  NaN  0.0  0.0  0.0  0.0\n",
      "4  0.0  0.0  0.0  0.0  0.0  0.0  0.0  0.0  0.0  NaN\n",
      "----------------------------------------------------\n",
      "\n",
      "      0    1    2    3    4    5    6    7    8    9\n",
      "0   0.0  0.0  NaN  0.0  0.0  0.0  0.0  0.0  0.0  0.0\n",
      "1   0.0  0.0  0.0  0.0  0.0  0.0  0.0  0.0  0.0  0.0\n",
      "..  ...  ...  ...  ...  ...  ...  ...  ...  ...  ...\n",
      "3   0.0  0.0  0.0  0.0  0.0  NaN  0.0  0.0  0.0  0.0\n",
      "4   0.0  0.0  0.0  0.0  0.0  0.0  0.0  0.0  0.0  NaN\n",
      "\n",
      "[5 rows x 10 columns]\n",
      "     0    1    2    3    4    5    6    7    8    9\n",
      "0  0.0  0.0  NaN  0.0  0.0  0.0  0.0  0.0  0.0  0.0\n",
      "1  0.0  0.0  0.0  0.0  0.0  0.0  0.0  0.0  0.0  0.0\n",
      "2  NaN  0.0  0.0  0.0  0.0  NaN  0.0  0.0  0.0  0.0\n",
      "3  0.0  0.0  0.0  0.0  0.0  NaN  0.0  0.0  0.0  0.0\n",
      "4  0.0  0.0  0.0  0.0  0.0  0.0  0.0  0.0  0.0  NaN\n"
     ]
    }
   ],
   "source": [
    "# 데이터프레임 모든 열 출력 - pd.set_option('display.max_columns', None)\n",
    "pd.options.display.max_columns = 2\n",
    "print(df1)\n",
    "pd.set_option('display.max_columns', None)\n",
    "print(df1)\n",
    "pd.options.display.max_columns = 20 #기본값\n",
    "print('----------------------------------------------------\\n')\n",
    "\n",
    "# 데이터프레임 모든 행 출력 - pd.set_option('display.max_rows', None)\n",
    "pd.options.display.max_rows = 4\n",
    "print(df1)\n",
    "pd.set_option('display.max_rows', None)\n",
    "print(df1)\n",
    "pd.options.display.max_rows = 60 #기본값"
   ]
  },
  {
   "cell_type": "code",
   "execution_count": null,
   "metadata": {},
   "outputs": [],
   "source": []
  }
 ],
 "metadata": {
  "interpreter": {
   "hash": "5155f09c2d9d5ea2358402c611c02d493b1e0d486acc40854c56dc106b5c3d06"
  },
  "kernelspec": {
   "display_name": "Python 3.8.0 64-bit",
   "language": "python",
   "name": "python3"
  },
  "language_info": {
   "codemirror_mode": {
    "name": "ipython",
    "version": 3
   },
   "file_extension": ".py",
   "mimetype": "text/x-python",
   "name": "python",
   "nbconvert_exporter": "python",
   "pygments_lexer": "ipython3",
   "version": "3.8.0"
  },
  "orig_nbformat": 4
 },
 "nbformat": 4,
 "nbformat_minor": 2
}
