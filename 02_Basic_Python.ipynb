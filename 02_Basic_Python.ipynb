{
 "cells": [
  {
   "cell_type": "code",
   "execution_count": null,
   "metadata": {},
   "outputs": [],
   "source": [
    "# 숫자 변수 생성\n",
    "a = 1      # 정수값을 가진 변수 생성\n",
    "b = 2.3    # 실수값을 가진 변수 생성\n",
    "c = 3.2E10 # 지수 표현 방법으로 변수 생성\n",
    "           # 결과는 괄호안의 값과 같다 (3.2 * 10^10)\n",
    "\n",
    "# 문자열 변수 생성\n",
    "d = '문자열1' # 작은 따옴표로 표현가능\n",
    "e = \"문자열2\" # 큰 따옴표로 표현가능\n",
    "\n",
    "# 줄바꿈 후 출력\n",
    "print(d, e, sep='\\n') # 각 변수에 대한 결과값을 줄 바꿈 후 출력\n",
    "print('d\\ne') # 문자열 안에서 \\n을 활용하여 줄바꿈\n",
    "print(1, end='') # 출력 후 다음 값이 바로 뒤에서 출력\n",
    "print(2)"
   ]
  },
  {
   "cell_type": "code",
   "execution_count": 36,
   "metadata": {},
   "outputs": [
    {
     "name": "stdout",
     "output_type": "stream",
     "text": [
      "나는 맛있는 사과를 먹었다.\n",
      "나는 맛있는 사과를 먹었다.\n",
      "나는 맛있는 사과를 먹었다.\n",
      "\n",
      "Error is 98 %.\n",
      "Error is 98 %.\n",
      "Error is 98 %.\n",
      "\n",
      "I ate 10 apples. so I was sick for there days.\n",
      "I ate 10 apples. so I was sick for there days.\n",
      "I ate 10 apples. so I was sick for there days.\n",
      "I ate 10 apples. so I was sick for there days.\n",
      "I ate 10 apples. so I was sick for there days.\n",
      "\n"
     ]
    }
   ],
   "source": [
    "# 문자열 속 변수 설정\n",
    "wo = \"맛있는\"\n",
    "print(\"나는 %s 사과를 먹었다.\"%wo) # 문자열 변수를 print 안에 적용\n",
    "print(\"나는 %s 사과를 먹었다.\" %'맛있는') # 다른 표현 방법 1\n",
    "print(\"나는 {} 사과를 먹었다.\\n\".format('맛있는')) # 다른 표현 방법 2\n",
    "\n",
    "count = 98\n",
    "print(\"Error is %d %%.\"%count) # 숫자 변수를 print 안에 적용\n",
    "print(\"Error is %d %%.\" % 98) # 다른 표현 방법 1 (\"\"안에서 '%변수'사용 후 '%'를 표현하기 위해서 '%%'를 사용)\n",
    "print(\"Error is {} %.\\n\".format(98)) # 다른 표현 방법 2\n",
    "\n",
    "number = 10\n",
    "day = \"there\"\n",
    "print (\"I ate %d apples. so I was sick for %s days.\"%(number, day)) # 문자열, 숫자 모두 사용 (순서 중요)\n",
    "print (\"I ate \"+str(number)+\" apples. so I was sick for \"+day+\" days.\") # 다른 표현 방법 1\n",
    "# 참고 : print 안은 문자열로 구성되어있기에 숫자변수(number)를 표현할때는 str으로 타입전환을 해야 출력됨\n",
    "print (\"I ate {} apples. so I was sick for {} days.\".format(10, 'there')) # 다른 표현 방법 2\n",
    "# 참고 : 위 문장에서 format에 변수를 하나만 입력할 경우 오류 발생\n",
    "# format 안의 값은 하나밖에 없는데 지정되지 않은 두 개의 값을 출력하라는 명령어에 오류가 발생함\n",
    "print (\"I ate {1} apples. so I was sick for {0} days.\".format('there', 10)) # 다른 표현 방법 3\n",
    "print (\"I ate {} apples. so I was sick for {day} days.\\n\".format(10, day= 'there')) # 다른 표현 방법 4"
   ]
  },
  {
   "cell_type": "code",
   "execution_count": 22,
   "metadata": {},
   "outputs": [
    {
     "name": "stdout",
     "output_type": "stream",
     "text": [
      "             ee\n",
      "ee             \n",
      "hi        jane.\n"
     ]
    }
   ],
   "source": [
    "# 문자열 띄어쓰기 - ( ' % 숫자 s ' % ' 문자열 ' )\n",
    "print(\"%15s\"%\"ee\")\n",
    "print(\"%-15s\"%\"ee\")\n",
    "print(\"%-10sjane.\"%\"hi\")"
   ]
  },
  {
   "cell_type": "code",
   "execution_count": 45,
   "metadata": {},
   "outputs": [
    {
     "name": "stdout",
     "output_type": "stream",
     "text": [
      "0\n",
      "2\n",
      "8\n",
      "0\n"
     ]
    }
   ],
   "source": [
    "# 문자열 인덱싱\n",
    "a = \"Life is to short\"\n",
    "print(a.count('b')) # 문자열 중 'b'의 갯수를 출력\n",
    "print(a.count('i')) # 문자열 중 'i'의 갯수를 출력\n",
    "print(a.index('t')) # 문자열 중 't'가 가장 처음으로 나온 위치값 출력 (없으면 오류 발생)\n",
    "print(a.index('L')) # 문자열\":ㅖ*(&ㅒㅠㅎ ) 중 'L'이 가장 처음으로 나온 위치값 출력"
   ]
  },
  {
   "cell_type": "code",
   "execution_count": 3,
   "metadata": {},
   "outputs": [
    {
     "name": "stdout",
     "output_type": "stream",
     "text": [
      "a#b#c#d\n",
      "e$f$g$f\n"
     ]
    }
   ],
   "source": [
    "# 리스트 사용 옵션 - join()\n",
    "list = ['a', 'b', 'c', 'd']\n",
    "result1 = \"#\".join(list)\n",
    "result2 = \"$\".join(['e','f','g','f'])\n",
    "print(result1)\n",
    "print(result2)"
   ]
  },
  {
   "cell_type": "code",
   "execution_count": null,
   "metadata": {},
   "outputs": [],
   "source": []
  }
 ],
 "metadata": {
  "interpreter": {
   "hash": "5155f09c2d9d5ea2358402c611c02d493b1e0d486acc40854c56dc106b5c3d06"
  },
  "kernelspec": {
   "display_name": "Python 3.8.0 64-bit",
   "language": "python",
   "name": "python3"
  },
  "language_info": {
   "codemirror_mode": {
    "name": "ipython",
    "version": 3
   },
   "file_extension": ".py",
   "mimetype": "text/x-python",
   "name": "python",
   "nbconvert_exporter": "python",
   "pygments_lexer": "ipython3",
   "version": "3.8.0"
  },
  "orig_nbformat": 4
 },
 "nbformat": 4,
 "nbformat_minor": 2
}
