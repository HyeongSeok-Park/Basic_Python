{
 "cells": [
  {
   "cell_type": "markdown",
   "metadata": {},
   "source": [
    "1. 기본 파이썬"
   ]
  },
  {
   "cell_type": "code",
   "execution_count": null,
   "metadata": {},
   "outputs": [],
   "source": [
    "# 숫자 변수 생성\n",
    "a = 1      # 정수값을 가진 변수 생성\n",
    "b = 2.3    # 실수값을 가진 변수 생성\n",
    "c = 3.2E10 # 지수 표현 방법으로 변수 생성\n",
    "           # 결과는 괄호안의 값과 같다 (3.2 * 10^10)\n",
    "\n",
    "# 문자열 변수 생성\n",
    "d = '문자열1' # 작은 따옴표로 표현가능\n",
    "e = \"문자열2\" # 큰 따옴표로 표현가능\n",
    "\n",
    "# print 기본 옵션 - 줄바꿈 후 출력\n",
    "print(d, e, sep='\\n') # 각 변수에 대한 결과값을 줄 바꿈 후 출력\n",
    "print('d\\ne') # 문자열 안에서 \\n을 활용하여 줄바꿈\n",
    "print(1, end='') # 출력 후 다음 값이 바로 뒤에서 출력\n",
    "print(2)"
   ]
  },
  {
   "cell_type": "code",
   "execution_count": 36,
   "metadata": {},
   "outputs": [
    {
     "name": "stdout",
     "output_type": "stream",
     "text": [
      "나는 맛있는 사과를 먹었다.\n",
      "나는 맛있는 사과를 먹었다.\n",
      "나는 맛있는 사과를 먹었다.\n",
      "\n",
      "Error is 98 %.\n",
      "Error is 98 %.\n",
      "Error is 98 %.\n",
      "\n",
      "I ate 10 apples. so I was sick for there days.\n",
      "I ate 10 apples. so I was sick for there days.\n",
      "I ate 10 apples. so I was sick for there days.\n",
      "I ate 10 apples. so I was sick for there days.\n",
      "I ate 10 apples. so I was sick for there days.\n",
      "\n"
     ]
    }
   ],
   "source": [
    "# 문자열 속 변수 설정\n",
    "wo = \"맛있는\"\n",
    "print(\"나는 %s 사과를 먹었다.\" %wo) # 문자열 변수를 print 안에 적용\n",
    "print(\"나는 %s 사과를 먹었다.\" %'맛있는') # 다른 표현 방법 1\n",
    "print(\"나는 {} 사과를 먹었다.\\n\".format('맛있는')) # 다른 표현 방법 2\n",
    "\n",
    "count = 98\n",
    "print(\"Error is %d %%.\"%count) # 숫자 변수를 print 안에 적용\n",
    "print(\"Error is %d %%.\" % 98) # 다른 표현 방법 1 (\"\"안에서 '%변수'사용 후 '%'를 표현하기 위해서 '%%'를 사용)\n",
    "print(\"Error is {} %.\\n\".format(98)) # 다른 표현 방법 2\n",
    "\n",
    "number = 10\n",
    "day = \"there\"\n",
    "print (\"I ate %d apples. so I was sick for %s days.\"%(number, day)) # 문자열, 숫자 모두 사용 (순서 중요)\n",
    "print (\"I ate \"+str(number)+\" apples. so I was sick for \"+day+\" days.\") # 다른 표현 방법 1\n",
    "# 참고 : print 안은 문자열로 구성되어있기에 숫자변수(number)를 표현할때는 str으로 타입전환을 해야 출력됨\n",
    "print (\"I ate {} apples. so I was sick for {} days.\".format(10, 'there')) # 다른 표현 방법 2\n",
    "# 참고 : 위 문장에서 format에 변수를 하나만 입력할 경우 오류 발생\n",
    "# format 안의 값은 하나밖에 없는데 지정되지 않은 두 개의 값을 출력하라는 명령어에 오류가 발생함\n",
    "print (\"I ate {1} apples. so I was sick for {0} days.\".format('there', 10)) # 다른 표현 방법 3\n",
    "print (\"I ate {} apples. so I was sick for {day} days.\\n\".format(10, day= 'there')) # 다른 표현 방법 4"
   ]
  },
  {
   "cell_type": "code",
   "execution_count": 5,
   "metadata": {},
   "outputs": [
    {
     "name": "stdout",
     "output_type": "stream",
     "text": [
      "나는 수박을 좋아합니다.\n",
      "john(은)는 사과 1개를 먹습니다.\n",
      "Python(은)는 6글자입니다.\n",
      "대문자로는 PYTHON이고, 소문자로는 python입니다.\n"
     ]
    }
   ],
   "source": [
    "# f-string\n",
    "# 문자열을 포멧팅하기 위한 방법 중 하나 (파이썬 3.6부터 추가됨)\n",
    "print(f'나는 수박을 좋아합니다.')\n",
    "x = 1\n",
    "y = 'john'\n",
    "print(f'{y}(은)는 사과 {x}개를 먹습니다.')\n",
    "word = 'Python'\n",
    "print(f'{word}(은)는 {len(word)}글자입니다.')\n",
    "print(f'대문자로는 {word.upper()}이고, 소문자로는 {word.lower()}입니다.')"
   ]
  },
  {
   "cell_type": "code",
   "execution_count": 22,
   "metadata": {},
   "outputs": [
    {
     "name": "stdout",
     "output_type": "stream",
     "text": [
      "             ee\n",
      "ee             \n",
      "hi        jane.\n"
     ]
    }
   ],
   "source": [
    "# 문자열 띄어쓰기 - ( ' % 숫자 s ' % ' 문자열 ' )\n",
    "print(\"%15s\"%\"ee\")\n",
    "print(\"%-15s\"%\"ee\")\n",
    "print(\"%-10sjane.\"%\"hi\")"
   ]
  },
  {
   "cell_type": "code",
   "execution_count": 4,
   "metadata": {},
   "outputs": [
    {
     "name": "stdout",
     "output_type": "stream",
     "text": [
      "문자열 찾기 - a.count( \"  \" ) / a.index( \"  \" )\n",
      "0\n",
      "2\n",
      "8\n",
      "0\n",
      "\n",
      "문자열 분리 - a.split( \" \" )\n",
      "['Life', 'is', 'to', 'short']\n",
      "['a', 'b', 'c', 'd,e', 'f']\n",
      "['a:b:c:d', 'e:f']\n"
     ]
    }
   ],
   "source": [
    "# 문자열 찾기\n",
    "print('문자열 찾기 - a.count( \"  \" ) / a.index( \"  \" )')\n",
    "a = \"Life is to short\"\n",
    "print(a.count('b')) # 문자열 중 'b'의 갯수를 출력\n",
    "print(a.count('i')) # 문자열 중 'i'의 갯수를 출력\n",
    "print(a.index('t')) # 문자열 중 't'가 가장 처음으로 나온 위치값 출력 (없으면 오류 발생)\n",
    "print(a.index('L')) # 문자열 중 'L'이 가장 처음으로 나온 위치값 출력\n",
    "\n",
    "# 문자열 분리 - a.split( ' ' )\n",
    "print('\\n문자열 분리 - a.split( \" \" )')\n",
    "print(a.split()) # 띄어쓰기를 기준으로 문자열 분리\n",
    "b = 'a:b:c:d,e:f'\n",
    "print(b.split(':')) # 특정 기호를 기준으로 문자열 분리\n",
    "print(b.split(','))"
   ]
  },
  {
   "cell_type": "code",
   "execution_count": 10,
   "metadata": {},
   "outputs": [
    {
     "name": "stdout",
     "output_type": "stream",
     "text": [
      "리스트 내용 삽입 - \" \".join ( a )\n",
      "a#b#c#d\n",
      "e$f$g$f\n",
      "\n",
      "리스트 특정 문자 제거 - a.remove ( )\n",
      "[1, 2, 3, 1, '가', 2, 3, '가']\n",
      "[1, 2, 1, '가', 2, 3, '가']\n",
      "[1, 2, 1, 2, 3, '가']\n",
      "\n",
      "리스트 특정 문자 추출 - a.pop ( )\n",
      "[1, 2, 3, '가', '나', '다']\n",
      "가\n",
      "[1, 2, 3, '나', '다']\n"
     ]
    }
   ],
   "source": [
    "# 리스트 기능\n",
    "print('리스트 내용 삽입 - \" \".join ( a )')\n",
    "list = ['a', 'b', 'c', 'd']\n",
    "result1 = \"#\".join(list)\n",
    "result2 = \"$\".join(['e','f','g','f'])\n",
    "print(result1)\n",
    "print(result2)\n",
    "\n",
    "print('\\n리스트 특정 문자 제거 - a.remove ( )')\n",
    "a = [1,2,3,1,'가',2,3,'가']\n",
    "print(a)\n",
    "a.remove(3) # 처음 오는 3 제거\n",
    "print(a)\n",
    "a.remove('가') # 처음 오는 '가' 제거\n",
    "print(a)\n",
    "\n",
    "print('\\n리스트 특정 문자 추출 - a.pop ( )')\n",
    "b = [1,2,3,'가','나','다']\n",
    "print(b)\n",
    "c = b.pop(3) # 리스트 4번째 값을 추출\n",
    "print(c)\n",
    "print(b) # 위에서 추출되었기에 '가'는 리스트에서 없어짐\n"
   ]
  },
  {
   "cell_type": "code",
   "execution_count": 9,
   "metadata": {},
   "outputs": [
    {
     "name": "stdout",
     "output_type": "stream",
     "text": [
      "   time     value\n",
      "0     0 -0.504371\n",
      "1     1  0.815682\n",
      "2     2  0.572839\n",
      "3     3 -0.333541\n",
      "\n",
      "행 추가\n",
      "   time     value  value2\n",
      "0     0 -0.504371       0\n",
      "1     1  0.815682       1\n",
      "2     2  0.572839       2\n",
      "3     3 -0.333541       3\n",
      "\n",
      "행 합계 추가 - df[  ] = df.sum(axis = 1)\n",
      "   time     value  value2       sum\n",
      "0     0 -0.504371       0 -0.504371\n",
      "1     1  0.815682       1  2.815682\n",
      "2     2  0.572839       2  4.572839\n",
      "3     3 -0.333541       3  5.666459\n",
      "\n",
      "열 합계 추가 - df.loc[  ] = df.sum(axis = 0)\n",
      "      time     value  value2        sum\n",
      "0      0.0 -0.504371     0.0  -0.504371\n",
      "1      1.0  0.815682     1.0   2.815682\n",
      "2      2.0  0.572839     2.0   4.572839\n",
      "3      3.0 -0.333541     3.0   5.666459\n",
      "sum2   6.0  0.550610     6.0  12.550610\n"
     ]
    }
   ],
   "source": [
    "import pandas as pd\n",
    "import numpy as np\n",
    "# 임의의 데이터 프레임 만들기\n",
    "df1 = pd.DataFrame(dict(time = np.arange(4), value = np.random.randn(4)))\n",
    "print(df1)\n",
    "\n",
    "print('\\n행 추가')\n",
    "df1['value2'] = np.arange(4)\n",
    "print(df1)\n",
    "\n",
    "print('\\n행 합계 추가 - df[ ' ' ] = df.sum(axis = 1)')\n",
    "df1['sum'] = df1.sum(axis = 1)\n",
    "print(df1)\n",
    "\n",
    "print('\\n열 합계 추가 - df.loc[ ' ' ] = df.sum(axis = 0)')\n",
    "df1.loc['sum2'] = df1.sum(axis = 0)\n",
    "print(df1)"
   ]
  },
  {
   "cell_type": "code",
   "execution_count": 12,
   "metadata": {},
   "outputs": [
    {
     "name": "stdout",
     "output_type": "stream",
     "text": [
      "(1, 2, 3)\n"
     ]
    }
   ],
   "source": [
    "# 튜플\n",
    "t1 = (1,2,3) # 대괄호가 아닌 소괄호로 튜플 정의 (수정 안됨)\n",
    "print(t1)"
   ]
  },
  {
   "cell_type": "code",
   "execution_count": 25,
   "metadata": {},
   "outputs": [
    {
     "name": "stdout",
     "output_type": "stream",
     "text": [
      "{1: 'a'}\n",
      "===========\n",
      "{1: 'a', 4: 'b'}\n",
      "a\n",
      "b\n",
      "\n",
      "중복된 key값 넣기 - a[4] = \"b\" -> \"c\"\n",
      "{1: 'a', 4: 'c'}\n",
      "\n",
      "딕셔너리 요소 제거 - del a[ ]\n",
      "{1: 'a'}\n"
     ]
    }
   ],
   "source": [
    "# 딕셔너리\n",
    "a = {1: 'a'}\n",
    "print (a)\n",
    "print (\"===========\")\n",
    "a[4] = 'b' # 현재 딕셔너리에 없는 값을 넣게 되면 자동적으로 추가하게 된다.         \n",
    "print(a)\n",
    "print(a[1]) # 'a' 딕셔너리에서 key값 '1'의 value값 출력\n",
    "print(a[4]) # 'a' 딕셔너리에서 key값 '4'의 value값 출력\n",
    "# 참고 : 리스트에서 a[1]은 리스트 값 중 두번째 값을 의미한다.\n",
    "\n",
    "print('\\n중복된 key값 넣기 - a[4] = \"b\" -> \"c\"')\n",
    "a[4] = 'c' # 중복된 값을 넣게 되면 이전에 입력된 값은 삭제된다.\n",
    "print(a)\n",
    "\n",
    "print('\\n딕셔너리 요소 제거 - del a[ ]')\n",
    "del a[4] # key, value값 제거\n",
    "print(a)"
   ]
  },
  {
   "cell_type": "code",
   "execution_count": 32,
   "metadata": {},
   "outputs": [
    {
     "name": "stdout",
     "output_type": "stream",
     "text": [
      "{'h', 'l', 'o', 'e'}\n"
     ]
    },
    {
     "ename": "TypeError",
     "evalue": "'set' object is not subscriptable",
     "output_type": "error",
     "traceback": [
      "\u001b[1;31m---------------------------------------------------------------------------\u001b[0m",
      "\u001b[1;31mTypeError\u001b[0m                                 Traceback (most recent call last)",
      "\u001b[1;32me:\\Git\\SourceTree\\00_Basic_Python\\02_Basic_Python.ipynb Cell 8'\u001b[0m in \u001b[0;36m<module>\u001b[1;34m\u001b[0m\n\u001b[0;32m      <a href='vscode-notebook-cell:/e%3A/Git/SourceTree/00_Basic_Python/02_Basic_Python.ipynb#ch0000013?line=1'>2</a>\u001b[0m s1 \u001b[39m=\u001b[39m \u001b[39mset\u001b[39m(\u001b[39m'\u001b[39m\u001b[39mhelllllllllllllooooooooooo\u001b[39m\u001b[39m'\u001b[39m)\n\u001b[0;32m      <a href='vscode-notebook-cell:/e%3A/Git/SourceTree/00_Basic_Python/02_Basic_Python.ipynb#ch0000013?line=2'>3</a>\u001b[0m \u001b[39mprint\u001b[39m(s1) \u001b[39m# 중복된 값 표시 안함\u001b[39;00m\n\u001b[1;32m----> <a href='vscode-notebook-cell:/e%3A/Git/SourceTree/00_Basic_Python/02_Basic_Python.ipynb#ch0000013?line=3'>4</a>\u001b[0m \u001b[39mprint\u001b[39m(s1[\u001b[39m0\u001b[39;49m])\n",
      "\u001b[1;31mTypeError\u001b[0m: 'set' object is not subscriptable"
     ]
    }
   ],
   "source": [
    "# 집합\n",
    "s1 = set('helllllllllllllooooooooooo')\n",
    "print(s1) # 중복된 값 표시 안함\n",
    "print(s1[0]) # 집합은 순서가 없기에 에러 발생"
   ]
  },
  {
   "cell_type": "code",
   "execution_count": 42,
   "metadata": {},
   "outputs": [
    {
     "name": "stdout",
     "output_type": "stream",
     "text": [
      "교집합\n",
      "{4, 5, 6}\n",
      "\n",
      "합집합\n",
      "{1, 2, 3, 4, 5, 6, 7, 8, 9}\n",
      "{1, 2, 3, 4, 5, 6, 7, 8, 9}\n",
      "\n",
      "집합 간 뺄셈\n",
      "{1, 2, 3}\n"
     ]
    }
   ],
   "source": [
    "# 집합 연산\n",
    "s1 = set ([1,2,3,4,5,6])\n",
    "s2 = set ([4,5,6,7,8,9])\n",
    "print('교집합')\n",
    "s3 = s1&s2\n",
    "print(s3)\n",
    "\n",
    "print('\\n합집합')\n",
    "s4 = s1|s2\n",
    "print(s4)\n",
    "print(s1.union(s2)) # 합집합과 동일은 값을 출력한다.\n",
    "\n",
    "print('\\n집합 간 뺄셈')\n",
    "s5 = s1-s2 \n",
    "print(s5)  # s1에서 s2와의 중복값만 제거된다."
   ]
  },
  {
   "cell_type": "code",
   "execution_count": 45,
   "metadata": {},
   "outputs": [
    {
     "name": "stdout",
     "output_type": "stream",
     "text": [
      "[1, 2, 3]\n",
      "[1, 2, 3]\n",
      "1978525862400\n",
      "1978525862400\n",
      "\n",
      "id를 다르게 설정하는 방법 2가지 - a.copy() / a[:]\n",
      "[1, 2, 3]\n",
      "[1, 2, 3]\n",
      "1978525862400\n",
      "1978526378688\n",
      "1978525781696\n"
     ]
    }
   ],
   "source": [
    "# id값 출력\n",
    "a = [1,2,3]\n",
    "print(a)\n",
    "b = a # id(a)값과 id(b)값이 동일하게 설정된다.\n",
    "print(b)  \n",
    "print(id(a))\n",
    "print(id(b))\n",
    "\n",
    "print('\\nid를 다르게 설정하는 방법 2가지 - a.copy() / a[:]')\n",
    "b = a.copy() # id(a)값과 id(b)값이 다르게 설정된다.\n",
    "c = a[:] # id(a)값과 id(c)값이 다르게 설정된다.\n",
    "print(b)\n",
    "print(c)\n",
    "print(id(a))\n",
    "print(id(b))\n",
    "print(id(c))"
   ]
  },
  {
   "cell_type": "markdown",
   "metadata": {},
   "source": [
    "2. 라이브러리 Numpy"
   ]
  },
  {
   "cell_type": "code",
   "execution_count": 3,
   "metadata": {},
   "outputs": [
    {
     "name": "stdout",
     "output_type": "stream",
     "text": [
      "\"0\"값을 가지는 리스트 만들기 - np.zeros( a )\n",
      "[0. 0. 0. 0. 0.]\n"
     ]
    }
   ],
   "source": [
    "# numpy 라이브러리 불러오기\n",
    "import numpy as np\n",
    "print('\"0\"값을 가지는 리스트 만들기 - np.zeros( a )')\n",
    "n = np.zeros(5) # 5개의 0값을 가지는 리스트\n",
    "print(n)"
   ]
  },
  {
   "cell_type": "markdown",
   "metadata": {},
   "source": [
    "3. 라이브러리 Pandas"
   ]
  },
  {
   "cell_type": "code",
   "execution_count": 4,
   "metadata": {},
   "outputs": [
    {
     "name": "stdout",
     "output_type": "stream",
     "text": [
      "\"0\"값을 가지는 데이터프레임 만들기 - pd.DataFrame()\n",
      "   0  1  2  3  4  5  6  7  8  9\n",
      "0  0  0  0  0  0  0  0  0  0  0\n",
      "1  0  0  0  0  0  0  0  0  0  0\n",
      "2  0  0  0  0  0  0  0  0  0  0\n",
      "3  0  0  0  0  0  0  0  0  0  0\n",
      "4  0  0  0  0  0  0  0  0  0  0\n",
      "\n",
      "numpy 라이브러리를 사용하여 위와 같은 형태의 데이터프레임 만들기\n",
      "     0    1    2    3    4    5    6    7    8    9\n",
      "0  0.0  0.0  0.0  0.0  0.0  0.0  0.0  0.0  0.0  0.0\n",
      "1  0.0  0.0  0.0  0.0  0.0  0.0  0.0  0.0  0.0  0.0\n",
      "2  0.0  0.0  0.0  0.0  0.0  0.0  0.0  0.0  0.0  0.0\n",
      "3  0.0  0.0  0.0  0.0  0.0  0.0  0.0  0.0  0.0  0.0\n",
      "4  0.0  0.0  0.0  0.0  0.0  0.0  0.0  0.0  0.0  0.0\n"
     ]
    }
   ],
   "source": [
    "# 데이터프레임 (Type : DataFrame())\n",
    "import pandas as pd\n",
    "\n",
    "print('\"0\"값을 가지는 데이터프레임 만들기 - pd.DataFrame()')\n",
    "rows = 5\n",
    "columns_1 = 10\n",
    "df = pd.DataFrame(0, index=range(rows), columns=range(columns_1))\n",
    "print(df)\n",
    "\n",
    "print('\\nnumpy 라이브러리를 사용하여 위와 같은 형태의 데이터프레임 만들기')\n",
    "df = pd.DataFrame(np.zeros((5,10)))\n",
    "print(df)"
   ]
  },
  {
   "cell_type": "code",
   "execution_count": 14,
   "metadata": {},
   "outputs": [
    {
     "name": "stdout",
     "output_type": "stream",
     "text": [
      "     0    1    2    3    4    5    6    7    8    9\n",
      "0  0.0  0.0  NaN  0.0  0.0  0.0  0.0  0.0  0.0  0.0\n",
      "1  0.0  0.0  0.0  0.0  0.0  0.0  0.0  0.0  0.0  0.0\n",
      "2  NaN  0.0  0.0  0.0  0.0  NaN  0.0  0.0  0.0  0.0\n",
      "3  0.0  0.0  0.0  0.0  0.0  NaN  0.0  0.0  0.0  0.0\n",
      "4  0.0  0.0  0.0  0.0  0.0  0.0  0.0  0.0  0.0  NaN\n",
      "\n",
      "앞/뒤 방향으로 결측값 채우는 회수를 제한하기 (fillna(method=\"ffill\", limit=number)\n",
      "     0    1    2    3    4    5    6    7    8    9\n",
      "0  0.0  0.0  NaN  0.0  0.0  0.0  0.0  0.0  0.0  0.0\n",
      "1  0.0  0.0  0.0  0.0  0.0  0.0  0.0  0.0  0.0  0.0\n",
      "2  0.0  0.0  0.0  0.0  0.0  0.0  0.0  0.0  0.0  0.0\n",
      "3  0.0  0.0  0.0  0.0  0.0  NaN  0.0  0.0  0.0  0.0\n",
      "4  0.0  0.0  0.0  0.0  0.0  0.0  0.0  0.0  0.0  0.0\n",
      "---------------------------------------------------\n",
      "     0    1    2    3    4    5    6    7    8    9\n",
      "0  0.0  0.0  0.0  0.0  0.0  0.0  0.0  0.0  0.0  0.0\n",
      "1  0.0  0.0  0.0  0.0  0.0  0.0  0.0  0.0  0.0  0.0\n",
      "2  0.0  0.0  0.0  0.0  0.0  NaN  0.0  0.0  0.0  0.0\n",
      "3  0.0  0.0  0.0  0.0  0.0  0.0  0.0  0.0  0.0  0.0\n",
      "4  0.0  0.0  0.0  0.0  0.0  0.0  0.0  0.0  0.0  NaN\n",
      "---------------------------------------------------\n",
      "     0    1    2    3    4    5    6    7    8    9\n",
      "0  0.0  0.0  0.0  0.0  0.0  0.0  0.0  0.0  0.0  0.0\n",
      "1  0.0  0.0  0.0  0.0  0.0  0.0  0.0  0.0  0.0  0.0\n",
      "2  0.0  0.0  0.0  0.0  0.0  0.0  0.0  0.0  0.0  0.0\n",
      "3  0.0  0.0  0.0  0.0  0.0  0.0  0.0  0.0  0.0  0.0\n",
      "4  0.0  0.0  0.0  0.0  0.0  0.0  0.0  0.0  0.0  NaN\n"
     ]
    }
   ],
   "source": [
    "# 결측값을 포함하는 데이터프레임 생성\n",
    "df1 = df\n",
    "df1[0][2] = None\n",
    "df1[2][0] = None\n",
    "df1[5][2] = None\n",
    "df1[5][3] = None\n",
    "df1[9][4] = None\n",
    "print(df1)\n",
    "\n",
    "# 결측치 치환\n",
    "print('\\n결측값 채우기 회수 제한 (fillna(method=\"ffill\", limit=number)')\n",
    "print(df1.fillna(method = 'ffill', limit = 1)) # 제한을 1로 두어서 [5,3]값이 결측치로 남음\n",
    "print('---------------------------------------------------')\n",
    "print(df1.fillna(method = 'bfill', limit = 1)) # 제한을 1로 두어서 [5,2]값이 결측치로 남음\n",
    "print('---------------------------------------------------')\n",
    "print(df1.fillna(method = 'bfill', limit = 2)) # 제한을 2로 두어서 [5,2]값이 치환됨\n"
   ]
  }
 ],
 "metadata": {
  "interpreter": {
   "hash": "5155f09c2d9d5ea2358402c611c02d493b1e0d486acc40854c56dc106b5c3d06"
  },
  "kernelspec": {
   "display_name": "Python 3.8.0 64-bit",
   "language": "python",
   "name": "python3"
  },
  "language_info": {
   "codemirror_mode": {
    "name": "ipython",
    "version": 3
   },
   "file_extension": ".py",
   "mimetype": "text/x-python",
   "name": "python",
   "nbconvert_exporter": "python",
   "pygments_lexer": "ipython3",
   "version": "3.8.0"
  },
  "orig_nbformat": 4
 },
 "nbformat": 4,
 "nbformat_minor": 2
}
