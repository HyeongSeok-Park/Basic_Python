{
 "cells": [
  {
   "cell_type": "markdown",
   "metadata": {},
   "source": [
    "Introduction"
   ]
  },
  {
   "cell_type": "code",
   "execution_count": null,
   "metadata": {},
   "outputs": [],
   "source": [
    "# I have included what I studied about Python, which I first learned as a non-major.\n",
    "# This code is a very basic things, I wrote it for review."
   ]
  },
  {
   "cell_type": "code",
   "execution_count": null,
   "metadata": {},
   "outputs": [],
   "source": [
    "a = 1      #Integer variable declaration\n",
    "a = 2.3    #float-type variable declaration\n",
    "a = 3.2E10 #Exponential expression method\n",
    "           #The result is same as (3.2 * 10^10)"
   ]
  }
 ],
 "metadata": {
  "language_info": {
   "name": "python"
  },
  "orig_nbformat": 4
 },
 "nbformat": 4,
 "nbformat_minor": 2
}
