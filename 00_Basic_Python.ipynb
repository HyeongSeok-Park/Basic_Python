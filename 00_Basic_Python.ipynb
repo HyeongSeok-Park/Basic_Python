{
 "cells": [
  {
   "cell_type": "markdown",
   "metadata": {},
   "source": [
    "1. 숫자 변수"
   ]
  },
  {
   "cell_type": "code",
   "execution_count": 1,
   "metadata": {},
   "outputs": [],
   "source": [
    "# 숫자 변수 생성\n",
    "a = 1      # 정수값을 가진 변수 생성\n",
    "b = 2.3    # 실수값을 가진 변수 생성\n",
    "c = 3.2E10 # 지수 표현 방법으로 변수 생성\n",
    "           # 결과는 괄호안의 값과 같다 (3.2 * 10^10)\n",
    "\n",
    "# 문자열 변수 생성\n",
    "d = '문자열1' # 작은 따옴표로 표현가능\n",
    "e = \"문자열2\" # 큰 따옴표로 표현가능\n",
    "\n",
    "# 줄바꿈 후 출력\n",
    "print(d, e, sep='\\n') # 각 변수에 대한 결과값을 줄 바꿈 후 출력\n",
    "print('d\\ne') # 문자열 안에서 \\n을 활용하여 줄바꿈\n",
    "print(1, end='') # 출력 후 다음 값이 바로 뒤에서 출력\n",
    "print(2)"
   ]
  },
  {
   "cell_type": "markdown",
   "metadata": {},
   "source": [
    "2. 문자열 변수"
   ]
  },
  {
   "cell_type": "code",
   "execution_count": 2,
   "metadata": {},
   "outputs": [
    {
     "name": "stdout",
     "output_type": "stream",
     "text": [
      "문자열1\n",
      "문자열2\n",
      "d\n",
      "e\n",
      "12\n",
      "문자열1문자열2\n",
      "문자열1문자열1\n"
     ]
    }
   ],
   "source": [
    "# 문자열 변수 생성\n",
    "d = '문자열1' # 작은 따옴표로 표현가능\n",
    "e = \"문자열2\" # 큰 따옴표로 표현가능\n",
    "# 참고 : 문자열 안에 작은따옴표나 큰따옴표가 있다면, 전체를 감싸는 따옴표는 반대대는 것을 사용하여 작성한다\n",
    "\n",
    "# 줄바꿈 후 출력\n",
    "print(d, e, sep='\\n') # 각 변수에 대한 결과값을 줄 바꿈 후 출력\n",
    "print('d\\ne') # 문자열 안에서 \\n을 활용하여 줄바꿈\n",
    "print(1, end='') # 출력 후 다음 값이 바로 뒤에서 출력\n",
    "print(2)\n",
    "print(d+e) # 문자열변수끼리 덧셈 가능\n",
    "print(d*2) # 문자열변수 곱셈 가능"
   ]
  },
  {
   "cell_type": "code",
   "execution_count": 3,
   "metadata": {},
   "outputs": [
    {
     "name": "stdout",
     "output_type": "stream",
     "text": [
      "Life is too short, You need Python\n",
      "34\n",
      "o\n",
      "n\n",
      "P\n",
      "y\n",
      "Li\n",
      "Python\n",
      "Life is too short, You need Python\n",
      " is too short, You need Python\n",
      "Life is t\n"
     ]
    }
   ],
   "source": [
    "# 문자열 슬라이싱\n",
    "a = \"Life is too short, You need Python\"\n",
    "print(a)\n",
    "print(len(a)) # 변수 길이 출력\n",
    "print(a[10]) # 첫번째는 0 부터 시작\n",
    "print(a[-1]) # 뒤에서 시작시 -1 부터 시작\n",
    "print(a[-6])\n",
    "print(a[29])\n",
    "print(a[0:2])\n",
    "print(a[-6:34])\n",
    "print(a[-35:34])\n",
    "print (a[4:]) # 뒷자리 공란은 마지막 인덱스를 의미\n",
    "print (a[:9]) # 앞자리 공란은 첫번째 인덱스를 의미"
   ]
  },
  {
   "cell_type": "code",
   "execution_count": null,
   "metadata": {},
   "outputs": [],
   "source": []
  },
  {
   "cell_type": "code",
   "execution_count": null,
   "metadata": {},
   "outputs": [],
   "source": []
  },
  {
   "cell_type": "code",
   "execution_count": null,
   "metadata": {},
   "outputs": [],
   "source": []
  },
  {
   "cell_type": "code",
   "execution_count": null,
   "metadata": {},
   "outputs": [],
   "source": []
  },
  {
   "cell_type": "code",
   "execution_count": null,
   "metadata": {},
   "outputs": [],
   "source": []
  }
 ],
 "metadata": {
  "interpreter": {
   "hash": "5155f09c2d9d5ea2358402c611c02d493b1e0d486acc40854c56dc106b5c3d06"
  },
  "kernelspec": {
   "display_name": "Python 3.8.0 64-bit",
   "language": "python",
   "name": "python3"
  },
  "language_info": {
   "codemirror_mode": {
    "name": "ipython",
    "version": 3
   },
   "file_extension": ".py",
   "mimetype": "text/x-python",
   "name": "python",
   "nbconvert_exporter": "python",
   "pygments_lexer": "ipython3",
   "version": "3.8.0"
  },
  "orig_nbformat": 4
 },
 "nbformat": 4,
 "nbformat_minor": 2
}
