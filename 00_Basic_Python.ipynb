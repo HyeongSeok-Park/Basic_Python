{
 "cells": [
  {
   "cell_type": "code",
   "execution_count": 1,
   "metadata": {},
   "outputs": [],
   "source": [
    "# 숫자 변수 생성\n",
    "a = 1      # 정수값을 가진 변수 생성\n",
    "b = 2.3    # 실수값을 가진 변수 생성\n",
    "c = 3.2E10 # 지수 표현 방법으로 변수 생성\n",
    "           # 결과는 괄호안의 값과 같다 (3.2 * 10^10)\n",
    "\n",
    "# 문자열 변수 생성\n",
    "d = '문자열1' # 작은 따옴표로 표현가능\n",
    "e = \"문자열2\" # 큰 따옴표로 표현가능\n",
    "\n",
    "# 줄바꿈 후 출력\n",
    "print(d, e, sep='\\n') # 각 변수에 대한 결과값을 줄 바꿈 후 출력\n",
    "print('d\\ne') # 문자열 안에서 \\n을 활용하여 줄바꿈\n",
    "print(1, end='') # 출력 후 다음 값이 바로 뒤에서 출력\n",
    "print(2)"
   ]
  },
  {
   "cell_type": "code",
   "execution_count": 7,
   "metadata": {},
   "outputs": [
    {
     "name": "stdout",
     "output_type": "stream",
     "text": [
      "문자열1\n",
      "문자열2\n",
      "d\n",
      "e\n",
      "12\n"
     ]
    }
   ],
   "source": [
    "# 문자열 변수 생성\n",
    "d = '문자열1' # 작은 따옴표로 표현가능\n",
    "e = \"문자열2\" # 큰 따옴표로 표현가능\n",
    "\n",
    "# 줄바꿈 후 출력\n",
    "print(d, e, sep='\\n') # 각 변수에 대한 결과값을 줄 바꿈 후 출력\n",
    "print('d\\ne') # 문자열 안에서 \\n을 활용하여 줄바꿈\n",
    "print(1, end='') # 출력 후 다음 값이 바로 뒤에서 출력\n",
    "print(2)"
   ]
  },
  {
   "cell_type": "code",
   "execution_count": null,
   "metadata": {},
   "outputs": [],
   "source": []
  },
  {
   "cell_type": "code",
   "execution_count": null,
   "metadata": {},
   "outputs": [],
   "source": []
  },
  {
   "cell_type": "code",
   "execution_count": null,
   "metadata": {},
   "outputs": [],
   "source": []
  },
  {
   "cell_type": "code",
   "execution_count": null,
   "metadata": {},
   "outputs": [],
   "source": []
  }
 ],
 "metadata": {
  "interpreter": {
   "hash": "5155f09c2d9d5ea2358402c611c02d493b1e0d486acc40854c56dc106b5c3d06"
  },
  "kernelspec": {
   "display_name": "Python 3.8.0 64-bit",
   "language": "python",
   "name": "python3"
  },
  "language_info": {
   "codemirror_mode": {
    "name": "ipython",
    "version": 3
   },
   "file_extension": ".py",
   "mimetype": "text/x-python",
   "name": "python",
   "nbconvert_exporter": "python",
   "pygments_lexer": "ipython3",
   "version": "3.8.0"
  },
  "orig_nbformat": 4
 },
 "nbformat": 4,
 "nbformat_minor": 2
}
